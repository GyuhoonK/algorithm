{
 "cells": [
  {
   "cell_type": "code",
   "execution_count": null,
   "metadata": {},
   "outputs": [],
   "source": [
    "import sys\n",
    "from collections import deque\n",
    "input = sys.stdin.readline\n",
    "N = int(input().strip()) # Number of Nodes\n",
    "start, end = map(int, input().strip().split()) # Source, Destination\n",
    "M = int(input().strip()) # Number of Edges\n",
    "NODE = []\n",
    "for _ in range(N+1): # append (N+!) lists to use index as node number\n",
    "    NODE.append([])\n",
    "for _ in range(M):\n",
    "    p, q = map(int, input().strip().split())\n",
    "    NODE[p].append(q)\n",
    "    NODE[q].append(p)\n",
    "\n",
    "cnt = 0\n",
    "VISIT = [1 for _ in range(N+1)]\n",
    "token = False\n",
    "\n",
    "def dfs(node, dest):\n",
    "    global cnt, token\n",
    "    if dest == node :\n",
    "        token = True\n",
    "        return\n",
    "    if VISIT[node] == False :\n",
    "        VISIT[node] = True\n",
    "        cnt += 1\n",
    "        for next_node in NODE[node]:\n",
    "            dfs(next_node, dest)\n",
    "            \n",
    "def bfs(node, dest):\n",
    "    global cnt, token\n",
    "    count = 1\n",
    "    stack = deque()\n",
    "    stack.append(node)\n",
    "    while len(stack) > 0:\n",
    "        current = stack[0]\n",
    "        \n",
    "        for next_node in NODE[current]:\n",
    "            if VISIT[next_node] == 1 : # Not Visited\n",
    "                stack.append(next_node)\n",
    "                VISIT[next_node] = VISIT[current] + 1\n",
    "                if next_node == dest :\n",
    "                    token = True\n",
    "                    return\n",
    "        stack.popleft() # remove current node\n",
    "\n",
    "#dfs(start, end)\n",
    "bfs(start, end)\n",
    "if token:\n",
    "    print(VISIT[end] - 1)\n",
    "else : print(-1)"
   ]
  },
  {
   "cell_type": "markdown",
   "metadata": {},
   "source": [
    "# BFS\n",
    "- 먼저 그림을 그려보고 DFS인지 BFS인지 판단할 것.\n",
    "- VISIT이 항상 0 / False에서 시작할 필요는 없다. <b>유연한 사고</b>\n",
    "<br>\n",
    "\n"
   ]
  }
 ],
 "metadata": {
  "kernelspec": {
   "display_name": "Python 3",
   "language": "python",
   "name": "python3"
  },
  "language_info": {
   "codemirror_mode": {
    "name": "ipython",
    "version": 3
   },
   "file_extension": ".py",
   "mimetype": "text/x-python",
   "name": "python",
   "nbconvert_exporter": "python",
   "pygments_lexer": "ipython3",
   "version": "3.6.9"
  }
 },
 "nbformat": 4,
 "nbformat_minor": 2
}
