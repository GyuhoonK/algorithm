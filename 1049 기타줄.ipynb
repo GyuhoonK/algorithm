{
 "cells": [
  {
   "cell_type": "code",
   "execution_count": null,
   "metadata": {},
   "outputs": [],
   "source": [
    "import sys\n",
    "input = sys.stdin.readline\n",
    "\n",
    "n, m = map(int, input().strip().split())\n",
    "package = []\n",
    "one = []\n",
    "for i in range(m):\n",
    "    a, b = map(int, input().strip().split())\n",
    "    package.append(a)\n",
    "    one.append(b)\n",
    "package.sort()\n",
    "one.sort()\n",
    "\n",
    "package_price = package[0]/6\n",
    "if package_price > one[0]:\n",
    "    print(one[0] * n)\n",
    "else :\n",
    "    ans = 0\n",
    "    while n >= 6:\n",
    "        ans += package[0]\n",
    "        n -= 6\n",
    "    if n * one[0] < package[0]:\n",
    "        ans += n * one[0]\n",
    "    else : ans += package[0]\n",
    "    print(ans)"
   ]
  }
 ],
 "metadata": {
  "kernelspec": {
   "display_name": "Python 3",
   "language": "python",
   "name": "python3"
  },
  "language_info": {
   "codemirror_mode": {
    "name": "ipython",
    "version": 3
   },
   "file_extension": ".py",
   "mimetype": "text/x-python",
   "name": "python",
   "nbconvert_exporter": "python",
   "pygments_lexer": "ipython3",
   "version": "3.6.9"
  }
 },
 "nbformat": 4,
 "nbformat_minor": 2
}
