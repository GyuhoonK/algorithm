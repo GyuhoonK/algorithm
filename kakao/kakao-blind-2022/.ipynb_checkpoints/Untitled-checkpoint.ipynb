{
 "cells": [
  {
   "cell_type": "code",
   "execution_count": 233,
   "metadata": {
    "ExecuteTime": {
     "end_time": "2021-09-25T07:19:55.542695Z",
     "start_time": "2021-09-25T07:19:55.540315Z"
    }
   },
   "outputs": [],
   "source": [
    "import requests\n",
    "import json\n",
    "import pandas as pd \n",
    "import numpy as np\n",
    "from collections import defaultdict\n",
    "import random"
   ]
  },
  {
   "cell_type": "code",
   "execution_count": 3,
   "metadata": {
    "ExecuteTime": {
     "end_time": "2021-09-25T05:26:11.213972Z",
     "start_time": "2021-09-25T05:26:11.211637Z"
    }
   },
   "outputs": [],
   "source": [
    "x_auth_token = \"f5a4370d154f58a4b668798ebf98da56\"\n",
    "url = \"https://huqeyhi95c.execute-api.ap-northeast-2.amazonaws.com/prod\""
   ]
  },
  {
   "cell_type": "code",
   "execution_count": 4,
   "metadata": {
    "ExecuteTime": {
     "end_time": "2021-09-25T05:26:51.827721Z",
     "start_time": "2021-09-25T05:26:51.825113Z"
    }
   },
   "outputs": [],
   "source": [
    "headers = {\n",
    "    \"X-Auth-Token\" : x_auth_token,\n",
    "    \"Content-Type\" : \"application/json\"\n",
    "}"
   ]
  },
  {
   "cell_type": "code",
   "execution_count": 12,
   "metadata": {
    "ExecuteTime": {
     "end_time": "2021-09-25T05:29:35.798983Z",
     "start_time": "2021-09-25T05:29:35.795995Z"
    }
   },
   "outputs": [],
   "source": [
    "def startProb(url, prob, headers = {\"X-Auth-Token\" : x_auth_token,\"Content-Type\" : \"application/json\"}):\n",
    "    start_url = url + '/start'\n",
    "    params = {\"problem\" : prob}\n",
    "    res = requests.post(start_url, headers = headers, params = params)\n",
    "    return res.json()['auth_key']"
   ]
  },
  {
   "cell_type": "code",
   "execution_count": 119,
   "metadata": {
    "ExecuteTime": {
     "end_time": "2021-09-25T06:04:53.763598Z",
     "start_time": "2021-09-25T06:04:53.760911Z"
    }
   },
   "outputs": [],
   "source": [
    "def getWaitLine(url, auth_key):\n",
    "    headers = {'Authorization' : auth_key,\n",
    "              'Content-Type' : 'application/json'}\n",
    "    res = requests.get(url + '/waiting_line', headers = headers)\n",
    "    return res.json()['waiting_line']"
   ]
  },
  {
   "cell_type": "code",
   "execution_count": 102,
   "metadata": {
    "ExecuteTime": {
     "end_time": "2021-09-25T05:58:05.117929Z",
     "start_time": "2021-09-25T05:58:04.909911Z"
    }
   },
   "outputs": [
    {
     "data": {
      "text/plain": [
       "[{'taken': 23, 'win': 4, 'lose': 26}]"
      ]
     },
     "execution_count": 102,
     "metadata": {},
     "output_type": "execute_result"
    }
   ],
   "source": [
    "def getGameResult(url, auth_key):\n",
    "    headers = {'Authorization' : auth_key,\n",
    "              'Content-Type' : 'application/json'}\n",
    "    res = requests.get(url + '/game_result', headers = headers)\n",
    "    return res.json()['game_result']\n",
    "getGameResult(url, auth_key)"
   ]
  },
  {
   "cell_type": "code",
   "execution_count": 68,
   "metadata": {
    "ExecuteTime": {
     "end_time": "2021-09-25T05:50:27.260756Z",
     "start_time": "2021-09-25T05:50:27.258048Z"
    }
   },
   "outputs": [],
   "source": [
    "def getUserInfo(url, auth_key):\n",
    "    headers = {'Authorization' : auth_key,\n",
    "              'Content-Type' : 'application/json'}\n",
    "    res = requests.get(url + '/user_info', headers = headers)\n",
    "    return res.json()['user_info']"
   ]
  },
  {
   "cell_type": "code",
   "execution_count": 44,
   "metadata": {
    "ExecuteTime": {
     "end_time": "2021-09-25T05:45:22.739921Z",
     "start_time": "2021-09-25T05:45:22.652537Z"
    }
   },
   "outputs": [
    {
     "data": {
      "text/plain": [
       "{'status': 'ready', 'time': 4}"
      ]
     },
     "execution_count": 44,
     "metadata": {},
     "output_type": "execute_result"
    }
   ],
   "source": [
    "def putMatch(url, auth_key, pairs):\n",
    "    headers = {'Authorization' : auth_key,\n",
    "              'Content-Type' : 'application/json'}\n",
    "    params = {\n",
    "        \"pairs\" : pairs\n",
    "    }\n",
    "    res = requests.put(url + '/match', headers = headers, data = json.dumps(params))\n",
    "    return res.json()\n",
    "\n",
    "putMatch(url, auth_key, [])"
   ]
  },
  {
   "cell_type": "code",
   "execution_count": 38,
   "metadata": {
    "ExecuteTime": {
     "end_time": "2021-09-25T05:39:36.959698Z",
     "start_time": "2021-09-25T05:39:36.863321Z"
    }
   },
   "outputs": [
    {
     "data": {
      "text/plain": [
       "{'status': 'ready'}"
      ]
     },
     "execution_count": 38,
     "metadata": {},
     "output_type": "execute_result"
    }
   ],
   "source": [
    "def putChangeGrade(url, auth_key, commands):\n",
    "    headers = {'Authorization' : auth_key,\n",
    "              'Content-Type' : 'application/json'}\n",
    "    params = {\n",
    "        \"commands\" : commands\n",
    "    }\n",
    "    res = requests.put(url + '/change_grade', headers = headers, data = json.dumps(params))\n",
    "\n",
    "    return res.json()\n",
    "putChangeGrade(url, auth_key, [{\"id\" : 1, \"grade\" : 1900},])"
   ]
  },
  {
   "cell_type": "code",
   "execution_count": 39,
   "metadata": {
    "ExecuteTime": {
     "end_time": "2021-09-25T05:40:21.107169Z",
     "start_time": "2021-09-25T05:40:21.015095Z"
    }
   },
   "outputs": [
    {
     "data": {
      "text/plain": [
       "{'message': '종료된 이후 score 조회가 가능합니다.'}"
      ]
     },
     "execution_count": 39,
     "metadata": {},
     "output_type": "execute_result"
    }
   ],
   "source": [
    "def getScore(url, auth_key):\n",
    "    headers = {'Authorization' : auth_key,\n",
    "              'Content-Type' : 'application/json'}\n",
    "    res = requests.get(url + '/score', headers = headers)\n",
    "    return res.json()\n",
    "getScore(url, auth_key)"
   ]
  },
  {
   "cell_type": "code",
   "execution_count": 177,
   "metadata": {
    "ExecuteTime": {
     "end_time": "2021-09-25T06:45:28.892086Z",
     "start_time": "2021-09-25T06:45:28.829569Z"
    },
    "scrolled": true
   },
   "outputs": [
    {
     "data": {
      "text/plain": [
       "[{'id': 1, 'grade': 26},\n",
       " {'id': 2, 'grade': 26},\n",
       " {'id': 3, 'grade': 23},\n",
       " {'id': 4, 'grade': 25},\n",
       " {'id': 5, 'grade': 26},\n",
       " {'id': 6, 'grade': 17},\n",
       " {'id': 7, 'grade': 24},\n",
       " {'id': 8, 'grade': 26},\n",
       " {'id': 9, 'grade': 25},\n",
       " {'id': 10, 'grade': 29},\n",
       " {'id': 11, 'grade': 21},\n",
       " {'id': 12, 'grade': 29},\n",
       " {'id': 13, 'grade': 30},\n",
       " {'id': 14, 'grade': 28},\n",
       " {'id': 15, 'grade': 26},\n",
       " {'id': 16, 'grade': 19},\n",
       " {'id': 17, 'grade': 24},\n",
       " {'id': 18, 'grade': 29},\n",
       " {'id': 19, 'grade': 19},\n",
       " {'id': 20, 'grade': 30},\n",
       " {'id': 21, 'grade': 23},\n",
       " {'id': 22, 'grade': 21},\n",
       " {'id': 23, 'grade': 29},\n",
       " {'id': 24, 'grade': 30},\n",
       " {'id': 25, 'grade': 28},\n",
       " {'id': 26, 'grade': 25},\n",
       " {'id': 27, 'grade': 28},\n",
       " {'id': 28, 'grade': 26},\n",
       " {'id': 29, 'grade': 29},\n",
       " {'id': 30, 'grade': 30}]"
      ]
     },
     "execution_count": 177,
     "metadata": {},
     "output_type": "execute_result"
    }
   ],
   "source": [
    "getUserInfo(url, auth_key)"
   ]
  },
  {
   "cell_type": "code",
   "execution_count": 236,
   "metadata": {
    "ExecuteTime": {
     "end_time": "2021-09-25T07:20:14.233630Z",
     "start_time": "2021-09-25T07:20:14.230312Z"
    }
   },
   "outputs": [
    {
     "data": {
      "text/plain": [
       "2"
      ]
     },
     "execution_count": 236,
     "metadata": {},
     "output_type": "execute_result"
    }
   ],
   "source": []
  },
  {
   "cell_type": "code",
   "execution_count": 178,
   "metadata": {
    "ExecuteTime": {
     "end_time": "2021-09-25T06:46:17.636123Z",
     "start_time": "2021-09-25T06:46:17.630983Z"
    }
   },
   "outputs": [
    {
     "data": {
      "text/plain": [
       "[{'id': 1, 'grade': 26},\n",
       " {'id': 2, 'grade': 26},\n",
       " {'id': 3, 'grade': 23},\n",
       " {'id': 4, 'grade': 25},\n",
       " {'id': 5, 'grade': 26},\n",
       " {'id': 6, 'grade': 17},\n",
       " {'id': 7, 'grade': 24},\n",
       " {'id': 8, 'grade': 26},\n",
       " {'id': 9, 'grade': 25},\n",
       " {'id': 10, 'grade': 29},\n",
       " {'id': 11, 'grade': 21},\n",
       " {'id': 12, 'grade': 29},\n",
       " {'id': 13, 'grade': 30},\n",
       " {'id': 14, 'grade': 28},\n",
       " {'id': 15, 'grade': 26},\n",
       " {'id': 16, 'grade': 19},\n",
       " {'id': 17, 'grade': 24},\n",
       " {'id': 18, 'grade': 29},\n",
       " {'id': 19, 'grade': 19},\n",
       " {'id': 20, 'grade': 30},\n",
       " {'id': 21, 'grade': 23},\n",
       " {'id': 22, 'grade': 21},\n",
       " {'id': 23, 'grade': 29},\n",
       " {'id': 24, 'grade': 30},\n",
       " {'id': 25, 'grade': 28},\n",
       " {'id': 26, 'grade': 25},\n",
       " {'id': 27, 'grade': 28},\n",
       " {'id': 28, 'grade': 26},\n",
       " {'id': 29, 'grade': 29},\n",
       " {'id': 30, 'grade': 30}]"
      ]
     },
     "execution_count": 178,
     "metadata": {},
     "output_type": "execute_result"
    }
   ],
   "source": [
    "commands"
   ]
  },
  {
   "cell_type": "code",
   "execution_count": 159,
   "metadata": {
    "ExecuteTime": {
     "end_time": "2021-09-25T06:31:12.196312Z",
     "start_time": "2021-09-25T06:31:12.191561Z"
    }
   },
   "outputs": [],
   "source": [
    "def findMatch(wait_line):\n",
    "    pairs = []\n",
    "    userGrade = getUserInfo(url, auth_key)\n",
    "    wait_users = [line['id'] for line in wait_line]\n",
    "    while wait_users : \n",
    "        diff = 99999999\n",
    "        user1 = wait_users[0]\n",
    "        if len(wait_users) == 1 :\n",
    "            break\n",
    "        fight = 0\n",
    "        grade1 = userGrade[user1-1]['grade']\n",
    "        for user2 in wait_users :\n",
    "            if user2 == user1 : continue\n",
    "            grade2 = userGrade[user2-1]['grade']\n",
    "            if abs(grade1-grade2) < diff :\n",
    "                diff = abs(grade1-grade2)\n",
    "                fight = user2\n",
    "        pairs.append([user1, fight])\n",
    "        wait_users.remove(user1)\n",
    "        wait_users.remove(fight)\n",
    "    return pairs"
   ]
  },
  {
   "cell_type": "code",
   "execution_count": 237,
   "metadata": {
    "ExecuteTime": {
     "end_time": "2021-09-25T07:20:28.532586Z",
     "start_time": "2021-09-25T07:20:28.519637Z"
    }
   },
   "outputs": [
    {
     "data": {
      "text/plain": [
       "{1: {'win': [20, 4, 4, 4, 4, 4, 4, 4, 4], 'lose': [29, 2, 4, 4, 4, 4]},\n",
       " 2: {'win': [15, 1, 23, 23, 23, 23, 23, 23, 6, 6],\n",
       "  'lose': [28, 23, 23, 23, 23, 6, 6]},\n",
       " 3: {'win': [25, 6, 6, 22, 22, 22, 22, 22, 22, 27],\n",
       "  'lose': [27, 6, 6, 22, 22, 21, 27]},\n",
       " 4: {'win': [26, 26, 26, 23, 1, 1, 1, 1], 'lose': [1, 1, 1, 1, 1, 1, 1, 1]},\n",
       " 5: {'win': [25, 27, 29, 25, 27, 27, 27, 27, 27, 27, 21, 21],\n",
       "  'lose': [16, 27, 27, 27, 27]},\n",
       " 6: {'win': [24, 24, 3, 3, 8, 8, 8, 8, 8, 2, 2], 'lose': [3, 3, 2, 2]},\n",
       " 7: {'win': [29, 29, 29, 29, 29, 29, 29],\n",
       "  'lose': [23, 23, 26, 26, 25, 29, 29, 29]},\n",
       " 8: {'win': [23],\n",
       "  'lose': [22, 22, 22, 22, 22, 22, 22, 22, 6, 6, 6, 6, 6, 23, 23, 23]},\n",
       " 9: {'win': [12, 12, 12, 12, 12, 12, 12],\n",
       "  'lose': [21, 12, 12, 12, 12, 12, 12, 12]},\n",
       " 10: {'win': [20, 30, 30, 30, 30, 30, 30, 30, 30],\n",
       "  'lose': [29, 27, 30, 30, 30]},\n",
       " 11: {'win': [19, 19, 19, 19, 19, 19, 19],\n",
       "  'lose': [19, 19, 19, 19, 19, 19, 19, 19, 19]},\n",
       " 12: {'win': [9, 9, 9, 9, 9, 9, 9], 'lose': [18, 9, 9, 9, 9, 9, 9, 9]},\n",
       " 13: {'win': [18, 18, 18, 18, 18, 18, 18, 15, 15, 15, 15, 15],\n",
       "  'lose': [17, 17, 15, 15, 15, 15, 15]},\n",
       " 14: {'win': [26, 26, 26, 26],\n",
       "  'lose': [16, 16, 16, 16, 26, 26, 26, 26, 26, 26, 26]},\n",
       " 15: {'win': [25, 29, 29, 25, 25, 25, 13, 13, 13, 13, 13],\n",
       "  'lose': [30, 2, 13, 13, 13, 13, 13]},\n",
       " 16: {'win': [14, 14, 14, 14, 5, 28, 28, 28, 28, 28],\n",
       "  'lose': [28, 28, 28, 28, 28]},\n",
       " 17: {'win': [13, 13, 21, 21, 21, 21, 21],\n",
       "  'lose': [21, 21, 21, 21, 21, 21, 22, 22, 22]},\n",
       " 18: {'win': [12, 25, 25, 25],\n",
       "  'lose': [21, 13, 13, 13, 13, 13, 13, 13, 25, 25, 25, 25, 25]},\n",
       " 19: {'win': [11, 11, 11, 11, 11, 11, 11, 11, 11],\n",
       "  'lose': [11, 11, 11, 11, 11, 11, 11]},\n",
       " 20: {'win': [24, 24, 24, 24, 24],\n",
       "  'lose': [10, 1, 24, 24, 24, 24, 24, 24, 24, 24]},\n",
       " 21: {'win': [9, 18, 17, 17, 17, 17, 17, 17, 3],\n",
       "  'lose': [17, 17, 17, 17, 17, 5, 5]},\n",
       " 22: {'win': [8, 8, 8, 8, 8, 8, 8, 8, 3, 3, 17, 17, 17],\n",
       "  'lose': [3, 3, 3, 3, 3, 3]},\n",
       " 23: {'win': [7, 7, 2, 2, 2, 2, 8, 8, 8], 'lose': [4, 2, 2, 2, 2, 2, 2, 8]},\n",
       " 24: {'win': [20, 20, 20, 20, 20, 20, 20, 20],\n",
       "  'lose': [6, 6, 20, 20, 20, 20, 20]},\n",
       " 25: {'win': [7, 18, 18, 18, 18, 18],\n",
       "  'lose': [5, 3, 15, 5, 15, 15, 15, 18, 18, 18]},\n",
       " 26: {'win': [7, 7, 14, 14, 14, 14, 14, 14, 14],\n",
       "  'lose': [4, 4, 4, 14, 14, 14, 14]},\n",
       " 27: {'win': [3, 10, 28, 5, 5, 5, 5, 3], 'lose': [5, 28, 5, 5, 5, 5, 5, 5, 3]},\n",
       " 28: {'win': [2, 30, 30, 27, 16, 16, 16, 16, 16],\n",
       "  'lose': [27, 16, 16, 16, 16, 16]},\n",
       " 29: {'win': [1, 10, 7, 7, 7], 'lose': [5, 15, 15, 7, 7, 7, 7, 7, 7, 7]},\n",
       " 30: {'win': [15, 10, 10, 10],\n",
       "  'lose': [28, 28, 10, 10, 10, 10, 10, 10, 10, 10]}}"
      ]
     },
     "execution_count": 237,
     "metadata": {},
     "output_type": "execute_result"
    }
   ],
   "source": [
    "game_log"
   ]
  },
  {
   "cell_type": "code",
   "execution_count": 197,
   "metadata": {
    "ExecuteTime": {
     "end_time": "2021-09-25T06:54:38.787221Z",
     "start_time": "2021-09-25T06:54:38.784070Z"
    }
   },
   "outputs": [
    {
     "data": {
      "text/plain": [
       "1"
      ]
     },
     "execution_count": 197,
     "metadata": {},
     "output_type": "execute_result"
    }
   ],
   "source": [
    "userInfo[26-1]['grade']"
   ]
  },
  {
   "cell_type": "code",
   "execution_count": 218,
   "metadata": {
    "ExecuteTime": {
     "end_time": "2021-09-25T07:09:06.808100Z",
     "start_time": "2021-09-25T07:09:06.802967Z"
    }
   },
   "outputs": [
    {
     "data": {
      "text/plain": [
       "[{'id': 1, 'grade': 1},\n",
       " {'id': 2, 'grade': 1},\n",
       " {'id': 3, 'grade': 1},\n",
       " {'id': 4, 'grade': 1},\n",
       " {'id': 5, 'grade': 1},\n",
       " {'id': 6, 'grade': 1},\n",
       " {'id': 7, 'grade': 29},\n",
       " {'id': 8, 'grade': 30},\n",
       " {'id': 9, 'grade': 1},\n",
       " {'id': 10, 'grade': 1},\n",
       " {'id': 11, 'grade': 1},\n",
       " {'id': 12, 'grade': 1},\n",
       " {'id': 13, 'grade': 1},\n",
       " {'id': 14, 'grade': 1},\n",
       " {'id': 15, 'grade': 1},\n",
       " {'id': 16, 'grade': 1},\n",
       " {'id': 17, 'grade': 1},\n",
       " {'id': 18, 'grade': 1},\n",
       " {'id': 19, 'grade': 1},\n",
       " {'id': 20, 'grade': 30},\n",
       " {'id': 21, 'grade': 1},\n",
       " {'id': 22, 'grade': 29},\n",
       " {'id': 23, 'grade': 1},\n",
       " {'id': 24, 'grade': 1},\n",
       " {'id': 25, 'grade': 1},\n",
       " {'id': 26, 'grade': 1},\n",
       " {'id': 27, 'grade': 1},\n",
       " {'id': 28, 'grade': 1},\n",
       " {'id': 29, 'grade': 1},\n",
       " {'id': 30, 'grade': 1}]"
      ]
     },
     "execution_count": 218,
     "metadata": {},
     "output_type": "execute_result"
    }
   ],
   "source": [
    "commands"
   ]
  },
  {
   "cell_type": "code",
   "execution_count": 245,
   "metadata": {
    "ExecuteTime": {
     "end_time": "2021-09-25T07:25:23.047330Z",
     "start_time": "2021-09-25T07:25:23.041778Z"
    }
   },
   "outputs": [],
   "source": [
    "def changeUserGrade(exist, userInfo, game_log, num):\n",
    "    points = []\n",
    "    for i in range(1, num+1):\n",
    "        lose_point = 0\n",
    "        for lose_log in game_log[i]['lose']:\n",
    "            lose_point += (num - userInfo[lose_log-1]['grade'])\n",
    "        win_point = 0\n",
    "        for win_log in set(game_log[i]['win']):\n",
    "            win_point += (num - userInfo[win_log-1]['grade'])\n",
    "        i_point = win_point - lose_point\n",
    "        print(i, i_point)\n",
    "        points.append([i, i_point])\n",
    "    max_point = max(points)\n",
    "    min_point = min(points)\n",
    "    for i, point in points :\n",
    "        print(points)\n",
    "        if point == 0 :\n",
    "            points[i][1] = random.randint(min_point+1, max_point-1)\n",
    "    points = sorted(points, key = lambda x : x[1])\n",
    "    \n",
    "    new_commands = [{'id' : i , 'grade' : grade} for grade,(i,point) in enumerate(points, 1)]\n",
    "    return new_commands"
   ]
  },
  {
   "cell_type": "code",
   "execution_count": 241,
   "metadata": {
    "ExecuteTime": {
     "end_time": "2021-09-25T07:23:21.348322Z",
     "start_time": "2021-09-25T07:23:13.173305Z"
    }
   },
   "outputs": [
    {
     "name": "stdout",
     "output_type": "stream",
     "text": [
      "3\n",
      "[{'id': 1, 'grade': 30}, {'id': 2, 'grade': 30}, {'id': 3, 'grade': 30}, {'id': 4, 'grade': 30}, {'id': 5, 'grade': 30}, {'id': 6, 'grade': 30}, {'id': 7, 'grade': 30}, {'id': 8, 'grade': 30}, {'id': 9, 'grade': 30}, {'id': 10, 'grade': 30}, {'id': 11, 'grade': 30}, {'id': 12, 'grade': 30}, {'id': 13, 'grade': 30}, {'id': 14, 'grade': 30}, {'id': 15, 'grade': 30}, {'id': 16, 'grade': 30}, {'id': 17, 'grade': 30}, {'id': 18, 'grade': 30}, {'id': 19, 'grade': 30}, {'id': 20, 'grade': 30}, {'id': 21, 'grade': 30}, {'id': 22, 'grade': 30}, {'id': 23, 'grade': 30}, {'id': 24, 'grade': 30}, {'id': 25, 'grade': 30}, {'id': 26, 'grade': 30}, {'id': 27, 'grade': 30}, {'id': 28, 'grade': 30}, {'id': 29, 'grade': 30}, {'id': 30, 'grade': 30}] []\n",
      "4\n",
      "[{'id': 1, 'grade': 30}, {'id': 2, 'grade': 30}, {'id': 3, 'grade': 30}, {'id': 4, 'grade': 30}, {'id': 5, 'grade': 30}, {'id': 6, 'grade': 30}, {'id': 7, 'grade': 30}, {'id': 8, 'grade': 30}, {'id': 9, 'grade': 30}, {'id': 10, 'grade': 30}, {'id': 11, 'grade': 30}, {'id': 12, 'grade': 30}, {'id': 13, 'grade': 30}, {'id': 14, 'grade': 30}, {'id': 15, 'grade': 30}, {'id': 16, 'grade': 30}, {'id': 17, 'grade': 30}, {'id': 18, 'grade': 30}, {'id': 19, 'grade': 30}, {'id': 20, 'grade': 30}, {'id': 21, 'grade': 30}, {'id': 22, 'grade': 30}, {'id': 23, 'grade': 30}, {'id': 24, 'grade': 30}, {'id': 25, 'grade': 30}, {'id': 26, 'grade': 30}, {'id': 27, 'grade': 30}, {'id': 28, 'grade': 30}, {'id': 29, 'grade': 30}, {'id': 30, 'grade': 30}] []\n",
      "5\n",
      "[{'id': 1, 'grade': 30}, {'id': 2, 'grade': 30}, {'id': 3, 'grade': 30}, {'id': 4, 'grade': 30}, {'id': 5, 'grade': 30}, {'id': 6, 'grade': 30}, {'id': 7, 'grade': 30}, {'id': 8, 'grade': 30}, {'id': 9, 'grade': 30}, {'id': 10, 'grade': 30}, {'id': 11, 'grade': 30}, {'id': 12, 'grade': 30}, {'id': 13, 'grade': 30}, {'id': 14, 'grade': 30}, {'id': 15, 'grade': 30}, {'id': 16, 'grade': 30}, {'id': 17, 'grade': 30}, {'id': 18, 'grade': 30}, {'id': 19, 'grade': 30}, {'id': 20, 'grade': 30}, {'id': 21, 'grade': 30}, {'id': 22, 'grade': 30}, {'id': 23, 'grade': 30}, {'id': 24, 'grade': 30}, {'id': 25, 'grade': 30}, {'id': 26, 'grade': 30}, {'id': 27, 'grade': 30}, {'id': 28, 'grade': 30}, {'id': 29, 'grade': 30}, {'id': 30, 'grade': 30}] []\n",
      "6\n",
      "[{'id': 1, 'grade': 30}, {'id': 2, 'grade': 30}, {'id': 3, 'grade': 30}, {'id': 4, 'grade': 30}, {'id': 5, 'grade': 30}, {'id': 6, 'grade': 30}, {'id': 7, 'grade': 30}, {'id': 8, 'grade': 30}, {'id': 9, 'grade': 30}, {'id': 10, 'grade': 30}, {'id': 11, 'grade': 30}, {'id': 12, 'grade': 30}, {'id': 13, 'grade': 30}, {'id': 14, 'grade': 30}, {'id': 15, 'grade': 30}, {'id': 16, 'grade': 30}, {'id': 17, 'grade': 30}, {'id': 18, 'grade': 30}, {'id': 19, 'grade': 30}, {'id': 20, 'grade': 30}, {'id': 21, 'grade': 30}, {'id': 22, 'grade': 30}, {'id': 23, 'grade': 30}, {'id': 24, 'grade': 30}, {'id': 25, 'grade': 30}, {'id': 26, 'grade': 30}, {'id': 27, 'grade': 30}, {'id': 28, 'grade': 30}, {'id': 29, 'grade': 30}, {'id': 30, 'grade': 30}] []\n",
      "7\n",
      "[{'id': 1, 'grade': 30}, {'id': 2, 'grade': 30}, {'id': 3, 'grade': 30}, {'id': 4, 'grade': 30}, {'id': 5, 'grade': 30}, {'id': 6, 'grade': 30}, {'id': 7, 'grade': 30}, {'id': 8, 'grade': 30}, {'id': 9, 'grade': 30}, {'id': 10, 'grade': 30}, {'id': 11, 'grade': 30}, {'id': 12, 'grade': 30}, {'id': 13, 'grade': 30}, {'id': 14, 'grade': 30}, {'id': 15, 'grade': 30}, {'id': 16, 'grade': 30}, {'id': 17, 'grade': 30}, {'id': 18, 'grade': 30}, {'id': 19, 'grade': 30}, {'id': 20, 'grade': 30}, {'id': 21, 'grade': 30}, {'id': 22, 'grade': 30}, {'id': 23, 'grade': 30}, {'id': 24, 'grade': 30}, {'id': 25, 'grade': 30}, {'id': 26, 'grade': 30}, {'id': 27, 'grade': 30}, {'id': 28, 'grade': 30}, {'id': 29, 'grade': 30}, {'id': 30, 'grade': 30}] []\n",
      "8\n",
      "[{'id': 1, 'grade': 30}, {'id': 2, 'grade': 30}, {'id': 3, 'grade': 30}, {'id': 4, 'grade': 30}, {'id': 5, 'grade': 30}, {'id': 6, 'grade': 30}, {'id': 7, 'grade': 30}, {'id': 8, 'grade': 30}, {'id': 9, 'grade': 30}, {'id': 10, 'grade': 30}, {'id': 11, 'grade': 30}, {'id': 12, 'grade': 30}, {'id': 13, 'grade': 30}, {'id': 14, 'grade': 30}, {'id': 15, 'grade': 30}, {'id': 16, 'grade': 30}, {'id': 17, 'grade': 30}, {'id': 18, 'grade': 30}, {'id': 19, 'grade': 30}, {'id': 20, 'grade': 30}, {'id': 21, 'grade': 30}, {'id': 22, 'grade': 30}, {'id': 23, 'grade': 30}, {'id': 24, 'grade': 30}, {'id': 25, 'grade': 30}, {'id': 26, 'grade': 30}, {'id': 27, 'grade': 30}, {'id': 28, 'grade': 30}, {'id': 29, 'grade': 30}, {'id': 30, 'grade': 30}] []\n",
      "9\n",
      "[{'id': 1, 'grade': 30}, {'id': 2, 'grade': 30}, {'id': 3, 'grade': 30}, {'id': 4, 'grade': 30}, {'id': 5, 'grade': 30}, {'id': 6, 'grade': 30}, {'id': 7, 'grade': 30}, {'id': 8, 'grade': 30}, {'id': 9, 'grade': 30}, {'id': 10, 'grade': 30}, {'id': 11, 'grade': 30}, {'id': 12, 'grade': 30}, {'id': 13, 'grade': 30}, {'id': 14, 'grade': 30}, {'id': 15, 'grade': 30}, {'id': 16, 'grade': 30}, {'id': 17, 'grade': 30}, {'id': 18, 'grade': 30}, {'id': 19, 'grade': 30}, {'id': 20, 'grade': 30}, {'id': 21, 'grade': 30}, {'id': 22, 'grade': 30}, {'id': 23, 'grade': 30}, {'id': 24, 'grade': 30}, {'id': 25, 'grade': 30}, {'id': 26, 'grade': 30}, {'id': 27, 'grade': 30}, {'id': 28, 'grade': 30}, {'id': 29, 'grade': 30}, {'id': 30, 'grade': 30}] []\n",
      "10\n",
      "[{'id': 1, 'grade': 30}, {'id': 2, 'grade': 30}, {'id': 3, 'grade': 30}, {'id': 4, 'grade': 30}, {'id': 5, 'grade': 30}, {'id': 6, 'grade': 30}, {'id': 7, 'grade': 30}, {'id': 8, 'grade': 30}, {'id': 9, 'grade': 30}, {'id': 10, 'grade': 30}, {'id': 11, 'grade': 30}, {'id': 12, 'grade': 30}, {'id': 13, 'grade': 30}, {'id': 14, 'grade': 30}, {'id': 15, 'grade': 30}, {'id': 16, 'grade': 30}, {'id': 17, 'grade': 30}, {'id': 18, 'grade': 30}, {'id': 19, 'grade': 30}, {'id': 20, 'grade': 30}, {'id': 21, 'grade': 30}, {'id': 22, 'grade': 30}, {'id': 23, 'grade': 30}, {'id': 24, 'grade': 30}, {'id': 25, 'grade': 30}, {'id': 26, 'grade': 30}, {'id': 27, 'grade': 30}, {'id': 28, 'grade': 30}, {'id': 29, 'grade': 30}, {'id': 30, 'grade': 30}] []\n",
      "11\n",
      "[{'id': 1, 'grade': 30}, {'id': 2, 'grade': 30}, {'id': 3, 'grade': 30}, {'id': 4, 'grade': 30}, {'id': 5, 'grade': 30}, {'id': 6, 'grade': 30}, {'id': 7, 'grade': 30}, {'id': 8, 'grade': 30}, {'id': 9, 'grade': 30}, {'id': 10, 'grade': 30}, {'id': 11, 'grade': 30}, {'id': 12, 'grade': 30}, {'id': 13, 'grade': 30}, {'id': 14, 'grade': 30}, {'id': 15, 'grade': 30}, {'id': 16, 'grade': 30}, {'id': 17, 'grade': 30}, {'id': 18, 'grade': 30}, {'id': 19, 'grade': 30}, {'id': 20, 'grade': 30}, {'id': 21, 'grade': 30}, {'id': 22, 'grade': 30}, {'id': 23, 'grade': 30}, {'id': 24, 'grade': 30}, {'id': 25, 'grade': 30}, {'id': 26, 'grade': 30}, {'id': 27, 'grade': 30}, {'id': 28, 'grade': 30}, {'id': 29, 'grade': 30}, {'id': 30, 'grade': 30}] []\n",
      "12\n",
      "[{'id': 1, 'grade': 30}, {'id': 2, 'grade': 30}, {'id': 3, 'grade': 30}, {'id': 4, 'grade': 30}, {'id': 5, 'grade': 30}, {'id': 6, 'grade': 30}, {'id': 7, 'grade': 30}, {'id': 8, 'grade': 30}, {'id': 9, 'grade': 30}, {'id': 10, 'grade': 30}, {'id': 11, 'grade': 30}, {'id': 12, 'grade': 30}, {'id': 13, 'grade': 30}, {'id': 14, 'grade': 30}, {'id': 15, 'grade': 30}, {'id': 16, 'grade': 30}, {'id': 17, 'grade': 30}, {'id': 18, 'grade': 30}, {'id': 19, 'grade': 30}, {'id': 20, 'grade': 30}, {'id': 21, 'grade': 30}, {'id': 22, 'grade': 30}, {'id': 23, 'grade': 30}, {'id': 24, 'grade': 30}, {'id': 25, 'grade': 30}, {'id': 26, 'grade': 30}, {'id': 27, 'grade': 30}, {'id': 28, 'grade': 30}, {'id': 29, 'grade': 30}, {'id': 30, 'grade': 30}] []\n",
      "13\n",
      "[{'id': 1, 'grade': 30}, {'id': 2, 'grade': 30}, {'id': 3, 'grade': 30}, {'id': 4, 'grade': 30}, {'id': 5, 'grade': 30}, {'id': 6, 'grade': 30}, {'id': 7, 'grade': 30}, {'id': 8, 'grade': 30}, {'id': 9, 'grade': 30}, {'id': 10, 'grade': 30}, {'id': 11, 'grade': 30}, {'id': 12, 'grade': 30}, {'id': 13, 'grade': 30}, {'id': 14, 'grade': 30}, {'id': 15, 'grade': 30}, {'id': 16, 'grade': 30}, {'id': 17, 'grade': 30}, {'id': 18, 'grade': 30}, {'id': 19, 'grade': 30}, {'id': 20, 'grade': 30}, {'id': 21, 'grade': 30}, {'id': 22, 'grade': 30}, {'id': 23, 'grade': 30}, {'id': 24, 'grade': 30}, {'id': 25, 'grade': 30}, {'id': 26, 'grade': 30}, {'id': 27, 'grade': 30}, {'id': 28, 'grade': 30}, {'id': 29, 'grade': 30}, {'id': 30, 'grade': 30}] []\n",
      "14\n"
     ]
    },
    {
     "name": "stdout",
     "output_type": "stream",
     "text": [
      "[{'id': 1, 'grade': 30}, {'id': 2, 'grade': 30}, {'id': 3, 'grade': 30}, {'id': 4, 'grade': 30}, {'id': 5, 'grade': 30}, {'id': 6, 'grade': 30}, {'id': 7, 'grade': 30}, {'id': 8, 'grade': 30}, {'id': 9, 'grade': 30}, {'id': 10, 'grade': 30}, {'id': 11, 'grade': 30}, {'id': 12, 'grade': 30}, {'id': 13, 'grade': 30}, {'id': 14, 'grade': 30}, {'id': 15, 'grade': 30}, {'id': 16, 'grade': 30}, {'id': 17, 'grade': 30}, {'id': 18, 'grade': 30}, {'id': 19, 'grade': 30}, {'id': 20, 'grade': 30}, {'id': 21, 'grade': 30}, {'id': 22, 'grade': 30}, {'id': 23, 'grade': 30}, {'id': 24, 'grade': 30}, {'id': 25, 'grade': 30}, {'id': 26, 'grade': 30}, {'id': 27, 'grade': 30}, {'id': 28, 'grade': 30}, {'id': 29, 'grade': 30}, {'id': 30, 'grade': 30}] []\n",
      "15\n",
      "[{'id': 1, 'grade': 30}, {'id': 2, 'grade': 30}, {'id': 3, 'grade': 30}, {'id': 4, 'grade': 30}, {'id': 5, 'grade': 30}, {'id': 6, 'grade': 30}, {'id': 7, 'grade': 30}, {'id': 8, 'grade': 30}, {'id': 9, 'grade': 30}, {'id': 10, 'grade': 30}, {'id': 11, 'grade': 30}, {'id': 12, 'grade': 30}, {'id': 13, 'grade': 30}, {'id': 14, 'grade': 30}, {'id': 15, 'grade': 30}, {'id': 16, 'grade': 30}, {'id': 17, 'grade': 30}, {'id': 18, 'grade': 30}, {'id': 19, 'grade': 30}, {'id': 20, 'grade': 30}, {'id': 21, 'grade': 30}, {'id': 22, 'grade': 30}, {'id': 23, 'grade': 30}, {'id': 24, 'grade': 30}, {'id': 25, 'grade': 30}, {'id': 26, 'grade': 30}, {'id': 27, 'grade': 30}, {'id': 28, 'grade': 30}, {'id': 29, 'grade': 30}, {'id': 30, 'grade': 30}] []\n",
      "16\n",
      "[{'id': 1, 'grade': 30}, {'id': 2, 'grade': 30}, {'id': 3, 'grade': 30}, {'id': 4, 'grade': 30}, {'id': 5, 'grade': 30}, {'id': 6, 'grade': 30}, {'id': 7, 'grade': 30}, {'id': 8, 'grade': 30}, {'id': 9, 'grade': 30}, {'id': 10, 'grade': 30}, {'id': 11, 'grade': 30}, {'id': 12, 'grade': 30}, {'id': 13, 'grade': 30}, {'id': 14, 'grade': 30}, {'id': 15, 'grade': 30}, {'id': 16, 'grade': 30}, {'id': 17, 'grade': 30}, {'id': 18, 'grade': 30}, {'id': 19, 'grade': 30}, {'id': 20, 'grade': 30}, {'id': 21, 'grade': 30}, {'id': 22, 'grade': 30}, {'id': 23, 'grade': 30}, {'id': 24, 'grade': 30}, {'id': 25, 'grade': 30}, {'id': 26, 'grade': 30}, {'id': 27, 'grade': 30}, {'id': 28, 'grade': 30}, {'id': 29, 'grade': 30}, {'id': 30, 'grade': 30}] []\n",
      "17\n",
      "[{'id': 1, 'grade': 30}, {'id': 2, 'grade': 30}, {'id': 3, 'grade': 30}, {'id': 4, 'grade': 30}, {'id': 5, 'grade': 30}, {'id': 6, 'grade': 30}, {'id': 7, 'grade': 30}, {'id': 8, 'grade': 30}, {'id': 9, 'grade': 30}, {'id': 10, 'grade': 30}, {'id': 11, 'grade': 30}, {'id': 12, 'grade': 30}, {'id': 13, 'grade': 30}, {'id': 14, 'grade': 30}, {'id': 15, 'grade': 30}, {'id': 16, 'grade': 30}, {'id': 17, 'grade': 30}, {'id': 18, 'grade': 30}, {'id': 19, 'grade': 30}, {'id': 20, 'grade': 30}, {'id': 21, 'grade': 30}, {'id': 22, 'grade': 30}, {'id': 23, 'grade': 30}, {'id': 24, 'grade': 30}, {'id': 25, 'grade': 30}, {'id': 26, 'grade': 30}, {'id': 27, 'grade': 30}, {'id': 28, 'grade': 30}, {'id': 29, 'grade': 30}, {'id': 30, 'grade': 30}] []\n",
      "18\n",
      "[{'id': 1, 'grade': 30}, {'id': 2, 'grade': 30}, {'id': 3, 'grade': 30}, {'id': 4, 'grade': 30}, {'id': 5, 'grade': 30}, {'id': 6, 'grade': 30}, {'id': 7, 'grade': 30}, {'id': 8, 'grade': 30}, {'id': 9, 'grade': 30}, {'id': 10, 'grade': 30}, {'id': 11, 'grade': 30}, {'id': 12, 'grade': 30}, {'id': 13, 'grade': 30}, {'id': 14, 'grade': 30}, {'id': 15, 'grade': 30}, {'id': 16, 'grade': 30}, {'id': 17, 'grade': 30}, {'id': 18, 'grade': 30}, {'id': 19, 'grade': 30}, {'id': 20, 'grade': 30}, {'id': 21, 'grade': 30}, {'id': 22, 'grade': 30}, {'id': 23, 'grade': 30}, {'id': 24, 'grade': 30}, {'id': 25, 'grade': 30}, {'id': 26, 'grade': 30}, {'id': 27, 'grade': 30}, {'id': 28, 'grade': 30}, {'id': 29, 'grade': 30}, {'id': 30, 'grade': 30}] []\n",
      "19\n",
      "[{'id': 1, 'grade': 30}, {'id': 2, 'grade': 30}, {'id': 3, 'grade': 30}, {'id': 4, 'grade': 30}, {'id': 5, 'grade': 30}, {'id': 6, 'grade': 30}, {'id': 7, 'grade': 30}, {'id': 8, 'grade': 30}, {'id': 9, 'grade': 30}, {'id': 10, 'grade': 30}, {'id': 11, 'grade': 30}, {'id': 12, 'grade': 30}, {'id': 13, 'grade': 30}, {'id': 14, 'grade': 30}, {'id': 15, 'grade': 30}, {'id': 16, 'grade': 30}, {'id': 17, 'grade': 30}, {'id': 18, 'grade': 30}, {'id': 19, 'grade': 30}, {'id': 20, 'grade': 30}, {'id': 21, 'grade': 30}, {'id': 22, 'grade': 30}, {'id': 23, 'grade': 30}, {'id': 24, 'grade': 30}, {'id': 25, 'grade': 30}, {'id': 26, 'grade': 30}, {'id': 27, 'grade': 30}, {'id': 28, 'grade': 30}, {'id': 29, 'grade': 30}, {'id': 30, 'grade': 30}] []\n",
      "20\n",
      "[{'id': 1, 'grade': 30}, {'id': 2, 'grade': 30}, {'id': 3, 'grade': 30}, {'id': 4, 'grade': 30}, {'id': 5, 'grade': 30}, {'id': 6, 'grade': 30}, {'id': 7, 'grade': 30}, {'id': 8, 'grade': 30}, {'id': 9, 'grade': 30}, {'id': 10, 'grade': 30}, {'id': 11, 'grade': 30}, {'id': 12, 'grade': 30}, {'id': 13, 'grade': 30}, {'id': 14, 'grade': 30}, {'id': 15, 'grade': 30}, {'id': 16, 'grade': 30}, {'id': 17, 'grade': 30}, {'id': 18, 'grade': 30}, {'id': 19, 'grade': 30}, {'id': 20, 'grade': 30}, {'id': 21, 'grade': 30}, {'id': 22, 'grade': 30}, {'id': 23, 'grade': 30}, {'id': 24, 'grade': 30}, {'id': 25, 'grade': 30}, {'id': 26, 'grade': 30}, {'id': 27, 'grade': 30}, {'id': 28, 'grade': 30}, {'id': 29, 'grade': 30}, {'id': 30, 'grade': 30}] []\n",
      "21\n",
      "[{'id': 1, 'grade': 30}, {'id': 2, 'grade': 30}, {'id': 3, 'grade': 30}, {'id': 4, 'grade': 30}, {'id': 5, 'grade': 30}, {'id': 6, 'grade': 30}, {'id': 7, 'grade': 30}, {'id': 8, 'grade': 30}, {'id': 9, 'grade': 30}, {'id': 10, 'grade': 30}, {'id': 11, 'grade': 30}, {'id': 12, 'grade': 30}, {'id': 13, 'grade': 30}, {'id': 14, 'grade': 30}, {'id': 15, 'grade': 30}, {'id': 16, 'grade': 30}, {'id': 17, 'grade': 30}, {'id': 18, 'grade': 30}, {'id': 19, 'grade': 30}, {'id': 20, 'grade': 30}, {'id': 21, 'grade': 30}, {'id': 22, 'grade': 30}, {'id': 23, 'grade': 30}, {'id': 24, 'grade': 30}, {'id': 25, 'grade': 30}, {'id': 26, 'grade': 30}, {'id': 27, 'grade': 30}, {'id': 28, 'grade': 30}, {'id': 29, 'grade': 30}, {'id': 30, 'grade': 30}] []\n",
      "22\n",
      "[{'id': 1, 'grade': 30}, {'id': 2, 'grade': 30}, {'id': 3, 'grade': 30}, {'id': 4, 'grade': 30}, {'id': 5, 'grade': 30}, {'id': 6, 'grade': 30}, {'id': 7, 'grade': 30}, {'id': 8, 'grade': 30}, {'id': 9, 'grade': 30}, {'id': 10, 'grade': 30}, {'id': 11, 'grade': 30}, {'id': 12, 'grade': 30}, {'id': 13, 'grade': 30}, {'id': 14, 'grade': 30}, {'id': 15, 'grade': 30}, {'id': 16, 'grade': 30}, {'id': 17, 'grade': 30}, {'id': 18, 'grade': 30}, {'id': 19, 'grade': 30}, {'id': 20, 'grade': 30}, {'id': 21, 'grade': 30}, {'id': 22, 'grade': 30}, {'id': 23, 'grade': 30}, {'id': 24, 'grade': 30}, {'id': 25, 'grade': 30}, {'id': 26, 'grade': 30}, {'id': 27, 'grade': 30}, {'id': 28, 'grade': 30}, {'id': 29, 'grade': 30}, {'id': 30, 'grade': 30}] []\n",
      "23\n",
      "[{'id': 1, 'grade': 30}, {'id': 2, 'grade': 30}, {'id': 3, 'grade': 30}, {'id': 4, 'grade': 30}, {'id': 5, 'grade': 30}, {'id': 6, 'grade': 30}, {'id': 7, 'grade': 30}, {'id': 8, 'grade': 30}, {'id': 9, 'grade': 30}, {'id': 10, 'grade': 30}, {'id': 11, 'grade': 30}, {'id': 12, 'grade': 30}, {'id': 13, 'grade': 30}, {'id': 14, 'grade': 30}, {'id': 15, 'grade': 30}, {'id': 16, 'grade': 30}, {'id': 17, 'grade': 30}, {'id': 18, 'grade': 30}, {'id': 19, 'grade': 30}, {'id': 20, 'grade': 30}, {'id': 21, 'grade': 30}, {'id': 22, 'grade': 30}, {'id': 23, 'grade': 30}, {'id': 24, 'grade': 30}, {'id': 25, 'grade': 30}, {'id': 26, 'grade': 30}, {'id': 27, 'grade': 30}, {'id': 28, 'grade': 30}, {'id': 29, 'grade': 30}, {'id': 30, 'grade': 30}] []\n",
      "24\n",
      "[[1, 0], [2, 0], [3, 0], [4, 0], [5, 0], [6, 0], [7, 0], [8, 0], [9, 0], [10, 0], [11, 0], [12, 0], [13, 0], [14, 0], [15, 0], [16, 0], [17, 0], [18, 0], [19, 0], [20, 0], [21, 0], [22, 0], [23, 0], [24, 0], [25, 0], [26, 0], [27, 0], [28, 0], [29, 0], [30, 0]]\n"
     ]
    },
    {
     "ename": "TypeError",
     "evalue": "can only concatenate list (not \"int\") to list",
     "output_type": "error",
     "traceback": [
      "\u001b[0;31m---------------------------------------------------------------------------\u001b[0m",
      "\u001b[0;31mTypeError\u001b[0m                                 Traceback (most recent call last)",
      "\u001b[0;32m<ipython-input-241-3ca762672064>\u001b[0m in \u001b[0;36m<module>\u001b[0;34m\u001b[0m\n\u001b[1;32m     28\u001b[0m             \u001b[0mgame_log\u001b[0m\u001b[0;34m[\u001b[0m\u001b[0mgs\u001b[0m\u001b[0;34m[\u001b[0m\u001b[0;34m'lose'\u001b[0m\u001b[0;34m]\u001b[0m\u001b[0;34m]\u001b[0m\u001b[0;34m[\u001b[0m\u001b[0;34m'lose'\u001b[0m\u001b[0;34m]\u001b[0m\u001b[0;34m.\u001b[0m\u001b[0mappend\u001b[0m\u001b[0;34m(\u001b[0m\u001b[0mgs\u001b[0m\u001b[0;34m[\u001b[0m\u001b[0;34m'win'\u001b[0m\u001b[0;34m]\u001b[0m\u001b[0;34m)\u001b[0m\u001b[0;34m\u001b[0m\u001b[0;34m\u001b[0m\u001b[0m\n\u001b[1;32m     29\u001b[0m             \u001b[0mcommands\u001b[0m\u001b[0;34m[\u001b[0m\u001b[0mgs\u001b[0m\u001b[0;34m[\u001b[0m\u001b[0;34m'lose'\u001b[0m\u001b[0;34m]\u001b[0m\u001b[0;34m-\u001b[0m\u001b[0;36m1\u001b[0m\u001b[0;34m]\u001b[0m\u001b[0;34m[\u001b[0m\u001b[0;34m'grade'\u001b[0m\u001b[0;34m]\u001b[0m \u001b[0;34m=\u001b[0m \u001b[0mmin\u001b[0m\u001b[0;34m(\u001b[0m\u001b[0;36m30\u001b[0m\u001b[0;34m,\u001b[0m \u001b[0mcommands\u001b[0m\u001b[0;34m[\u001b[0m\u001b[0mgs\u001b[0m\u001b[0;34m[\u001b[0m\u001b[0;34m'lose'\u001b[0m\u001b[0;34m]\u001b[0m\u001b[0;34m-\u001b[0m\u001b[0;36m1\u001b[0m\u001b[0;34m]\u001b[0m\u001b[0;34m[\u001b[0m\u001b[0;34m'grade'\u001b[0m\u001b[0;34m]\u001b[0m\u001b[0;34m+\u001b[0m\u001b[0;36m1\u001b[0m\u001b[0;34m)\u001b[0m\u001b[0;34m\u001b[0m\u001b[0;34m\u001b[0m\u001b[0m\n\u001b[0;32m---> 30\u001b[0;31m         \u001b[0mcommands\u001b[0m \u001b[0;34m=\u001b[0m \u001b[0mchangeUserGrade\u001b[0m\u001b[0;34m(\u001b[0m\u001b[0mcommands\u001b[0m\u001b[0;34m,\u001b[0m \u001b[0muserInfo\u001b[0m\u001b[0;34m,\u001b[0m \u001b[0mgame_log\u001b[0m\u001b[0;34m,\u001b[0m \u001b[0;36m30\u001b[0m\u001b[0;34m)\u001b[0m\u001b[0;34m\u001b[0m\u001b[0;34m\u001b[0m\u001b[0m\n\u001b[0m\u001b[1;32m     31\u001b[0m     \u001b[0mwait_line\u001b[0m \u001b[0;34m=\u001b[0m \u001b[0mgetWaitLine\u001b[0m\u001b[0;34m(\u001b[0m\u001b[0murl\u001b[0m\u001b[0;34m,\u001b[0m \u001b[0mauth_key\u001b[0m\u001b[0;34m)\u001b[0m\u001b[0;34m\u001b[0m\u001b[0;34m\u001b[0m\u001b[0m\n\u001b[1;32m     32\u001b[0m     \u001b[0mputChangeGrade\u001b[0m\u001b[0;34m(\u001b[0m\u001b[0murl\u001b[0m\u001b[0;34m,\u001b[0m \u001b[0mauth_key\u001b[0m\u001b[0;34m,\u001b[0m \u001b[0mcommands\u001b[0m\u001b[0;34m)\u001b[0m\u001b[0;34m\u001b[0m\u001b[0;34m\u001b[0m\u001b[0m\n",
      "\u001b[0;32m<ipython-input-240-6a29cf056706>\u001b[0m in \u001b[0;36mchangeUserGrade\u001b[0;34m(exist, userInfo, game_log, num)\u001b[0m\n\u001b[1;32m     15\u001b[0m         \u001b[0mprint\u001b[0m\u001b[0;34m(\u001b[0m\u001b[0mpoints\u001b[0m\u001b[0;34m)\u001b[0m\u001b[0;34m\u001b[0m\u001b[0;34m\u001b[0m\u001b[0m\n\u001b[1;32m     16\u001b[0m         \u001b[0;32mif\u001b[0m \u001b[0mpoint\u001b[0m \u001b[0;34m==\u001b[0m \u001b[0;36m0\u001b[0m \u001b[0;34m:\u001b[0m\u001b[0;34m\u001b[0m\u001b[0;34m\u001b[0m\u001b[0m\n\u001b[0;32m---> 17\u001b[0;31m             \u001b[0mpoints\u001b[0m\u001b[0;34m[\u001b[0m\u001b[0mi\u001b[0m\u001b[0;34m]\u001b[0m\u001b[0;34m[\u001b[0m\u001b[0;36m1\u001b[0m\u001b[0;34m]\u001b[0m \u001b[0;34m=\u001b[0m \u001b[0mrandom\u001b[0m\u001b[0;34m.\u001b[0m\u001b[0mrandint\u001b[0m\u001b[0;34m(\u001b[0m\u001b[0mmin_point\u001b[0m\u001b[0;34m+\u001b[0m\u001b[0;36m1\u001b[0m\u001b[0;34m,\u001b[0m \u001b[0mmax_point\u001b[0m\u001b[0;34m-\u001b[0m\u001b[0;36m1\u001b[0m\u001b[0;34m)\u001b[0m\u001b[0;34m\u001b[0m\u001b[0;34m\u001b[0m\u001b[0m\n\u001b[0m\u001b[1;32m     18\u001b[0m     \u001b[0mpoints\u001b[0m \u001b[0;34m=\u001b[0m \u001b[0msorted\u001b[0m\u001b[0;34m(\u001b[0m\u001b[0mpoints\u001b[0m\u001b[0;34m,\u001b[0m \u001b[0mkey\u001b[0m \u001b[0;34m=\u001b[0m \u001b[0;32mlambda\u001b[0m \u001b[0mx\u001b[0m \u001b[0;34m:\u001b[0m \u001b[0mx\u001b[0m\u001b[0;34m[\u001b[0m\u001b[0;36m1\u001b[0m\u001b[0;34m]\u001b[0m\u001b[0;34m)\u001b[0m\u001b[0;34m\u001b[0m\u001b[0;34m\u001b[0m\u001b[0m\n\u001b[1;32m     19\u001b[0m \u001b[0;34m\u001b[0m\u001b[0m\n",
      "\u001b[0;31mTypeError\u001b[0m: can only concatenate list (not \"int\") to list"
     ]
    }
   ],
   "source": [
    "# Set All Users Grade \n",
    "auth_key = startProb(url, 1)\n",
    "commands = [{\"id\" : i, \"grade\" : 30} for i in range(1, 31)]\n",
    "putChangeGrade(url, auth_key, commands)\n",
    "putMatch(url, auth_key, [])\n",
    "\n",
    "# Random Match\n",
    "putMatch(url, auth_key,\n",
    "        pairs= [[i, 30-i] for i in range(1, 15)])\n",
    "\n",
    "game_log = {i : {'win': [] ,'lose': []} for i in range(1, 31)}\n",
    "\n",
    "pairs = []\n",
    "while True:\n",
    "    turn = putMatch(url, auth_key, pairs = pairs)\n",
    "    time = turn['time']\n",
    "    print(time)\n",
    "    userInfo = getUserInfo(url, auth_key)\n",
    "    if time == 595 : \n",
    "        commands = changeUserGrade(commands, userInfo, game_log, 30)\n",
    "        putChangeGrade(url, auth_key, commands)\n",
    "        putMatch(url, auth_key, [])\n",
    "        break\n",
    "    game_result = getGameResult(url, auth_key)\n",
    "    if game_result : \n",
    "        for gs in game_result :\n",
    "            game_log[gs['win']]['win'].append(gs['lose'])\n",
    "            game_log[gs['lose']]['lose'].append(gs['win'])\n",
    "        commands = changeUserGrade(commands, userInfo, game_log, 30)\n",
    "    wait_line = getWaitLine(url, auth_key)\n",
    "    putChangeGrade(url, auth_key, commands)\n",
    "    if wait_line :\n",
    "        pairs = findMatch(wait_line)\n",
    "    else :\n",
    "        pairs = []\n",
    "    print(commands, game_result)"
   ]
  },
  {
   "cell_type": "code",
   "execution_count": 247,
   "metadata": {
    "ExecuteTime": {
     "end_time": "2021-09-25T07:25:25.543175Z",
     "start_time": "2021-09-25T07:25:25.532423Z"
    }
   },
   "outputs": [
    {
     "name": "stdout",
     "output_type": "stream",
     "text": [
      "1 0\n",
      "2 0\n",
      "3 0\n",
      "4 0\n",
      "5 0\n",
      "6 0\n",
      "7 0\n",
      "8 0\n",
      "9 0\n",
      "10 0\n",
      "11 0\n",
      "12 0\n",
      "13 0\n",
      "14 0\n",
      "15 0\n",
      "16 0\n",
      "17 0\n",
      "18 0\n",
      "19 0\n",
      "20 0\n",
      "21 0\n",
      "22 0\n",
      "23 0\n",
      "24 0\n",
      "25 0\n",
      "26 0\n",
      "27 0\n",
      "28 0\n",
      "29 0\n",
      "30 0\n",
      "[[1, 0], [2, 0], [3, 0], [4, 0], [5, 0], [6, 0], [7, 0], [8, 0], [9, 0], [10, 0], [11, 0], [12, 0], [13, 0], [14, 0], [15, 0], [16, 0], [17, 0], [18, 0], [19, 0], [20, 0], [21, 0], [22, 0], [23, 0], [24, 0], [25, 0], [26, 0], [27, 0], [28, 0], [29, 0], [30, 0]]\n"
     ]
    },
    {
     "ename": "TypeError",
     "evalue": "can only concatenate list (not \"int\") to list",
     "output_type": "error",
     "traceback": [
      "\u001b[0;31m---------------------------------------------------------------------------\u001b[0m",
      "\u001b[0;31mTypeError\u001b[0m                                 Traceback (most recent call last)",
      "\u001b[0;32m<ipython-input-247-e5011f5d1ae5>\u001b[0m in \u001b[0;36m<module>\u001b[0;34m\u001b[0m\n\u001b[0;32m----> 1\u001b[0;31m \u001b[0mchangeUserGrade\u001b[0m\u001b[0;34m(\u001b[0m\u001b[0mcommands\u001b[0m\u001b[0;34m,\u001b[0m \u001b[0muserInfo\u001b[0m\u001b[0;34m,\u001b[0m \u001b[0mgame_log\u001b[0m\u001b[0;34m,\u001b[0m \u001b[0;36m30\u001b[0m\u001b[0;34m)\u001b[0m\u001b[0;34m\u001b[0m\u001b[0;34m\u001b[0m\u001b[0m\n\u001b[0m",
      "\u001b[0;32m<ipython-input-245-ddc8307b9c0a>\u001b[0m in \u001b[0;36mchangeUserGrade\u001b[0;34m(exist, userInfo, game_log, num)\u001b[0m\n\u001b[1;32m     16\u001b[0m         \u001b[0mprint\u001b[0m\u001b[0;34m(\u001b[0m\u001b[0mpoints\u001b[0m\u001b[0;34m)\u001b[0m\u001b[0;34m\u001b[0m\u001b[0;34m\u001b[0m\u001b[0m\n\u001b[1;32m     17\u001b[0m         \u001b[0;32mif\u001b[0m \u001b[0mpoint\u001b[0m \u001b[0;34m==\u001b[0m \u001b[0;36m0\u001b[0m \u001b[0;34m:\u001b[0m\u001b[0;34m\u001b[0m\u001b[0;34m\u001b[0m\u001b[0m\n\u001b[0;32m---> 18\u001b[0;31m             \u001b[0mpoints\u001b[0m\u001b[0;34m[\u001b[0m\u001b[0mi\u001b[0m\u001b[0;34m]\u001b[0m\u001b[0;34m[\u001b[0m\u001b[0;36m1\u001b[0m\u001b[0;34m]\u001b[0m \u001b[0;34m=\u001b[0m \u001b[0mrandom\u001b[0m\u001b[0;34m.\u001b[0m\u001b[0mrandint\u001b[0m\u001b[0;34m(\u001b[0m\u001b[0mmin_point\u001b[0m\u001b[0;34m+\u001b[0m\u001b[0;36m1\u001b[0m\u001b[0;34m,\u001b[0m \u001b[0mmax_point\u001b[0m\u001b[0;34m-\u001b[0m\u001b[0;36m1\u001b[0m\u001b[0;34m)\u001b[0m\u001b[0;34m\u001b[0m\u001b[0;34m\u001b[0m\u001b[0m\n\u001b[0m\u001b[1;32m     19\u001b[0m     \u001b[0mpoints\u001b[0m \u001b[0;34m=\u001b[0m \u001b[0msorted\u001b[0m\u001b[0;34m(\u001b[0m\u001b[0mpoints\u001b[0m\u001b[0;34m,\u001b[0m \u001b[0mkey\u001b[0m \u001b[0;34m=\u001b[0m \u001b[0;32mlambda\u001b[0m \u001b[0mx\u001b[0m \u001b[0;34m:\u001b[0m \u001b[0mx\u001b[0m\u001b[0;34m[\u001b[0m\u001b[0;36m1\u001b[0m\u001b[0;34m]\u001b[0m\u001b[0;34m)\u001b[0m\u001b[0;34m\u001b[0m\u001b[0;34m\u001b[0m\u001b[0m\n\u001b[1;32m     20\u001b[0m \u001b[0;34m\u001b[0m\u001b[0m\n",
      "\u001b[0;31mTypeError\u001b[0m: can only concatenate list (not \"int\") to list"
     ]
    }
   ],
   "source": [
    "changeUserGrade(commands, userInfo, game_log, 30)"
   ]
  },
  {
   "cell_type": "code",
   "execution_count": 246,
   "metadata": {
    "ExecuteTime": {
     "end_time": "2021-09-25T07:25:24.521141Z",
     "start_time": "2021-09-25T07:25:24.428324Z"
    }
   },
   "outputs": [
    {
     "data": {
      "text/plain": [
       "[{'id': 1, 'grade': 30},\n",
       " {'id': 2, 'grade': 30},\n",
       " {'id': 3, 'grade': 30},\n",
       " {'id': 4, 'grade': 30},\n",
       " {'id': 5, 'grade': 30},\n",
       " {'id': 6, 'grade': 30},\n",
       " {'id': 7, 'grade': 30},\n",
       " {'id': 8, 'grade': 30},\n",
       " {'id': 9, 'grade': 30},\n",
       " {'id': 10, 'grade': 30},\n",
       " {'id': 11, 'grade': 30},\n",
       " {'id': 12, 'grade': 30},\n",
       " {'id': 13, 'grade': 30},\n",
       " {'id': 14, 'grade': 30},\n",
       " {'id': 15, 'grade': 30},\n",
       " {'id': 16, 'grade': 30},\n",
       " {'id': 17, 'grade': 30},\n",
       " {'id': 18, 'grade': 30},\n",
       " {'id': 19, 'grade': 30},\n",
       " {'id': 20, 'grade': 30},\n",
       " {'id': 21, 'grade': 30},\n",
       " {'id': 22, 'grade': 30},\n",
       " {'id': 23, 'grade': 30},\n",
       " {'id': 24, 'grade': 30},\n",
       " {'id': 25, 'grade': 30},\n",
       " {'id': 26, 'grade': 30},\n",
       " {'id': 27, 'grade': 30},\n",
       " {'id': 28, 'grade': 30},\n",
       " {'id': 29, 'grade': 30},\n",
       " {'id': 30, 'grade': 30}]"
      ]
     },
     "execution_count": 246,
     "metadata": {},
     "output_type": "execute_result"
    }
   ],
   "source": [
    "getUserInfo(url,auth_key)"
   ]
  },
  {
   "cell_type": "code",
   "execution_count": 232,
   "metadata": {
    "ExecuteTime": {
     "end_time": "2021-09-25T07:19:40.501254Z",
     "start_time": "2021-09-25T07:19:40.435895Z"
    }
   },
   "outputs": [
    {
     "data": {
      "text/plain": [
       "{'status': 'finished',\n",
       " 'efficiency_score': '99.75',\n",
       " 'accuracy_score1': '45.1111',\n",
       " 'accuracy_score2': '68.0168',\n",
       " 'score': '215.5535'}"
      ]
     },
     "execution_count": 232,
     "metadata": {},
     "output_type": "execute_result"
    }
   ],
   "source": [
    "getScore(url, auth_key)"
   ]
  }
 ],
 "metadata": {
  "hide_input": false,
  "kernelspec": {
   "display_name": "Python 3",
   "language": "python",
   "name": "python3"
  },
  "language_info": {
   "codemirror_mode": {
    "name": "ipython",
    "version": 3
   },
   "file_extension": ".py",
   "mimetype": "text/x-python",
   "name": "python",
   "nbconvert_exporter": "python",
   "pygments_lexer": "ipython3",
   "version": "3.8.5"
  },
  "toc": {
   "base_numbering": 1,
   "nav_menu": {},
   "number_sections": true,
   "sideBar": true,
   "skip_h1_title": false,
   "title_cell": "Table of Contents",
   "title_sidebar": "Contents",
   "toc_cell": false,
   "toc_position": {},
   "toc_section_display": true,
   "toc_window_display": false
  },
  "varInspector": {
   "cols": {
    "lenName": 16,
    "lenType": 16,
    "lenVar": 40
   },
   "kernels_config": {
    "python": {
     "delete_cmd_postfix": "",
     "delete_cmd_prefix": "del ",
     "library": "var_list.py",
     "varRefreshCmd": "print(var_dic_list())"
    },
    "r": {
     "delete_cmd_postfix": ") ",
     "delete_cmd_prefix": "rm(",
     "library": "var_list.r",
     "varRefreshCmd": "cat(var_dic_list()) "
    }
   },
   "types_to_exclude": [
    "module",
    "function",
    "builtin_function_or_method",
    "instance",
    "_Feature"
   ],
   "window_display": false
  }
 },
 "nbformat": 4,
 "nbformat_minor": 4
}
