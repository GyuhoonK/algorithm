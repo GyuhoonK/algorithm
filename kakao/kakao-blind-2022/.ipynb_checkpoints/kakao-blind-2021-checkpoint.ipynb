{
 "cells": [
  {
   "cell_type": "code",
   "execution_count": 1,
   "metadata": {
    "ExecuteTime": {
     "end_time": "2021-09-24T16:28:23.426632Z",
     "start_time": "2021-09-24T16:28:23.424266Z"
    }
   },
   "outputs": [],
   "source": [
    "x_auth_token = \"9620e9ad2345ba4c0f51a7ecc33ae468\"\n",
    "url = \"https://kox947ka1a.execute-api.ap-northeast-2.amazonaws.com/prod/users\""
   ]
  },
  {
   "cell_type": "code",
   "execution_count": 2,
   "metadata": {
    "ExecuteTime": {
     "end_time": "2021-09-24T16:28:24.106493Z",
     "start_time": "2021-09-24T16:28:24.043976Z"
    }
   },
   "outputs": [],
   "source": [
    "import numpy as np\n",
    "\n",
    "import requests\n",
    "import json"
   ]
  },
  {
   "cell_type": "code",
   "execution_count": 3,
   "metadata": {
    "ExecuteTime": {
     "end_time": "2021-09-24T16:28:25.308062Z",
     "start_time": "2021-09-24T16:28:25.139813Z"
    }
   },
   "outputs": [],
   "source": [
    "header = {\"X-Auth-Token\" : x_auth_token,\n",
    "         \"Content-Type\" : \"json\",\n",
    "         }\n",
    "params = {\"problem\" : \"1\" }\n",
    "\n",
    "res = requests.post(url+'/start', headers = header, params = params)\n",
    "prob1_key = res.json()['auth_key']"
   ]
  },
  {
   "cell_type": "code",
   "execution_count": 5,
   "metadata": {
    "ExecuteTime": {
     "end_time": "2021-09-24T16:28:31.502044Z",
     "start_time": "2021-09-24T16:28:31.498705Z"
    }
   },
   "outputs": [],
   "source": [
    "def getLocatedBikes(url, prob1_key):\n",
    "    headers = {\"Authorization\" : prob1_key,\n",
    "               \"Content-Type\" : \"json\"}\n",
    "    bike_cnts = requests.get(url + '/locations', headers = headers)\n",
    "    return [cnts['located_bikes_count'] for cnts in bike_cnts.json()['locations']]"
   ]
  },
  {
   "cell_type": "code",
   "execution_count": 6,
   "metadata": {
    "ExecuteTime": {
     "end_time": "2021-09-24T16:28:31.883287Z",
     "start_time": "2021-09-24T16:28:31.879831Z"
    }
   },
   "outputs": [],
   "source": [
    "def getTruckStat(url, prob1_key):\n",
    "    headers = {\"Authorization\" : prob1_key,\n",
    "               \"Content-Type\" : \"json\"}\n",
    "    res = requests.get(url + '/trucks', headers = headers)\n",
    "    trucks = res.json()['trucks']\n",
    "    ret = dict()\n",
    "    for tru in trucks :\n",
    "        ret.update({tru['id'] : {'loc' : tru['location_id'], 'cnt' : tru['loaded_bikes_count']}})\n",
    "    return ret"
   ]
  },
  {
   "cell_type": "code",
   "execution_count": 7,
   "metadata": {
    "ExecuteTime": {
     "end_time": "2021-09-24T16:28:32.153227Z",
     "start_time": "2021-09-24T16:28:32.149717Z"
    }
   },
   "outputs": [],
   "source": [
    "def getZone(idx):\n",
    "    ret = [idx]\n",
    "    ret += [idx-1, idx+1, idx-5, idx+5]\n",
    "    ret += [idx-4, idx+4, idx-6, idx+6]\n",
    "    return ret\n",
    "\n",
    "def getZoneBikes(LocBikes, idx):\n",
    "    zone = getZone(idx)\n",
    "    ret = {i : LocBikes[i] for i in zone}\n",
    "    return ret"
   ]
  },
  {
   "cell_type": "code",
   "execution_count": 8,
   "metadata": {
    "ExecuteTime": {
     "end_time": "2021-09-24T16:28:32.618278Z",
     "start_time": "2021-09-24T16:28:32.615758Z"
    }
   },
   "outputs": [],
   "source": [
    "def getZoneAvg(LocBikes, zone):\n",
    "    zoneBikes = np.array(LocBikes)\n",
    "    return np.mean(zoneBikes[zone])"
   ]
  },
  {
   "cell_type": "code",
   "execution_count": 9,
   "metadata": {
    "ExecuteTime": {
     "end_time": "2021-09-24T16:28:32.932361Z",
     "start_time": "2021-09-24T16:28:32.929023Z"
    }
   },
   "outputs": [],
   "source": [
    "def getMinMaxZone(zoneBikes):\n",
    "    min_ = 999\n",
    "    min_idx = 0\n",
    "    max_ = -1\n",
    "    max_idx = 0\n",
    "    for idx in zoneBikes.keys():\n",
    "        if zoneBikes[idx] < min_ :\n",
    "            min_ = zoneBikes[idx]\n",
    "            min_idx = idx\n",
    "        if zoneBikes[idx] > max_ :\n",
    "            max_ = zoneBikes[idx]\n",
    "            max_idx = idx\n",
    "    return (max_idx, min_idx)"
   ]
  },
  {
   "cell_type": "code",
   "execution_count": 10,
   "metadata": {
    "ExecuteTime": {
     "end_time": "2021-09-24T16:28:33.592566Z",
     "start_time": "2021-09-24T16:28:33.585485Z"
    }
   },
   "outputs": [],
   "source": [
    "# 0: 6초간 아무것도 하지 않음\n",
    "# 1: 위로 한 칸 이동\n",
    "# 2: 오른쪽으로 한 칸 이동\n",
    "# 3: 아래로 한 칸 이동\n",
    "# 4: 왼쪽으로 한 칸 이동\n",
    "# 5: 자전거 상차\n",
    "# 6: 자전거 하차\n",
    "def makeRoute(start, end):\n",
    "    diff = start - end \n",
    "    if diff == 1 :\n",
    "        return [3]\n",
    "    if diff == -1 :\n",
    "        return [1]\n",
    "    if diff == 5 :\n",
    "        return [4]\n",
    "    if diff == -5 :\n",
    "        return [3]\n",
    "    if diff == 6 :\n",
    "        return [3, 4]\n",
    "    if diff == -6 :\n",
    "        return [2, 1]\n",
    "    if diff == 4 :\n",
    "        return [1, 4]\n",
    "    if diff == -4 :\n",
    "        return [2, 3]\n",
    "    if diff == 2 :\n",
    "        return [3, 3]\n",
    "    if diff == -2 :\n",
    "        return [1, 1]\n",
    "    if diff == 12 : \n",
    "        return [4, 4, 3, 3]\n",
    "    if diff == -12 :\n",
    "        return [2, 2, 1, 1]\n",
    "    if diff == 8 :\n",
    "        return [4, 4, 1, 1]\n",
    "    if diff == -8 :\n",
    "        return [2, 2, 3, 3]\n",
    "    if diff == 0 :\n",
    "        return []\n",
    "    if diff == 3 :\n",
    "        return [4, 1,1]\n",
    "    if diff == -3 :\n",
    "        return [2, 3, 3]\n",
    "    if diff == 7:\n",
    "        return [4, 3, 3]\n",
    "    if diff == -7 :\n",
    "        return [1,1,2]\n",
    "    if diff == 11 :\n",
    "        return [4, 4, 3]\n",
    "    if diff == -11 :\n",
    "        return [2, 2, 1]\n",
    "    if diff == 9 :\n",
    "        return [4, 4, 1]\n",
    "    if diff == -9 :\n",
    "        return [2, 2, 3]"
   ]
  },
  {
   "cell_type": "code",
   "execution_count": 11,
   "metadata": {
    "ExecuteTime": {
     "end_time": "2021-09-24T16:28:33.990865Z",
     "start_time": "2021-09-24T16:28:33.987672Z"
    }
   },
   "outputs": [],
   "source": [
    "def putSimulate(url, prob1_key, commands):\n",
    "    headers = {\"Authorization\" : prob1_key,\n",
    "           \"Content-Type\" : \"json\"}\n",
    "    params = {\"commands\": commands}\n",
    "    res = requests.put(url + '/simulate', headers = headers, data = json.dumps(params))\n",
    "    return res.json()"
   ]
  },
  {
   "cell_type": "code",
   "execution_count": 12,
   "metadata": {
    "ExecuteTime": {
     "end_time": "2021-09-24T16:28:34.290741Z",
     "start_time": "2021-09-24T16:28:34.287781Z"
    }
   },
   "outputs": [],
   "source": [
    "def getScore(url, prob1_key):\n",
    "    headers = {\"Authorization\" : prob1_key,\n",
    "               \"Content-Type\" : \"json\"}\n",
    "    res = requests.get(url + '/score', headers = headers)\n",
    "    return res.json()['score']"
   ]
  },
  {
   "cell_type": "code",
   "execution_count": 13,
   "metadata": {
    "ExecuteTime": {
     "end_time": "2021-09-24T16:28:35.149816Z",
     "start_time": "2021-09-24T16:28:34.587551Z"
    }
   },
   "outputs": [],
   "source": [
    "header = {\"X-Auth-Token\" : x_auth_token,\n",
    "         \"Content-Type\" : \"json\",\n",
    "         }\n",
    "params = {\"problem\" : \"1\" }\n",
    "\n",
    "res = requests.post(url+'/start', headers = header, params = params)\n",
    "prob1_key = res.json()['auth_key']"
   ]
  },
  {
   "cell_type": "code",
   "execution_count": 14,
   "metadata": {
    "ExecuteTime": {
     "end_time": "2021-09-24T16:28:35.654359Z",
     "start_time": "2021-09-24T16:28:35.162313Z"
    }
   },
   "outputs": [
    {
     "data": {
      "text/plain": [
       "{'status': 'ready',\n",
       " 'time': 1,\n",
       " 'failed_requests_count': '0.0',\n",
       " 'distance': '2.0'}"
      ]
     },
     "execution_count": 14,
     "metadata": {},
     "output_type": "execute_result"
    }
   ],
   "source": [
    "# Move Trucks to Center of Zone\n",
    "# 0: 6초간 아무것도 하지 않음\n",
    "# 1: 위로 한 칸 이동\n",
    "# 2: 오른쪽으로 한 칸 이동\n",
    "# 3: 아래로 한 칸 이동\n",
    "# 4: 왼쪽으로 한 칸 이동\n",
    "# 5: 자전거 상차\n",
    "# 6: 자전거 하차\n",
    "commands = [\n",
    "    { \"truck_id\": 0, \"command\": [1, 2] },\n",
    "    { \"truck_id\": 1, \"command\": [1,1,1,2,2,2] },\n",
    "    { \"truck_id\": 2, \"command\": [1,2,2,2] },\n",
    "    { \"truck_id\": 3, \"command\": [1,1,1,2] },\n",
    "    { \"truck_id\": 4, \"command\": [1,1,2,2] },\n",
    "]\n",
    "putSimulate(url, prob1_key, commands)"
   ]
  },
  {
   "cell_type": "code",
   "execution_count": 15,
   "metadata": {
    "ExecuteTime": {
     "end_time": "2021-09-24T16:28:36.180183Z",
     "start_time": "2021-09-24T16:28:35.665955Z"
    }
   },
   "outputs": [
    {
     "data": {
      "text/plain": [
       "{0: {'loc': 6, 'cnt': 0},\n",
       " 1: {'loc': 18, 'cnt': 0},\n",
       " 2: {'loc': 16, 'cnt': 0},\n",
       " 3: {'loc': 8, 'cnt': 0},\n",
       " 4: {'loc': 12, 'cnt': 0}}"
      ]
     },
     "execution_count": 15,
     "metadata": {},
     "output_type": "execute_result"
    }
   ],
   "source": [
    "getTruckStat(url, prob1_key)"
   ]
  },
  {
   "cell_type": "code",
   "execution_count": 19,
   "metadata": {
    "ExecuteTime": {
     "end_time": "2021-09-24T16:30:21.916856Z",
     "start_time": "2021-09-24T16:30:21.913954Z"
    }
   },
   "outputs": [],
   "source": [
    "zone_idxs = [6, 18, 16, 8, 12]"
   ]
  },
  {
   "cell_type": "code",
   "execution_count": 16,
   "metadata": {
    "ExecuteTime": {
     "end_time": "2021-09-24T16:28:48.519022Z",
     "start_time": "2021-09-24T16:28:48.509136Z"
    }
   },
   "outputs": [],
   "source": [
    "from tqdm import tqdm"
   ]
  },
  {
   "cell_type": "code",
   "execution_count": 18,
   "metadata": {
    "ExecuteTime": {
     "end_time": "2021-09-24T16:30:18.348041Z",
     "start_time": "2021-09-24T16:30:18.051378Z"
    }
   },
   "outputs": [
    {
     "name": "stderr",
     "output_type": "stream",
     "text": [
      "  0%|          | 0/719 [00:00<?, ?it/s]\n"
     ]
    },
    {
     "ename": "NameError",
     "evalue": "name 'zone_idxs' is not defined",
     "output_type": "error",
     "traceback": [
      "\u001b[0;31m---------------------------------------------------------------------------\u001b[0m",
      "\u001b[0;31mNameError\u001b[0m                                 Traceback (most recent call last)",
      "\u001b[0;32m<ipython-input-18-ba2d5c729836>\u001b[0m in \u001b[0;36m<module>\u001b[0;34m\u001b[0m\n\u001b[1;32m      3\u001b[0m     \u001b[0mtruck_stat\u001b[0m \u001b[0;34m=\u001b[0m \u001b[0mgetTruckStat\u001b[0m\u001b[0;34m(\u001b[0m\u001b[0murl\u001b[0m\u001b[0;34m,\u001b[0m \u001b[0mprob1_key\u001b[0m\u001b[0;34m)\u001b[0m\u001b[0;34m\u001b[0m\u001b[0;34m\u001b[0m\u001b[0m\n\u001b[1;32m      4\u001b[0m     \u001b[0mcommands\u001b[0m \u001b[0;34m=\u001b[0m \u001b[0;34m[\u001b[0m\u001b[0;34m]\u001b[0m\u001b[0;34m\u001b[0m\u001b[0;34m\u001b[0m\u001b[0m\n\u001b[0;32m----> 5\u001b[0;31m     \u001b[0;32mfor\u001b[0m \u001b[0mtru_id\u001b[0m\u001b[0;34m,\u001b[0m \u001b[0mzone_idx\u001b[0m \u001b[0;32min\u001b[0m \u001b[0menumerate\u001b[0m\u001b[0;34m(\u001b[0m\u001b[0mzone_idxs\u001b[0m\u001b[0;34m)\u001b[0m \u001b[0;34m:\u001b[0m\u001b[0;34m\u001b[0m\u001b[0;34m\u001b[0m\u001b[0m\n\u001b[0m\u001b[1;32m      6\u001b[0m         \u001b[0mzone\u001b[0m \u001b[0;34m=\u001b[0m \u001b[0mgetZone\u001b[0m\u001b[0;34m(\u001b[0m\u001b[0mzone_idx\u001b[0m\u001b[0;34m)\u001b[0m\u001b[0;34m\u001b[0m\u001b[0;34m\u001b[0m\u001b[0m\n\u001b[1;32m      7\u001b[0m \u001b[0;31m#         zone_avg = getZoneAvg(bikes, zone)\u001b[0m\u001b[0;34m\u001b[0m\u001b[0;34m\u001b[0m\u001b[0;34m\u001b[0m\u001b[0m\n",
      "\u001b[0;31mNameError\u001b[0m: name 'zone_idxs' is not defined"
     ]
    }
   ],
   "source": [
    "for i in tqdm(range(60 * 12 - 1)):\n",
    "    bikes = getLocatedBikes(url, prob1_key)\n",
    "    truck_stat = getTruckStat(url, prob1_key)\n",
    "    commands = []\n",
    "    for tru_id, zone_idx in enumerate(zone_idxs) : \n",
    "        zone = getZone(zone_idx)\n",
    "#         zone_avg = getZoneAvg(bikes, zone)\n",
    "        zone_bikes = getZoneBikes(bikes, zone_idx)\n",
    "        start, end = getMinMaxZone(zone_bikes)\n",
    "        now = truck_stat[tru_id]['loc']\n",
    "        try :\n",
    "            cmd = makeRoute(now, start) + [5] + makeRoute(start, end) + [6]\n",
    "            commands.append({\"truck_id\" : tru_id, \"command\" : cmd})\n",
    "        except :\n",
    "            pass\n",
    "    res = putSimulate(url, prob1_key, commands)\n",
    "    if i % 100 == 0 : \n",
    "        print(res)"
   ]
  },
  {
   "cell_type": "code",
   "execution_count": 137,
   "metadata": {},
   "outputs": [
    {
     "name": "stdout",
     "output_type": "stream",
     "text": [
      "1\n",
      "6 23\n",
      "None\n",
      "23 17\n",
      "[3, 4]\n"
     ]
    }
   ],
   "source": [
    "print(tru_id)\n",
    "print(now, start)\n",
    "\n",
    "print(makeRoute(now, start)\n",
    ")\n",
    "print(start, end)\n",
    "\n",
    "print(makeRoute(start, end))"
   ]
  },
  {
   "cell_type": "code",
   "execution_count": null,
   "metadata": {},
   "outputs": [],
   "source": []
  },
  {
   "cell_type": "code",
   "execution_count": 101,
   "metadata": {},
   "outputs": [],
   "source": [
    "makeRoute(start,end)"
   ]
  },
  {
   "cell_type": "code",
   "execution_count": 92,
   "metadata": {},
   "outputs": [],
   "source": [
    "makeRoute(now, start)"
   ]
  },
  {
   "cell_type": "code",
   "execution_count": 145,
   "metadata": {},
   "outputs": [
    {
     "data": {
      "text/plain": [
       "[2, 3, 2, 1, 2, 3, 2, 2, 2, 4, 0, 2, 2, 1, 2, 2, 2, 1, 2, 0, 2, 2, 1, 2, 2]"
      ]
     },
     "execution_count": 145,
     "metadata": {},
     "output_type": "execute_result"
    }
   ],
   "source": [
    "getLocatedBikes(url, prob1_key)"
   ]
  },
  {
   "cell_type": "code",
   "execution_count": 144,
   "metadata": {},
   "outputs": [
    {
     "data": {
      "text/plain": [
       "273.611656162465"
      ]
     },
     "execution_count": 144,
     "metadata": {},
     "output_type": "execute_result"
    }
   ],
   "source": [
    "getScore(url, prob1_key)"
   ]
  }
 ],
 "metadata": {
  "hide_input": false,
  "kernelspec": {
   "display_name": "Python 3",
   "language": "python",
   "name": "python3"
  },
  "language_info": {
   "codemirror_mode": {
    "name": "ipython",
    "version": 3
   },
   "file_extension": ".py",
   "mimetype": "text/x-python",
   "name": "python",
   "nbconvert_exporter": "python",
   "pygments_lexer": "ipython3",
   "version": "3.8.5"
  },
  "toc": {
   "base_numbering": 1,
   "nav_menu": {},
   "number_sections": true,
   "sideBar": true,
   "skip_h1_title": false,
   "title_cell": "Table of Contents",
   "title_sidebar": "Contents",
   "toc_cell": false,
   "toc_position": {},
   "toc_section_display": true,
   "toc_window_display": false
  },
  "varInspector": {
   "cols": {
    "lenName": 16,
    "lenType": 16,
    "lenVar": 40
   },
   "kernels_config": {
    "python": {
     "delete_cmd_postfix": "",
     "delete_cmd_prefix": "del ",
     "library": "var_list.py",
     "varRefreshCmd": "print(var_dic_list())"
    },
    "r": {
     "delete_cmd_postfix": ") ",
     "delete_cmd_prefix": "rm(",
     "library": "var_list.r",
     "varRefreshCmd": "cat(var_dic_list()) "
    }
   },
   "types_to_exclude": [
    "module",
    "function",
    "builtin_function_or_method",
    "instance",
    "_Feature"
   ],
   "window_display": false
  }
 },
 "nbformat": 4,
 "nbformat_minor": 4
}
