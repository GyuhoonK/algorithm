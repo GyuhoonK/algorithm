{
 "cells": [
  {
   "cell_type": "code",
   "execution_count": 1,
   "metadata": {},
   "outputs": [],
   "source": [
    "import sys\n",
    "N = int(sys.stdin.readline().strip())\n",
    "STEPS = list(map(int, sys.stdin.readlines()))\n",
    "SCORE = [0 for _ in range(N)]\n",
    "if N == 1:\n",
    "    print(STEPS[-1])\n",
    "    sys.exit()\n",
    "SCORE[0] = STEPS[0]\n",
    "SCORE[1] = max((STEPS[0] + STEPS[1]), STEPS[1])\n",
    "for i in range(2,N):\n",
    "    case1 = STEPS[i] + STEPS[i-1] + SCORE[i-3]\n",
    "    case2 = STEPS[i] + SCORE[i-2]\n",
    "    SCORE[i] = max(case1, case2)\n",
    "print(SCORE[N-1])"
   ]
  },
  {
   "cell_type": "markdown",
   "metadata": {},
   "source": [
    "# Dynamic Programming\n",
    "\n",
    " i 단계에 도달할 수 있는 방법을 어떻게 정의할 수 있을까?<br>\n",
    " i_score를 케이스 분류 해보면 <br>\n",
    " 1. (i-3)_score + (i-1)_step + i_step ; (i-3)에서 (i-1)을 밟고 i에 도착\n",
    " 2. (i-2)_score + i_step ; (i-2)에서 바로 i에 도착\n",
    " 연속으로 3개를 동시에 밟을 수 없음을 고려하여 위 두가지 케이스로 분류<br>\n",
    " \n",
    " *debugging<br>\n",
    " N=1일 때, 런타임 에러 발생. 예외처리 하여 해결"
   ]
  }
 ],
 "metadata": {
  "kernelspec": {
   "display_name": "Python 3",
   "language": "python",
   "name": "python3"
  },
  "language_info": {
   "codemirror_mode": {
    "name": "ipython",
    "version": 3
   },
   "file_extension": ".py",
   "mimetype": "text/x-python",
   "name": "python",
   "nbconvert_exporter": "python",
   "pygments_lexer": "ipython3",
   "version": "3.6.9"
  }
 },
 "nbformat": 4,
 "nbformat_minor": 2
}
