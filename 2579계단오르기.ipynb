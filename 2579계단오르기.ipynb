{
 "cells": [
  {
   "cell_type": "code",
   "execution_count": 53,
   "metadata": {},
   "outputs": [],
   "source": [
    "def main():\n",
    "    num = int(input())\n",
    "    a = []\n",
    "    v = []\n",
    "    for i in range(num):\n",
    "        temp = int(input())\n",
    "        a.append(temp)\n",
    "    v.append(a[0])\n",
    "    v.append(a[0]+a[1])\n",
    "    v.append(max(a[0]+a[2],a[1]+a[2]))\n",
    "    for i in range(3,num):\n",
    "        v.append(max(a[i]+a[i-1]+v[i-3],a[i]+v[i-2]))\n",
    "    print(v[num-1])"
   ]
  },
  {
   "cell_type": "code",
   "execution_count": 54,
   "metadata": {},
   "outputs": [
    {
     "name": "stdout",
     "output_type": "stream",
     "text": [
      "6\n",
      "10\n",
      "20\n",
      "15\n",
      "25\n",
      "10\n",
      "20\n",
      "75\n"
     ]
    }
   ],
   "source": [
    "main()"
   ]
  },
  {
   "cell_type": "code",
   "execution_count": null,
   "metadata": {},
   "outputs": [],
   "source": []
  }
 ],
 "metadata": {
  "kernelspec": {
   "display_name": "Python 3",
   "language": "python",
   "name": "python3"
  },
  "language_info": {
   "codemirror_mode": {
    "name": "ipython",
    "version": 3
   },
   "file_extension": ".py",
   "mimetype": "text/x-python",
   "name": "python",
   "nbconvert_exporter": "python",
   "pygments_lexer": "ipython3",
   "version": "3.6.5"
  }
 },
 "nbformat": 4,
 "nbformat_minor": 2
}
