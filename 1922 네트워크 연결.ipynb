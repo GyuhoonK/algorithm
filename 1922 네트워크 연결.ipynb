{
 "cells": [
  {
   "cell_type": "code",
   "execution_count": 1,
   "metadata": {},
   "outputs": [],
   "source": [
    "import sys\n",
    "import heapq"
   ]
  },
  {
   "cell_type": "code",
   "execution_count": null,
   "metadata": {},
   "outputs": [],
   "source": [
    "n = int(sys.stdin.readline())\n",
    "node = []\n",
    "for i in range(n+1):\n",
    "    node.append([]) # node를 추가합니다.\n",
    "m = int(sys.stdin.readline())\n",
    "for i in range(m):\n",
    "    p,q,cost = map(int, sys.stdin.readline())\n",
    "    node[p].append(cost,q)\n",
    "    node[q].append(cost,p) #p-q까지의 edge들을 추가합니다.\n"
   ]
  },
  {
   "cell_type": "code",
   "execution_count": null,
   "metadata": {},
   "outputs": [],
   "source": [
    "def prim(node, start):\n",
    "    dist = [987654321] * (n+1)\n",
    "    dist[0] = 0\n",
    "    dist[start] = 0\n",
    "    Q = []\n",
    "    for i in range(1,n+1):\n",
    "        heapq.heappush(Q,[dist[i],i])\n",
    "    while len(Q) != 0:\n",
    "        u = heapq.heappop()[1] #최소 거리인 node 추출\n",
    "        for i in range(len(node[i])):# len(node[i])는 node가 가진 edge 개수와 동일\n",
    "            v = node[u][i][1] # u에서 연결된 node\n",
    "            w = node[u][i][0] # u에서 연결된 node까지의 cost\n",
    "            if ((v in Q) & (w < dist[v])):\n",
    "                dist[v] = w\n",
    "    return dist"
   ]
  },
  {
   "cell_type": "code",
   "execution_count": null,
   "metadata": {},
   "outputs": [],
   "source": [
    "import sys\n",
    "import heapq\n",
    "def prim(node, start):\n",
    "    dist = [987654321] * (n+1) #start 지점에서의 거리\n",
    "    dist[start] = 0\n",
    "    Q = []\n",
    "    for i in range(1,n+1):\n",
    "        heapq.heappush(Q,[dist[i],i])\n",
    "    while len(Q) != 0:\n",
    "        u = heapq.heappop(Q)[1] #최소 거리인 node 추출\n",
    "        for i in range(len(node[i])):# len(node[i])는 node가 가진 edge 개수와 동일\n",
    "            v = node[u][i][1] # u에서 연결된 node\n",
    "            w = node[u][i][0] # u에서 연결된 node까지의 cost\n",
    "            N = [Q[i][1] for i in range(len(Q))]\n",
    "            if ((v in N) & (w + dist[u] < dist[v])):\n",
    "                dist[v] = w + dist[u]\n",
    "                print(dist)\n",
    "    return dist\n",
    "n = int(sys.stdin.readline())\n",
    "node = []\n",
    "for i in range(n+1):\n",
    "    node.append([]) # node를 추가합니다.\n",
    "m = int(sys.stdin.readline())\n",
    "for i in range(m):\n",
    "    p,q,cost = map(int, sys.stdin.readline().split())\n",
    "    node[p].append([cost,q])\n",
    "    node[q].append([cost,p]) #p-q까지의 edge들을 추가합니다.\n",
    "print(prim(node,1))\n"
   ]
  }
 ],
 "metadata": {
  "kernelspec": {
   "display_name": "Python 3",
   "language": "python",
   "name": "python3"
  },
  "language_info": {
   "codemirror_mode": {
    "name": "ipython",
    "version": 3
   },
   "file_extension": ".py",
   "mimetype": "text/x-python",
   "name": "python",
   "nbconvert_exporter": "python",
   "pygments_lexer": "ipython3",
   "version": "3.6.9"
  }
 },
 "nbformat": 4,
 "nbformat_minor": 2
}
