{
 "cells": [
  {
   "cell_type": "code",
   "execution_count": 4,
   "metadata": {},
   "outputs": [],
   "source": [
    "import heapq"
   ]
  },
  {
   "cell_type": "code",
   "execution_count": 107,
   "metadata": {
    "scrolled": true
   },
   "outputs": [
    {
     "name": "stdout",
     "output_type": "stream",
     "text": [
      "3\n",
      "5 5 4\n",
      "3 9 1\n",
      "3 2 7\n",
      "Problem 1: 22\n",
      "0\n"
     ]
    }
   ],
   "source": [
    "while True:\n",
    "    cnt = 1\n",
    "    n = int(input())\n",
    "    if n == 0:\n",
    "        break\n",
    "    node = []\n",
    "    tmp = []\n",
    "    for i in range(n):\n",
    "        tmp = input().split()\n",
    "        for i in range(len(tmp)):\n",
    "            tmp[i] = int(tmp[i])\n",
    "        node.append(tmp)\n",
    "    ans = dik_pq(node, n)\n",
    "    print(\"Problem %d: %d\"% (cnt, ans[n-1][n-1] + node[0][0]))\n",
    "    cnt += 1"
   ]
  },
  {
   "cell_type": "code",
   "execution_count": 3,
   "metadata": {},
   "outputs": [],
   "source": [
    "x = [0, 1, 0, -1]\n",
    "y = [-1, 0, 1, 0]"
   ]
  },
  {
   "cell_type": "code",
   "execution_count": 110,
   "metadata": {},
   "outputs": [],
   "source": [
    "def dik_pq(node,n):\n",
    "    Q = []\n",
    "    dist = [[126] * n for i in range(n)]\n",
    "    dist[0][0] = 0\n",
    "    for i in range(n):\n",
    "        for j in range(n):\n",
    "            heapq.heappush(Q,[dist[i][j],[i,j]])\n",
    "    while len(Q) != 0:\n",
    "        u = heapq.heappop(Q)[1]\n",
    "        for i in range(4):\n",
    "            new_x = u[0] + x[i]\n",
    "            new_y = u[1] + y[i]\n",
    "            tmp = []\n",
    "            for i in range(len(Q)):\n",
    "                tmp.append(Q[i][1])\n",
    "            if (0 <= new_x < n) & (0 <= new_y < n) & ([new_x, new_y] in tmp):\n",
    "                cost = node[new_x][new_y]\n",
    "                alt = dist[u[0]][u[1]] + cost\n",
    "                if alt < dist[new_x][new_y]:\n",
    "                    dist[new_x][new_y] = alt\n",
    "    return dist"
   ]
  }
 ],
 "metadata": {
  "kernelspec": {
   "display_name": "Python 3",
   "language": "python",
   "name": "python3"
  },
  "language_info": {
   "codemirror_mode": {
    "name": "ipython",
    "version": 3
   },
   "file_extension": ".py",
   "mimetype": "text/x-python",
   "name": "python",
   "nbconvert_exporter": "python",
   "pygments_lexer": "ipython3",
   "version": "3.6.5"
  }
 },
 "nbformat": 4,
 "nbformat_minor": 2
}
