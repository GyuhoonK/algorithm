{
 "cells": [
  {
   "cell_type": "code",
   "execution_count": 1,
   "metadata": {},
   "outputs": [],
   "source": [
    "import sys\n",
    "import queue"
   ]
  },
  {
   "cell_type": "code",
   "execution_count": 15,
   "metadata": {},
   "outputs": [],
   "source": [
    "from collections import deque"
   ]
  },
  {
   "cell_type": "code",
   "execution_count": null,
   "metadata": {},
   "outputs": [],
   "source": [
    "from collections import deque\n",
    "import sys\n",
    "import queue\n",
    "n, m = map( int, sys.stdin.readline().strip().split())\n",
    "\n",
    "student = []\n",
    "indegree = [0 for i in range(m+1)]\n",
    "for i in range(n+1):\n",
    "    student.append([]) \n",
    "for i in range(m):\n",
    "    a, b = map(int, sys.stdin.readline().strip().split())\n",
    "    student[a].append(b) # a가 b의 앞에 와야함, student[i]에 속한 원소들은 i보다 앞선다\n",
    "    indegree[b] += 1\n",
    "q = deque([])\n",
    "for i in range(1,n+1):\n",
    "    if indegree[i] == 0:\n",
    "        q.append(i)\n",
    "for j in range(1,n+1):\n",
    "    target = q.popleft()\n",
    "    print(target, end = ' ')\n",
    "    for k in range(len(student[target])):\n",
    "        rear = student[target][k]\n",
    "        indgree[rear] -= 1\n",
    "        if indgree[rear] == 0:\n",
    "            q.append(i)\n"
   ]
  },
  {
   "cell_type": "code",
   "execution_count": null,
   "metadata": {},
   "outputs": [],
   "source": [
    "from collections import deque\n",
    "import sys\n",
    "import queue\n",
    "n, m = map( int, sys.stdin.readline().strip().split())\n",
    "\n",
    "student = []\n",
    "indegree = [0 for i in range(n+1)]\n",
    "for i in range(n+1):\n",
    "    student.append([]) \n",
    "for i in range(m):\n",
    "    a, b = map(int, sys.stdin.readline().strip().split())\n",
    "    student[a].append(b) # a가 b의 앞에 와야함, student[i]에 속한 원소들은 i보다 앞선다\n",
    "    indegree[b] += 1\n",
    "q = deque([])\n",
    "for i in range(1,n+1):\n",
    "    if indegree[i] == 0:\n",
    "        q.append(i)\n",
    "for j in range(1,n+1):\n",
    "    target = q.popleft()\n",
    "    print(target, end = ' ')\n",
    "    for k in range(len(student[target])):\n",
    "        rear = student[target][k]\n",
    "        indegree[rear] -= 1\n",
    "        if indegree[rear] == 0:\n",
    "            q.append(rear)"
   ]
  }
 ],
 "metadata": {
  "kernelspec": {
   "display_name": "Python 3",
   "language": "python",
   "name": "python3"
  },
  "language_info": {
   "codemirror_mode": {
    "name": "ipython",
    "version": 3
   },
   "file_extension": ".py",
   "mimetype": "text/x-python",
   "name": "python",
   "nbconvert_exporter": "python",
   "pygments_lexer": "ipython3",
   "version": "3.6.9"
  }
 },
 "nbformat": 4,
 "nbformat_minor": 2
}
