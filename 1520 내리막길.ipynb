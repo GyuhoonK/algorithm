{
 "cells": [
  {
   "cell_type": "code",
   "execution_count": 26,
   "metadata": {},
   "outputs": [
    {
     "name": "stdout",
     "output_type": "stream",
     "text": [
      "2 2\n",
      "4 3\n",
      "2 1\n",
      "2\n"
     ]
    }
   ],
   "source": [
    "p = [1, 0, -1, 0]\n",
    "q = [0, 1, 0, -1]\n",
    "def dfs(x, y):\n",
    "    if dp[x][y] is not -1 : #이미 방문 했다면, 해당 dp[x][y]를 반환\n",
    "        return dp[x][y]\n",
    "    if (x == 0) and (y == 0): \n",
    "        return 1\n",
    "    dp[x][y] = 0\n",
    "    for i in range(4):\n",
    "        nextX = x + p[i]\n",
    "        nextY = y + q[i]\n",
    "        if (0 <= nextX < m) and (0 <= nextY < n):\n",
    "            if a[nextX][nextY] > a[x][y]: #값이 더 높은 곳을 찾아감\n",
    "                dp[x][y] = dp[x][y] + dfs(nextX, nextY)\n",
    "    return dp[x][y]\n",
    "    \n",
    "                \n",
    "m, n=map(int,input().split( ))\n",
    "a = []\n",
    "\n",
    "for i in range(m):\n",
    "    a.append(list(map(int,input().split( ))))\n",
    "dp = [[-1] * n for i in range(m)]\n",
    "\n",
    "print(dfs(m-1,n-1))"
   ]
  },
  {
   "cell_type": "code",
   "execution_count": 25,
   "metadata": {},
   "outputs": [
    {
     "data": {
      "text/plain": [
       "[[1, 0], [0, -1]]"
      ]
     },
     "execution_count": 25,
     "metadata": {},
     "output_type": "execute_result"
    }
   ],
   "source": [
    "dp"
   ]
  },
  {
   "cell_type": "code",
   "execution_count": null,
   "metadata": {},
   "outputs": [],
   "source": []
  }
 ],
 "metadata": {
  "kernelspec": {
   "display_name": "Python 3",
   "language": "python",
   "name": "python3"
  },
  "language_info": {
   "codemirror_mode": {
    "name": "ipython",
    "version": 3
   },
   "file_extension": ".py",
   "mimetype": "text/x-python",
   "name": "python",
   "nbconvert_exporter": "python",
   "pygments_lexer": "ipython3",
   "version": "3.6.5"
  }
 },
 "nbformat": 4,
 "nbformat_minor": 2
}
