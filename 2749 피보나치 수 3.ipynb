{
 "cells": [
  {
   "cell_type": "code",
   "execution_count": 49,
   "metadata": {
    "scrolled": true
   },
   "outputs": [
    {
     "name": "stdout",
     "output_type": "stream",
     "text": [
      "546875\n"
     ]
    }
   ],
   "source": [
    "#피사노 주기#\n",
    "import sys\n",
    "input = sys.stdin.readline\n",
    "sys.setrecursionlimit(10**6)\n",
    "\n",
    "NUM = 10 ** 6\n",
    "CYCLE = 15 * (10 ** (6-1))\n",
    "\n",
    "n = int(input())\n",
    "n %= CYCLE\n",
    "\n",
    "f = [0,1]\n",
    "for i in range(2,1+n):\n",
    "    f.append(((f[i-1] % NUM) + (f[i-2] % NUM)) % NUM)\n",
    "print(f[n])"
   ]
  }
 ],
 "metadata": {
  "kernelspec": {
   "display_name": "Python 3",
   "language": "python",
   "name": "python3"
  },
  "language_info": {
   "codemirror_mode": {
    "name": "ipython",
    "version": 3
   },
   "file_extension": ".py",
   "mimetype": "text/x-python",
   "name": "python",
   "nbconvert_exporter": "python",
   "pygments_lexer": "ipython3",
   "version": "3.6.9"
  }
 },
 "nbformat": 4,
 "nbformat_minor": 2
}
