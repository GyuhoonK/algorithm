{
 "cells": [
  {
   "cell_type": "code",
   "execution_count": null,
   "metadata": {},
   "outputs": [],
   "source": [
    "import sys\n",
    "from math import inf\n",
    "import heapq\n",
    "\n",
    "n, m = map(int, sys.stdin.readline().strip().split())\n",
    "node = []\n",
    "\n",
    "for i in range(m):\n",
    "    node.append(list(map(int, sys.stdin.readline().strip())))\n",
    "\n",
    "x = [0, 1, 0, -1]\n",
    "y = [1, 0, -1, 0]\n",
    "\n",
    "def move(cur_x, cur_y):\n",
    "    next_x = []\n",
    "    next_y = []\n",
    "    for delta_x, delta_y in zip(x,y):\n",
    "        tmp_x = delta_x + cur_x\n",
    "        tmp_y = delta_y + cur_y\n",
    "        if (0 <= tmp_x < m) & (0 <= tmp_y < n):\n",
    "            next_x.append(tmp_x)\n",
    "            next_y.append(tmp_y)\n",
    "    next_ = []\n",
    "    for i,j in zip(next_x, next_y):\n",
    "        next_.append([i,j])\n",
    "    return next_\n",
    "\n",
    "dist = [[inf for i in range(n)] for j in range(m)]\n",
    "dist[0][0] = 0\n",
    "Q = []\n",
    "heapq.heappush(Q,[0,[0,0]])\n",
    "while len(Q) != 0:\n",
    "    cur_dist, (cur_x, cur_y) = heapq.heappop(Q)\n",
    "    for next_x, next_y in move(cur_x, cur_y):\n",
    "        if dist[next_x][next_y] > cur_dist + node[next_x][next_y]:\n",
    "            dist[next_x][next_y] = cur_dist + node[next_x][next_y]\n",
    "            heapq.heappush(Q,[dist[next_x][next_y],[next_x,next_y]])\n",
    "print(dist[n-1][m-1])"
   ]
  },
  {
   "cell_type": "code",
   "execution_count": 33,
   "metadata": {},
   "outputs": [],
   "source": [
    "def move(cur_x, cur_y):\n",
    "    next_x = []\n",
    "    next_y = []\n",
    "    for delta_x, delta_y in zip(x,y):\n",
    "        tmp_x = delta_x + cur_x\n",
    "        tmp_y = delta_y + cur_y\n",
    "        if (0 <= tmp_x < m) & (0 <= tmp_y < n):\n",
    "            next_x.append(tmp_x)\n",
    "            next_y.append(tmp_y)\n",
    "    next_ = []\n",
    "    for i,j in zip(next_x, next_y):\n",
    "        next_.append([i,j])\n",
    "    return next_"
   ]
  },
  {
   "cell_type": "code",
   "execution_count": 24,
   "metadata": {},
   "outputs": [],
   "source": [
    "import heapq"
   ]
  },
  {
   "cell_type": "code",
   "execution_count": 27,
   "metadata": {},
   "outputs": [
    {
     "name": "stdout",
     "output_type": "stream",
     "text": [
      "0 1\n",
      "1 0\n"
     ]
    }
   ],
   "source": [
    "for i,j in move(0,0):\n",
    "    print(i, j)"
   ]
  },
  {
   "cell_type": "code",
   "execution_count": 28,
   "metadata": {},
   "outputs": [],
   "source": [
    "a = [[0,0,0,1],[1,0,0,0]]"
   ]
  },
  {
   "cell_type": "code",
   "execution_count": 29,
   "metadata": {},
   "outputs": [
    {
     "data": {
      "text/plain": [
       "0"
      ]
     },
     "execution_count": 29,
     "metadata": {},
     "output_type": "execute_result"
    }
   ],
   "source": [
    "a[1][2]"
   ]
  },
  {
   "cell_type": "code",
   "execution_count": 30,
   "metadata": {},
   "outputs": [
    {
     "ename": "IndexError",
     "evalue": "list index out of range",
     "output_type": "error",
     "traceback": [
      "\u001b[1;31m---------------------------------------------------------------------------\u001b[0m",
      "\u001b[1;31mIndexError\u001b[0m                                Traceback (most recent call last)",
      "\u001b[1;32m<ipython-input-30-7cde07409988>\u001b[0m in \u001b[0;36m<module>\u001b[1;34m\u001b[0m\n\u001b[1;32m----> 1\u001b[1;33m \u001b[0ma\u001b[0m\u001b[1;33m[\u001b[0m\u001b[1;36m2\u001b[0m\u001b[1;33m]\u001b[0m\u001b[1;33m[\u001b[0m\u001b[1;36m1\u001b[0m\u001b[1;33m]\u001b[0m\u001b[1;33m\u001b[0m\u001b[1;33m\u001b[0m\u001b[0m\n\u001b[0m",
      "\u001b[1;31mIndexError\u001b[0m: list index out of range"
     ]
    }
   ],
   "source": [
    "a[2][1]"
   ]
  },
  {
   "cell_type": "code",
   "execution_count": 31,
   "metadata": {},
   "outputs": [
    {
     "data": {
      "text/plain": [
       "[0, 0, 0, 1]"
      ]
     },
     "execution_count": 31,
     "metadata": {},
     "output_type": "execute_result"
    }
   ],
   "source": [
    "a[0]"
   ]
  },
  {
   "cell_type": "code",
   "execution_count": 34,
   "metadata": {},
   "outputs": [
    {
     "data": {
      "text/plain": [
       "[[1, 2], [1, 0], [0, 1]]"
      ]
     },
     "execution_count": 34,
     "metadata": {},
     "output_type": "execute_result"
    }
   ],
   "source": [
    "n = 4\n",
    "m = 2\n",
    "move(1,1)"
   ]
  },
  {
   "cell_type": "code",
   "execution_count": null,
   "metadata": {},
   "outputs": [],
   "source": []
  }
 ],
 "metadata": {
  "kernelspec": {
   "display_name": "Python 3",
   "language": "python",
   "name": "python3"
  },
  "language_info": {
   "codemirror_mode": {
    "name": "ipython",
    "version": 3
   },
   "file_extension": ".py",
   "mimetype": "text/x-python",
   "name": "python",
   "nbconvert_exporter": "python",
   "pygments_lexer": "ipython3",
   "version": "3.6.9"
  }
 },
 "nbformat": 4,
 "nbformat_minor": 2
}
