{
 "cells": [
  {
   "cell_type": "code",
   "execution_count": null,
   "metadata": {},
   "outputs": [],
   "source": [
    "import sys\n",
    "input = sys.stdin.readline\n",
    "\n",
    "t = int(input().rstrip())\n",
    "for i in range(t):\n",
    "    n, m, x, y = map(int, input().rstrip().split())\n",
    "    dif = m - n\n",
    "    dif2 = y - x\n",
    "    if dif2 % dif != 0 :\n",
    "        print(-1)\n",
    "    else :\n",
    "        count = 0\n",
    "        while not dif == dif2:\n",
    "            count += 1\n",
    "            dif2 -= dif\n",
    "            if dif2 < 0 :\n",
    "                dif2 += m\n",
    "            if dif2 > m:\n",
    "                dif2 -= m\n",
    "            if dif2 == 0:\n",
    "                dif2 = m\n",
    "        print(count * n + x)"
   ]
  },
  {
   "cell_type": "code",
   "execution_count": 63,
   "metadata": {},
   "outputs": [
    {
     "data": {
      "text/plain": [
       "True"
      ]
     },
     "execution_count": 63,
     "metadata": {},
     "output_type": "execute_result"
    }
   ],
   "source": [
    "1 not in []"
   ]
  },
  {
   "cell_type": "code",
   "execution_count": 64,
   "metadata": {},
   "outputs": [
    {
     "data": {
      "text/plain": [
       "-3"
      ]
     },
     "execution_count": 64,
     "metadata": {},
     "output_type": "execute_result"
    }
   ],
   "source": [
    "2%-5"
   ]
  },
  {
   "cell_type": "code",
   "execution_count": null,
   "metadata": {},
   "outputs": [],
   "source": []
  }
 ],
 "metadata": {
  "kernelspec": {
   "display_name": "Python 3",
   "language": "python",
   "name": "python3"
  },
  "language_info": {
   "codemirror_mode": {
    "name": "ipython",
    "version": 3
   },
   "file_extension": ".py",
   "mimetype": "text/x-python",
   "name": "python",
   "nbconvert_exporter": "python",
   "pygments_lexer": "ipython3",
   "version": "3.6.9"
  }
 },
 "nbformat": 4,
 "nbformat_minor": 2
}
