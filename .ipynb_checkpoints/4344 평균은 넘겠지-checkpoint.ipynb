{
 "cells": [
  {
   "cell_type": "code",
   "execution_count": null,
   "metadata": {},
   "outputs": [],
   "source": [
    "import sys\n",
    "input = sys.stdin.readline\n",
    "\n",
    "n = int(input().strip())\n",
    "for i in range(n):\n",
    "    t = list(map(int,input().strip().split()))\n",
    "    student_number = t[0]\n",
    "    score = t[1:]\n",
    "    score_mean = sum(score)/len(score)\n",
    "    student_mean = 0\n",
    "    for i in score:\n",
    "        if i > score_mean:\n",
    "            student_mean += 1\n",
    "    print('{:.3f}%'.format(student_mean/student_number* 100))"
   ]
  },
  {
   "cell_type": "code",
   "execution_count": null,
   "metadata": {},
   "outputs": [],
   "source": []
  }
 ],
 "metadata": {
  "kernelspec": {
   "display_name": "Python 3",
   "language": "python",
   "name": "python3"
  },
  "language_info": {
   "codemirror_mode": {
    "name": "ipython",
    "version": 3
   },
   "file_extension": ".py",
   "mimetype": "text/x-python",
   "name": "python",
   "nbconvert_exporter": "python",
   "pygments_lexer": "ipython3",
   "version": "3.6.9"
  }
 },
 "nbformat": 4,
 "nbformat_minor": 2
}
