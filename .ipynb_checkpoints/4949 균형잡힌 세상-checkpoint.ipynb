{
 "cells": [
  {
   "cell_type": "code",
   "execution_count": 1,
   "metadata": {},
   "outputs": [],
   "source": [
    "#sys.stdin.readline().rstrip()을 사용하는 습관\n",
    "import sys\n",
    "from collections import deque\n",
    "input = sys.stdin.readline\n",
    "\n",
    "bal = {')' : '(',\n",
    "      ']': '['}\n",
    "\n",
    "def check_balance(string):\n",
    "    Q = deque()\n",
    "    for C in string:\n",
    "        if (C == '(') or (C == '['):\n",
    "            Q.append(C)\n",
    "            continue\n",
    "        if (C ==')') or (C == ']'):\n",
    "            if len(Q) == 0 :\n",
    "                return 'no'\n",
    "            if not bal[C] == Q.pop():\n",
    "                return 'no'\n",
    "    if len(Q) > 0:\n",
    "        return 'no'\n",
    "    return 'yes'\n",
    "\n",
    "while True :\n",
    "    string = input().rstrip()\n",
    "    if string == '.' :\n",
    "        break\n",
    "    else :\n",
    "        while string[-1] != '.':\n",
    "            tmp = input().rstrip()\n",
    "            string = string + tmp\n",
    "        print(check_balance(string))"
   ]
  }
 ],
 "metadata": {
  "kernelspec": {
   "display_name": "Python 3",
   "language": "python",
   "name": "python3"
  },
  "language_info": {
   "codemirror_mode": {
    "name": "ipython",
    "version": 3
   },
   "file_extension": ".py",
   "mimetype": "text/x-python",
   "name": "python",
   "nbconvert_exporter": "python",
   "pygments_lexer": "ipython3",
   "version": "3.6.9"
  }
 },
 "nbformat": 4,
 "nbformat_minor": 2
}
