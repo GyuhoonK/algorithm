{
 "cells": [
  {
   "cell_type": "code",
   "execution_count": null,
   "metadata": {},
   "outputs": [],
   "source": [
    "'''\n",
    "입력 받음과 동시에 parent를 결정하려고 했던 모델\n",
    "왜 오답? tree에 속하지 않은 두 node를 입력으로 받을 경우, 오류 발생\n",
    "즉, graph를 만든 뒤 parent를 <탐색>하는 과정으로 수정해야함\n",
    "'''\n",
    "\n",
    "import sys\n",
    "input = sys.stdin.readline\n",
    "\n",
    "N = int(input().rstrip()) # 노드의 개수\n",
    "#tree의 node 구조 : parent, level#\n",
    "#node[1] = [None, 1]\n",
    "node = [{'p':None,'d':0} for _ in range(N+1)]\n",
    "for _ in range(N-1):\n",
    "    a, b = map(int, input().rstrip().split(' '))\n",
    "    if a > b :\n",
    "        a, b = b, a #이로써 항상 a가 작다\n",
    "    if a == 1: #a가 root node라면,\n",
    "        node[b]['p'] = a\n",
    "        node[b]['d'] = node[a]['d'] + 1\n",
    "    else : #둘의 depth를 비교한다\n",
    "        if node[a]['d'] > node[b]['d'] :\n",
    "            a, b = b, a #이로써 node a의 depth가 항상 더 낮다(= 항상 0이다)\n",
    "        node[a]['p'] = b\n",
    "        node[a]['d'] = node[b]['d'] + 1\n",
    "for n in range(2,N+1):\n",
    "    print(node[n]['p'])"
   ]
  },
  {
   "cell_type": "code",
   "execution_count": null,
   "metadata": {},
   "outputs": [],
   "source": [
    "'''\n",
    "node들을 입력받은 뒤에 bfs 탐색으로 parent를 결정하는 모델\n",
    "'''\n",
    "\n",
    "import sys\n",
    "input = sys.stdin.readline\n",
    "from collections import deque\n",
    "\n",
    "N = int(input().rstrip()) # 노드의 개수\n",
    "node = [[] for _ in range(N+1)]\n",
    "parent = [0 for _ in range(N+1)]\n",
    "visit = [False for _ in range(N+1)]\n",
    "for _ in range(N-1):\n",
    "    i, j = map(int, input().rstrip().split())\n",
    "    node[i].append(j)\n",
    "    node[j].append(i)\n",
    "\n",
    "q = deque()\n",
    "q.append(1)\n",
    "while not len(q) == 0:\n",
    "    cur = q.popleft()\n",
    "    visit[cur] = True\n",
    "    for nei in node[cur]:\n",
    "        if not visit[nei]:\n",
    "            q.append(nei)\n",
    "            parent[nei] = cur\n",
    "for n in range(2,N+1):\n",
    "    print(parent[n])"
   ]
  },
  {
   "cell_type": "code",
   "execution_count": 5,
   "metadata": {},
   "outputs": [],
   "source": [
    "q = deque()"
   ]
  },
  {
   "cell_type": "code",
   "execution_count": 6,
   "metadata": {},
   "outputs": [],
   "source": [
    "q.append(1)\n",
    "q.append(2)"
   ]
  },
  {
   "cell_type": "code",
   "execution_count": 7,
   "metadata": {},
   "outputs": [
    {
     "data": {
      "text/plain": [
       "2"
      ]
     },
     "execution_count": 7,
     "metadata": {},
     "output_type": "execute_result"
    }
   ],
   "source": [
    "q.pop()"
   ]
  },
  {
   "cell_type": "code",
   "execution_count": null,
   "metadata": {},
   "outputs": [],
   "source": []
  }
 ],
 "metadata": {
  "kernelspec": {
   "display_name": "Python 3",
   "language": "python",
   "name": "python3"
  },
  "language_info": {
   "codemirror_mode": {
    "name": "ipython",
    "version": 3
   },
   "file_extension": ".py",
   "mimetype": "text/x-python",
   "name": "python",
   "nbconvert_exporter": "python",
   "pygments_lexer": "ipython3",
   "version": "3.6.9"
  }
 },
 "nbformat": 4,
 "nbformat_minor": 2
}
