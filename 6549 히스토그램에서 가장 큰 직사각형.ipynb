{
 "cells": [
  {
   "cell_type": "code",
   "execution_count": null,
   "metadata": {},
   "outputs": [],
   "source": [
    "import sys\n",
    "from math import ceil, sqrt, inf\n",
    "sys.setrecursionlimit(10 ** 6)\n",
    "input = sys.stdin.readline\n",
    "\n",
    "def make_seg(hist, tree, i, start, end):\n",
    "    #hist[start] ~ hist[end] 범위에서 직사각형을 만든다\n",
    "    if start == end :\n",
    "        tree[i] = [(start, hist[start]), (start, end)]\n",
    "        return \n",
    "    if start > end :\n",
    "        return\n",
    "    height = min(hist[start:end+1])\n",
    "    tree[i] = [(hist[start:end+1].index(height)+start, height), (start, end)]\n",
    "    mid = (start + end) // 2\n",
    "    #left node\n",
    "    make_seg(hist, tree, 2*i, start, mid)\n",
    "    #right node\n",
    "    make_seg(hist, tree, 2*i + 1, mid +1, end)\n",
    "\n",
    "\n",
    "def find_query(tree, i, left, right):\n",
    "    (ind, height), (start, end) = tree[i]\n",
    "    if (start > right) | (end < left): #검색 구간과 노드가 관계 없음\n",
    "        return (inf, inf)\n",
    "    if (left <= start) & (end <= right):# 검색 구간 내부에 노드가 포함됨\n",
    "        return (height, ind)\n",
    "    else : #걸쳐있음\n",
    "        return min(find_query(tree, 2*i, left, right), find_query(tree, 2*i+1, left, right))\n",
    "        \n",
    "def find_max(tree, left, right):\n",
    "    (height, ind) = find_query(tree, 1, left, right)\n",
    "    result = height * (right - left + 1) #left~right에서 최대 직사각형 계산\n",
    "    if left <= ind -1: #선택된 축 왼쪽에 직사각형이 존재?\n",
    "        tmp = find_max(tree, left, ind -1)\n",
    "        result = max(tmp, result)\n",
    "    if right >= ind + 1:#선택된 축 오른쪽에 직사각형이 존재?\n",
    "        tmp = find_max(tree, ind + 1, right)\n",
    "        result = max(tmp, result)\n",
    "    return result\n",
    "    \n",
    "while True:\n",
    "    hist = list(map(int, input().strip().split()))\n",
    "    num = hist[0]\n",
    "    if num == 0:\n",
    "        break\n",
    "    hist = hist[1:]\n",
    "    node_len = 2 **(ceil(sqrt(num))) * 2\n",
    "    seg_tree = [[(0,0), (0,0)] for i in range(node_len + 1)]\n",
    "    # [범위의 min(height), (시작, 종료)]\n",
    "    make_seg(hist, seg_tree, 1, 0, num-1)\n",
    "    print(find_max(seg_tree,0, num-1 ))"
   ]
  },
  {
   "cell_type": "code",
   "execution_count": 110,
   "metadata": {},
   "outputs": [
    {
     "data": {
      "text/plain": [
       "[]"
      ]
     },
     "execution_count": 110,
     "metadata": {},
     "output_type": "execute_result"
    }
   ],
   "source": [
    "a = [1,2,3,4]\n",
    "a[0:0]"
   ]
  },
  {
   "cell_type": "code",
   "execution_count": 111,
   "metadata": {},
   "outputs": [],
   "source": [
    "node = [0 for i in range(20)]\n",
    "hist = [1,1,1,1]\n",
    "make_seg(hist, node, 1, 0, 3)"
   ]
  },
  {
   "cell_type": "code",
   "execution_count": 112,
   "metadata": {},
   "outputs": [
    {
     "data": {
      "text/plain": [
       "[0,\n",
       " [(0, 1), (0, 3)],\n",
       " [(0, 1), (0, 1)],\n",
       " [(2, 1), (2, 3)],\n",
       " [(0, 1), (0, 0)],\n",
       " [(1, 1), (1, 1)],\n",
       " [(2, 1), (2, 2)],\n",
       " [(3, 1), (3, 3)],\n",
       " 0,\n",
       " 0,\n",
       " 0,\n",
       " 0,\n",
       " 0,\n",
       " 0,\n",
       " 0,\n",
       " 0,\n",
       " 0,\n",
       " 0,\n",
       " 0,\n",
       " 0]"
      ]
     },
     "execution_count": 112,
     "metadata": {},
     "output_type": "execute_result"
    }
   ],
   "source": [
    "node"
   ]
  },
  {
   "cell_type": "code",
   "execution_count": null,
   "metadata": {},
   "outputs": [],
   "source": []
  }
 ],
 "metadata": {
  "kernelspec": {
   "display_name": "Python 3",
   "language": "python",
   "name": "python3"
  },
  "language_info": {
   "codemirror_mode": {
    "name": "ipython",
    "version": 3
   },
   "file_extension": ".py",
   "mimetype": "text/x-python",
   "name": "python",
   "nbconvert_exporter": "python",
   "pygments_lexer": "ipython3",
   "version": "3.6.9"
  }
 },
 "nbformat": 4,
 "nbformat_minor": 2
}
