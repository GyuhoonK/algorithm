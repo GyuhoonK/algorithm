{
 "cells": [
  {
   "cell_type": "code",
   "execution_count": null,
   "metadata": {},
   "outputs": [],
   "source": [
    "import sys\n",
    "import heapq\n",
    "from math import inf\n",
    "\n",
    "n = int(sys.stdin.readline().strip())\n",
    "node = [[] for i in range(n+1)]\n",
    "parent =[0 for i in range(n+1)]\n",
    "for i in range(n-1):\n",
    "    p, q = map(int, sys.stdin.readline().strip().split())\n",
    "    node[p].append(q)\n",
    "    node[q].append(p)\n",
    "\n",
    "level = [inf for i in range(n+1)]\n",
    "level[1] = 0\n",
    "Q = []\n",
    "heapq.heappush(Q, 1)\n",
    "while len(Q) != 0:\n",
    "    cur = heapq.heappop(Q)\n",
    "    for next_node in node[cur]:\n",
    "        if not level[next_node] < level[cur]:\n",
    "            level[next_node] = level[cur] + 1\n",
    "            heapq.heappush(Q,next_node)\n",
    "\n",
    "parent[1] = 0 # parent 없음\n",
    "for i in range(2,n+1):\n",
    "    for link in node[i]:\n",
    "        if level[link] == level[i] -1:\n",
    "            parent[i] = link\n",
    "            \n",
    "m = int(sys.stdin.readline().strip())\n",
    "for i in range(m):\n",
    "    u, v = map(int, sys.stdin.readline().strip().split())\n",
    "    while level[u] != level[v]:\n",
    "        if level[u] < level[v]:\n",
    "            tmp = v\n",
    "            v = u\n",
    "            u = tmp\n",
    "        #항상 level[u]가 depth가 높음\n",
    "        u = parent[u]\n",
    "    #depth가 같아진 상황이므로 하나씩 같이 올라간다#\n",
    "    while u != v:\n",
    "        u = parent[u]\n",
    "        v = parent[v]\n",
    "    print(u)"
   ]
  },
  {
   "cell_type": "code",
   "execution_count": 40,
   "metadata": {},
   "outputs": [
    {
     "data": {
      "text/plain": [
       "1"
      ]
     },
     "execution_count": 40,
     "metadata": {},
     "output_type": "execute_result"
    }
   ],
   "source": [
    "a = 1\n",
    "b = a\n",
    "b"
   ]
  },
  {
   "cell_type": "code",
   "execution_count": 41,
   "metadata": {},
   "outputs": [
    {
     "data": {
      "text/plain": [
       "1"
      ]
     },
     "execution_count": 41,
     "metadata": {},
     "output_type": "execute_result"
    }
   ],
   "source": [
    "a = 3\n",
    "b"
   ]
  },
  {
   "cell_type": "code",
   "execution_count": null,
   "metadata": {},
   "outputs": [],
   "source": []
  }
 ],
 "metadata": {
  "kernelspec": {
   "display_name": "Python 3",
   "language": "python",
   "name": "python3"
  },
  "language_info": {
   "codemirror_mode": {
    "name": "ipython",
    "version": 3
   },
   "file_extension": ".py",
   "mimetype": "text/x-python",
   "name": "python",
   "nbconvert_exporter": "python",
   "pygments_lexer": "ipython3",
   "version": "3.6.9"
  }
 },
 "nbformat": 4,
 "nbformat_minor": 2
}
