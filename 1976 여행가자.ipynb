{
 "cells": [
  {
   "cell_type": "code",
   "execution_count": null,
   "metadata": {},
   "outputs": [],
   "source": [
    "import sys\n",
    "input = sys.stdin.readline\n",
    "\n",
    "N = int(input().strip())\n",
    "M = int(input().strip())\n",
    "node = [[]]\n",
    "group = [i for i in range(N+1)]\n",
    "visit = [False for i in range(N+1)]\n",
    "for _ in range(N):\n",
    "    line = list(map(int, input().strip().split(' ')))\n",
    "    node.append(line)\n",
    "G = list(map(int, input().strip().split(' ')))\n",
    "\n",
    "def dfs(node, visit, i):\n",
    "    if visit[i] == True :\n",
    "        return\n",
    "    else :\n",
    "        visit[i] = True\n",
    "        for i, edge in enumerate(node[i]):\n",
    "            if edge == 1:\n",
    "                next_node = i+1\n",
    "                dfs(node, visit, next_node)\n",
    "\n",
    "dfs(node, visit, G[0])\n",
    "for i in G:\n",
    "    if visit[i] == False:\n",
    "        print('NO')\n",
    "        sys.exit(0)\n",
    "print('YES')\n",
    "sys.exit(0)\n",
    "\n",
    "    "
   ]
  },
  {
   "cell_type": "markdown",
   "metadata": {},
   "source": [
    "### Disjoint-set 파트에 있는 문제\n",
    "\n",
    "+ DFS를 이용해서 풀었을 때, 시간복잡도? $O(n*e)$  \n",
    "\n",
    "+ Disjoin-set을 이용해서 풀었을 때, 시간복잡도?   \n",
    "  - 입력 받음과 동시에 merge, find를 적용  \n",
    "  - find의 시간복잡도 $O(n)$  \n",
    "  - union의 시간복잡도 $O(n)$  \n",
    "  - edge만큼 find와 union을 수행하므로 $O(n*e)$\n",
    "\n",
    "+ rank/tree를 이용한 disjoin-set을 적용한다면 시간 단축 가능"
   ]
  },
  {
   "cell_type": "code",
   "execution_count": null,
   "metadata": {},
   "outputs": [],
   "source": []
  }
 ],
 "metadata": {
  "kernelspec": {
   "display_name": "Python 3",
   "language": "python",
   "name": "python3"
  },
  "language_info": {
   "codemirror_mode": {
    "name": "ipython",
    "version": 3
   },
   "file_extension": ".py",
   "mimetype": "text/x-python",
   "name": "python",
   "nbconvert_exporter": "python",
   "pygments_lexer": "ipython3",
   "version": "3.6.9"
  }
 },
 "nbformat": 4,
 "nbformat_minor": 2
}
