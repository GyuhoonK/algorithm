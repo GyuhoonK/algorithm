{
 "cells": [
  {
   "cell_type": "markdown",
   "metadata": {},
   "source": [
    "how to detect negative cycle?"
   ]
  },
  {
   "cell_type": "code",
   "execution_count": null,
   "metadata": {},
   "outputs": [],
   "source": [
    "import sys\n",
    "from math import inf\n",
    "n, m = map(int, sys.stdin.readline().strip().split())\n",
    "node = [[] for i in range(n+1)]\n",
    "edge = []\n",
    "for i in range(m):\n",
    "    edge_ = list(map(int, sys.stdin.readline().strip().split()))\n",
    "    edge.append(edge_)\n",
    "dist = [ inf for i in range(n+1)]\n",
    "dist[1] = 0\n",
    "\n",
    "for i in range(n-1):\n",
    "    for step in edge:\n",
    "        edge_from, edge_to, edge_cost = step\n",
    "        dist[edge_to] = min(dist[edge_to], dist[edge_from] + edge_cost)\n",
    "check_cycle = dist.copy()\n",
    "\n",
    "for step in edge:\n",
    "    edge_from, edge_to, edge_cost = step\n",
    "    dist[edge_to] = min(dist[edge_to], dist[edge_from] + edge_cost)\n",
    "    \n",
    "if check_cycle != dist: #n-1번 실행한 결과와 n번 실행한 결과가 다를 경우\n",
    "    print(-1)# negative cycle이 있는 것이다\n",
    "else :\n",
    "    for i in range(2,n+1):\n",
    "        if dist[i] == inf:\n",
    "            print(-1)\n",
    "        else : print(dist[i])"
   ]
  },
  {
   "cell_type": "code",
   "execution_count": 7,
   "metadata": {},
   "outputs": [],
   "source": []
  },
  {
   "cell_type": "code",
   "execution_count": 10,
   "metadata": {},
   "outputs": [
    {
     "data": {
      "text/plain": [
       "True"
      ]
     },
     "execution_count": 10,
     "metadata": {},
     "output_type": "execute_result"
    }
   ],
   "source": [
    "inf+1 == inf"
   ]
  },
  {
   "cell_type": "code",
   "execution_count": 11,
   "metadata": {},
   "outputs": [
    {
     "data": {
      "text/plain": [
       "3"
      ]
     },
     "execution_count": 11,
     "metadata": {},
     "output_type": "execute_result"
    }
   ],
   "source": [
    "min(inf, 3)"
   ]
  },
  {
   "cell_type": "code",
   "execution_count": null,
   "metadata": {},
   "outputs": [],
   "source": []
  }
 ],
 "metadata": {
  "kernelspec": {
   "display_name": "Python 3",
   "language": "python",
   "name": "python3"
  },
  "language_info": {
   "codemirror_mode": {
    "name": "ipython",
    "version": 3
   },
   "file_extension": ".py",
   "mimetype": "text/x-python",
   "name": "python",
   "nbconvert_exporter": "python",
   "pygments_lexer": "ipython3",
   "version": "3.6.9"
  }
 },
 "nbformat": 4,
 "nbformat_minor": 2
}
