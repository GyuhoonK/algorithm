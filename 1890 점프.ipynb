{
 "cells": [
  {
   "cell_type": "code",
   "execution_count": null,
   "metadata": {},
   "outputs": [],
   "source": [
    "import sys\n",
    "n = int(sys.stdin.readline().strip())\n",
    "node = [[] for i in range(n)]\n",
    "for i in range(n):\n",
    "    node[i]=list(map(int,sys.stdin.readline().strip().split()))\n",
    "d = [[ 0 for i in range(n)] for i in range(n)]\n",
    "d[0][0] = 1\n",
    "for i in range(n):\n",
    "    for j in range(n):\n",
    "        if node[i][j] == 0:\n",
    "            continue\n",
    "        jump = node[i][j]\n",
    "        if i+jump < n:\n",
    "            d[i+jump][j] += d[i][j]\n",
    "        if j + jump <n:\n",
    "            d[i][j+jump] += d[i][j]\n",
    "print(d[n-1][n-1])"
   ]
  },
  {
   "cell_type": "code",
   "execution_count": 1,
   "metadata": {},
   "outputs": [
    {
     "data": {
      "text/plain": [
       "[[], [], []]"
      ]
     },
     "execution_count": 1,
     "metadata": {},
     "output_type": "execute_result"
    }
   ],
   "source": []
  },
  {
   "cell_type": "code",
   "execution_count": null,
   "metadata": {},
   "outputs": [],
   "source": []
  }
 ],
 "metadata": {
  "kernelspec": {
   "display_name": "Python 3",
   "language": "python",
   "name": "python3"
  },
  "language_info": {
   "codemirror_mode": {
    "name": "ipython",
    "version": 3
   },
   "file_extension": ".py",
   "mimetype": "text/x-python",
   "name": "python",
   "nbconvert_exporter": "python",
   "pygments_lexer": "ipython3",
   "version": "3.6.5"
  }
 },
 "nbformat": 4,
 "nbformat_minor": 2
}
