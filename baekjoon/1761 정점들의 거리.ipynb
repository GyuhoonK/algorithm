{
 "cells": [
  {
   "cell_type": "code",
   "execution_count": null,
   "metadata": {},
   "outputs": [],
   "source": [
    "import sys\n",
    "import heapq\n",
    "from math import inf\n",
    "\n",
    "n = int(sys.stdin.readline().strip())\n",
    "node = [[] for i in range(n+1)]\n",
    "\n",
    "for i in range(n-1):\n",
    "    p, q, w = map(int, sys.stdin.readline().strip().split())\n",
    "    node[q].append([p, w])\n",
    "    node[p].append([q, w])\n",
    "\n",
    "depth = [ inf for i in range(n+1)]\n",
    "depth[1] = 0 # 1번 노드를 root\n",
    "Q = []\n",
    "heapq.heappush(Q, 1)\n",
    "parent = [0 for i in range(n+1)]\n",
    "dist = [0 for i in range(n+1)] # root 노드로부터의 거리\n",
    "\n",
    "while len(Q) != 0:\n",
    "    cur = heapq.heappop(Q)\n",
    "    for next_node, weight in node[cur]:\n",
    "        if depth[next_node] > depth[cur] + 1:\n",
    "            depth[next_node] = depth[cur] +1\n",
    "            parent[next_node] = cur\n",
    "            dist[next_node] += dist[cur] + weight\n",
    "            heapq.heappush(Q, next_node)\n",
    "            \n",
    "m = int(sys.stdin.readline().strip())\n",
    "for i in range(m):\n",
    "    ans = 0\n",
    "    a, b = map(int, sys.stdin.readline().strip().split())\n",
    "    ans += (dist[a] + dist[b])\n",
    "    while depth[a] != depth[b]:\n",
    "        if depth[a] < depth[b]:\n",
    "            tmp = b\n",
    "            b = a\n",
    "            a = tmp\n",
    "        a = parent[a]\n",
    "    while a != b:\n",
    "        a = parent[a]\n",
    "        b = parent[b]\n",
    "    ans -= (dist[a] + dist[b])\n",
    "    print(ans)"
   ]
  }
 ],
 "metadata": {
  "kernelspec": {
   "display_name": "Python 3",
   "language": "python",
   "name": "python3"
  },
  "language_info": {
   "codemirror_mode": {
    "name": "ipython",
    "version": 3
   },
   "file_extension": ".py",
   "mimetype": "text/x-python",
   "name": "python",
   "nbconvert_exporter": "python",
   "pygments_lexer": "ipython3",
   "version": "3.6.9"
  }
 },
 "nbformat": 4,
 "nbformat_minor": 2
}
