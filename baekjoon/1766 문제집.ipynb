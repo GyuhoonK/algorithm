{
 "cells": [
  {
   "cell_type": "code",
   "execution_count": 1,
   "metadata": {},
   "outputs": [],
   "source": []
  },
  {
   "cell_type": "code",
   "execution_count": null,
   "metadata": {},
   "outputs": [],
   "source": [
    "from queue import PriorityQueue\n",
    "import sys\n",
    "n, m = map( int, sys.stdin.readline().strip().split())#문제의 수:n, 정보의 개수:m\n",
    "problem = []\n",
    "ind = [0 for i in range(n+1)]\n",
    "for i in range(n+1):\n",
    "    problem.append([])\n",
    "for i in range(m):\n",
    "    x, y = map(int,sys.stdin.readline().strip().split())\n",
    "    problem[x].append(y) #problem[x]를 풀고나서 y를 풀도록 한다\n",
    "    ind[y] += 1 #ind[y]는 먼저 풀어야할 문제의 개수를 의미한다\n",
    "    \n",
    "q = PriorityQueue()\n",
    "for i in range(1,n+1):\n",
    "    if ind[i] == 0:\n",
    "        q.put(i)\n",
    "for i in range(n):\n",
    "    target = q.get()\n",
    "    print(target, end=' ')\n",
    "    for j in range(len(problem[target])):\n",
    "        k = problem[target][j]\n",
    "        ind[k] -= 1\n",
    "        if ind[k] == 0:\n",
    "            q.put(k)"
   ]
  }
 ],
 "metadata": {
  "kernelspec": {
   "display_name": "Python 3",
   "language": "python",
   "name": "python3"
  },
  "language_info": {
   "codemirror_mode": {
    "name": "ipython",
    "version": 3
   },
   "file_extension": ".py",
   "mimetype": "text/x-python",
   "name": "python",
   "nbconvert_exporter": "python",
   "pygments_lexer": "ipython3",
   "version": "3.6.9"
  }
 },
 "nbformat": 4,
 "nbformat_minor": 2
}
