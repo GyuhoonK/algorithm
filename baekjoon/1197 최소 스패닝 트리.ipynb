{
 "cells": [
  {
   "cell_type": "code",
   "execution_count": 88,
   "metadata": {},
   "outputs": [],
   "source": [
    "import sys\n",
    "import heapq"
   ]
  },
  {
   "cell_type": "code",
   "execution_count": null,
   "metadata": {},
   "outputs": [],
   "source": [
    "v, e = map(int, sys.stdin.readline().strip().split())\n",
    "G = []\n",
    "for i in range(v+1):\n",
    "    G.append(i)\n",
    "rank = [0 for i in range(v+1)]\n",
    "edge = []\n",
    "for i in range(e):\n",
    "    p, q, c = map(int, sys.stdin.readline().strip().split())\n",
    "    edge.append([c,[p,q]])\n"
   ]
  },
  {
   "cell_type": "code",
   "execution_count": 89,
   "metadata": {},
   "outputs": [],
   "source": [
    "def find(a):\n",
    "    if G[a] == a :\n",
    "        return a\n",
    "    else : return find(G[a])\n",
    "def merge(a,b):\n",
    "    a = find(a)\n",
    "    b = find(b)\n",
    "    if a != b:\n",
    "        if rank[a] > rank[b]:\n",
    "            G[b] = a\n",
    "        else :\n",
    "            G[a] = b\n",
    "            if rank[a] == rank[b]:\n",
    "                rank[b] += 1"
   ]
  },
  {
   "cell_type": "code",
   "execution_count": 90,
   "metadata": {},
   "outputs": [],
   "source": [
    "def krus(G,edge):\n",
    "    A = []\n",
    "    edge.sort()\n",
    "    for E in edge:\n",
    "        w, [u,v] = E\n",
    "        if find(u) != find(v):\n",
    "            A.append(E)\n",
    "            merge(u,v)\n",
    "    return A"
   ]
  },
  {
   "cell_type": "code",
   "execution_count": null,
   "metadata": {},
   "outputs": [],
   "source": []
  }
 ],
 "metadata": {
  "kernelspec": {
   "display_name": "Python 3",
   "language": "python",
   "name": "python3"
  },
  "language_info": {
   "codemirror_mode": {
    "name": "ipython",
    "version": 3
   },
   "file_extension": ".py",
   "mimetype": "text/x-python",
   "name": "python",
   "nbconvert_exporter": "python",
   "pygments_lexer": "ipython3",
   "version": "3.6.5"
  }
 },
 "nbformat": 4,
 "nbformat_minor": 2
}
