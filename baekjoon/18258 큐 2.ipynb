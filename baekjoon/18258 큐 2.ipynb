{
 "cells": [
  {
   "cell_type": "code",
   "execution_count": 63,
   "metadata": {
    "scrolled": true
   },
   "outputs": [
    {
     "ename": "ValueError",
     "evalue": "invalid literal for int() with base 10: ''",
     "output_type": "error",
     "traceback": [
      "\u001b[1;31m---------------------------------------------------------------------------\u001b[0m",
      "\u001b[1;31mValueError\u001b[0m                                Traceback (most recent call last)",
      "\u001b[1;32m<ipython-input-63-d96d6a6bc39b>\u001b[0m in \u001b[0;36m<module>\u001b[1;34m\u001b[0m\n\u001b[0;32m      2\u001b[0m \u001b[0minput\u001b[0m \u001b[1;33m=\u001b[0m \u001b[0msys\u001b[0m\u001b[1;33m.\u001b[0m\u001b[0mstdin\u001b[0m\u001b[1;33m.\u001b[0m\u001b[0mreadline\u001b[0m\u001b[1;33m\u001b[0m\u001b[1;33m\u001b[0m\u001b[0m\n\u001b[0;32m      3\u001b[0m \u001b[1;33m\u001b[0m\u001b[0m\n\u001b[1;32m----> 4\u001b[1;33m \u001b[0mN\u001b[0m \u001b[1;33m=\u001b[0m \u001b[0mint\u001b[0m\u001b[1;33m(\u001b[0m\u001b[0minput\u001b[0m\u001b[1;33m(\u001b[0m\u001b[1;33m)\u001b[0m\u001b[1;33m.\u001b[0m\u001b[0mrstrip\u001b[0m\u001b[1;33m(\u001b[0m\u001b[1;33m)\u001b[0m\u001b[1;33m)\u001b[0m\u001b[1;33m\u001b[0m\u001b[1;33m\u001b[0m\u001b[0m\n\u001b[0m\u001b[0;32m      5\u001b[0m \u001b[1;33m\u001b[0m\u001b[0m\n\u001b[0;32m      6\u001b[0m \u001b[1;32mclass\u001b[0m \u001b[0mq\u001b[0m\u001b[1;33m(\u001b[0m\u001b[1;33m)\u001b[0m\u001b[1;33m:\u001b[0m\u001b[1;33m\u001b[0m\u001b[1;33m\u001b[0m\u001b[0m\n",
      "\u001b[1;31mValueError\u001b[0m: invalid literal for int() with base 10: ''"
     ]
    }
   ],
   "source": [
    "import sys\n",
    "input = sys.stdin.readline\n",
    "\n",
    "N = int(input().rstrip())\n",
    "\n",
    "class q():\n",
    "    def __init__(self):\n",
    "        self.size = 0\n",
    "        self.idx = 0\n",
    "        self.m = [0 for i in range(int(2e+6))]\n",
    "        \n",
    "    def push(self, num):\n",
    "        self.m[self.size + self.idx] = num\n",
    "        self.size += 1\n",
    "        \n",
    "    def front(self):\n",
    "        if self.size == 0:\n",
    "            print(-1)\n",
    "        else:\n",
    "            print(self.m[self.idx])\n",
    "        \n",
    "    def back(self):\n",
    "        if self.size == 0:\n",
    "            print(-1)\n",
    "        else :\n",
    "            print(self.m[self.idx + self.size - 1])\n",
    "        \n",
    "    def pop(self):\n",
    "        if self.size == 0:\n",
    "            print(-1)\n",
    "        else :\n",
    "            self.front()\n",
    "            self.idx += 1\n",
    "            self.size -= 1\n",
    "        \n",
    "    def empty(self):\n",
    "        if self.size == 0:\n",
    "            print(1)\n",
    "        else : print(0)\n",
    "        \n",
    "Q = q()\n",
    "\n",
    "for i in range(N):\n",
    "    cmd = input().rstrip()\n",
    "    cmd = cmd.split(' ')\n",
    "    cmd1 = cmd[0]\n",
    "    if cmd1 == 'push':\n",
    "        Q.push(int(cmd[1]))\n",
    "    if cmd1 == 'front':\n",
    "        Q.front()\n",
    "    if cmd1 == 'back':\n",
    "        Q.back()\n",
    "    if cmd1 == 'pop':\n",
    "        Q.pop()\n",
    "    if cmd1 == 'empty':\n",
    "        Q.empty()\n",
    "    if cmd1 == 'size':\n",
    "        print(Q.size)"
   ]
  },
  {
   "cell_type": "code",
   "execution_count": null,
   "metadata": {},
   "outputs": [],
   "source": []
  }
 ],
 "metadata": {
  "kernelspec": {
   "display_name": "Python 3",
   "language": "python",
   "name": "python3"
  },
  "language_info": {
   "codemirror_mode": {
    "name": "ipython",
    "version": 3
   },
   "file_extension": ".py",
   "mimetype": "text/x-python",
   "name": "python",
   "nbconvert_exporter": "python",
   "pygments_lexer": "ipython3",
   "version": "3.6.9"
  }
 },
 "nbformat": 4,
 "nbformat_minor": 2
}
