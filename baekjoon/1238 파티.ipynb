{
 "cells": [
  {
   "cell_type": "code",
   "execution_count": null,
   "metadata": {},
   "outputs": [],
   "source": [
    "import math\n",
    "import sys\n",
    "def dik(g, start, n):\n",
    "    Q = [i for i in range(1, n+1)]\n",
    "    d = [math.inf] * (n+1)\n",
    "    d[start] = 0\n",
    "    while len(Q) != 0:\n",
    "        u = d.index(min(d))\n",
    "        s= []\n",
    "        for i in range(len(d)):\n",
    "            s.append(d[i])\n",
    "        while u not in Q:        \n",
    "            s[u] = math.inf\n",
    "            u = s.index(min(s))\n",
    "        Q.remove(u)\n",
    "        neighbor = []\n",
    "        for i in range(1, n+1):\n",
    "            if g[u][i] != -1:\n",
    "                neighbor.append(i)\n",
    "        for v in neighbor:\n",
    "            alt = d[u] + g[u][v]\n",
    "            if alt < d[v]:\n",
    "                d[v] = alt\n",
    "    return d\n",
    " \n",
    "def main():\n",
    "    n, m, x=map(int,input().split( ))\n",
    "    p = [[-1] * (n+1) for i in range(n+1)]\n",
    "    for i in range(m):\n",
    "        x, y, z = map(int, input().split( ))\n",
    "        p[x][y]=z\n",
    "    gohome = dik(p, x, n) # ex. gohome[1] = x에서 1로 가는 최솟값\n",
    "    ans = 0\n",
    "    for i in range(1, n+1):\n",
    "        t = dik(p, i, n) # t[x]는 i에서 x로 가는 최솟값\n",
    "        ans2 = t[x] + gohome[i]\n",
    "        if ans2 > ans:\n",
    "            ans = ans2\n",
    "    print(ans)\n",
    "main()"
   ]
  },
  {
   "cell_type": "code",
   "execution_count": 2,
   "metadata": {},
   "outputs": [
    {
     "ename": "SyntaxError",
     "evalue": "invalid syntax (<ipython-input-2-1416d8b8c5c2>, line 10)",
     "output_type": "error",
     "traceback": [
      "\u001b[1;36m  File \u001b[1;32m\"<ipython-input-2-1416d8b8c5c2>\"\u001b[1;36m, line \u001b[1;32m10\u001b[0m\n\u001b[1;33m    u =\u001b[0m\n\u001b[1;37m        ^\u001b[0m\n\u001b[1;31mSyntaxError\u001b[0m\u001b[1;31m:\u001b[0m invalid syntax\n"
     ]
    }
   ],
   "source": [
    "import heapq\n",
    "def dik2(g, start):\n",
    "    Q = [i for i in range(1, n+1)]\n",
    "    d = [0 for i in ragne(n+1)]\n",
    "    d[start] = 0\n",
    "    for i in Q:\n",
    "        if i != start:\n",
    "            d[i] = [math.inf]\n",
    "    \n",
    "    while len(Q) != 0:\n",
    "        u = "
   ]
  },
  {
   "cell_type": "code",
   "execution_count": null,
   "metadata": {},
   "outputs": [],
   "source": []
  }
 ],
 "metadata": {
  "kernelspec": {
   "display_name": "Python 3",
   "language": "python",
   "name": "python3"
  },
  "language_info": {
   "codemirror_mode": {
    "name": "ipython",
    "version": 3
   },
   "file_extension": ".py",
   "mimetype": "text/x-python",
   "name": "python",
   "nbconvert_exporter": "python",
   "pygments_lexer": "ipython3",
   "version": "3.6.5"
  }
 },
 "nbformat": 4,
 "nbformat_minor": 2
}
