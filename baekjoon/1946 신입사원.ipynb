{
 "cells": [
  {
   "cell_type": "code",
   "execution_count": null,
   "metadata": {},
   "outputs": [],
   "source": [
    "import sys\n",
    "input = sys.stdin.readline\n",
    "\n",
    "t = int(input().strip())\n",
    "for i in range(t):\n",
    "    n = int(input().strip())\n",
    "    rank = []\n",
    "    ans = n\n",
    "    for i in range(n):\n",
    "        a, b = map(int, input().strip().split())\n",
    "        rank.append([a,b])\n",
    "    num = [i for i in range(n)]\n",
    "    for i in num:\n",
    "        if (rank[i][0] == 1) |( rank[i][1] == 1):\n",
    "            continue\n",
    "        tmp = num.copy()\n",
    "        tmp.remove(i)\n",
    "        for j in tmp:\n",
    "            if (rank[i][0] > rank[j][0]) & (rank[i][1] > rank[j][1]):\n",
    "                ans -= 1\n",
    "                break\n",
    "    print(ans) "
   ]
  },
  {
   "cell_type": "code",
   "execution_count": 4,
   "metadata": {},
   "outputs": [
    {
     "data": {
      "text/plain": [
       "[1, 2, 3]"
      ]
     },
     "execution_count": 4,
     "metadata": {},
     "output_type": "execute_result"
    }
   ],
   "source": [
    "import sys\n",
    "from collections import deque\n",
    "from queue import PriorityQueue\n",
    "input = sys.stdin.readline\n",
    "\n",
    "t = int(input().strip())\n",
    "for i in range(t):\n",
    "    n = int(input().strip())\n",
    "    a_rank = PriorityQueue()\n",
    "    b_rank = deque()\n",
    "    ans = n\n",
    "    for number, i in enumerate(range(n)):\n",
    "        a, b = map(int, input().strip().split())\n",
    "        a_rank.put([a, number])\n",
    "        b_rank.append([number, b])\n",
    "        #예를 들어 지원자 x의 a test보다 순위가 높은 다른 지원자들에 대해서\n",
    "        #x의 b test 순위는 그 지원자들 보다 높아야만 통과할 수 있다.\n",
    "        #한 시험에서 i 등한 사람은 1 ~ (i-1) 등수의 사람들을 다른 시험에서 이겨야합니다.  이 과정은 O(N)으로 끝낼 수 있습니다.\n",
    "    for rank, number in a_rank.queue:\n",
    "        for j in range(1,rank): #현재 선택된 지원자들보다 rank가 우수한 지원자 선출\n",
    "            tmp = a_rank.queue[j-1][1] #그 지원자의 number를 추출한다\n",
    "            if b_rank[number][1] > b_rank[tmp][1]: # 현재 선택된 지원자의 순위가 \n",
    "                ans -= 1 #a test가 우수한 지원자보다 낮다면, a,b 모두 낮으므로\n",
    "                break #선택 대상에서 제외한다\n",
    "    print(ans)"
   ]
  },
  {
   "cell_type": "code",
   "execution_count": 9,
   "metadata": {},
   "outputs": [],
   "source": [
    "import sys\n",
    "input = sys.stdin.readline\n",
    "\n",
    "t = int(input().strip())\n",
    "for i in range(t):\n",
    "    n = int(input().strip())\n",
    "    a_rank = []\n",
    "    b_rank = []\n",
    "    ans = n\n",
    "    for number, i in enumerate(range(n)):\n",
    "        a, b = map(int, input().strip().split())\n",
    "        a_rank.append([a, number])\n",
    "        b_rank.append([number, b])\n",
    "        #예를 들어 지원자 x의 a test보다 순위가 높은 다른 지원자들에 대해서\n",
    "        #x의 b test 순위는 그 지원자들 보다 높아야만 통과할 수 있다.\n",
    "        #한 시험에서 i 등한 사람은 1 ~ (i-1) 등수의 사람들을 다른 시험에서 이겨야합니다.  이 과정은 O(N)으로 끝낼 수 있습니다.\n",
    "    a_rank.sort() # a_rank에 순위로 정렬한다\n",
    "    for rank, select in a_rank[1:]:\n",
    "        for j in range(1,rank): #현재 선택된 지원자들보다 rank가 우수한 지원자 선출\n",
    "            compare = a_rank[j-1][1] #a test가 우수한 지원자의 number를 추출한다\n",
    "            if b_rank[select][1] > b_rank[compare][1]: # 현재 선택된 지원자의 순위가 \n",
    "                ans -= 1 #a test가 우수한 지원자보다 낮다면, a,b 모두 낮으므로\n",
    "                break #선택 대상에서 제외한다\n",
    "    print(ans)"
   ]
  },
  {
   "cell_type": "code",
   "execution_count": 6,
   "metadata": {},
   "outputs": [],
   "source": [
    "import sys\n",
    "input = sys.stdin.readline\n",
    "\n",
    "t = int(input().strip())\n",
    "for i in range(t):\n",
    "    n = int(input().strip())\n",
    "    rank = []\n",
    "    ans = 0\n",
    "    for number, i in enumerate(range(n)):\n",
    "        a, b = map(int, input().strip().split())\n",
    "        rank.append([a, b])\n",
    "        #예를 들어 지원자 x의 a test보다 순위가 높은 다른 지원자들에 대해서\n",
    "        #x의 b test 순위는 그 지원자들 보다 높아야만 통과할 수 있다.\n",
    "        #한 시험에서 i 등한 사람은 1 ~ (i-1) 등수의 사람들을 다른 시험에서 이겨야합니다.  이 과정은 O(N)으로 끝낼 수 있습니다.\n",
    "    rank.sort() # a_rank에 순위로 정렬한다\n",
    "    a_max = len(rank)+1\n",
    "    b_max = len(rank)+1\n",
    "    #현재까지 밝혀진 가장 고 티어를 a or b에서 승리할 수 있으면, 합격할 수 있다\n",
    "    #a기준 sort하여 a rank가 1인 지원자는 반드시 선발되고,\n",
    "    #이를 기준으로 다른 지원자를 판별한다\n",
    "    for a_rank, b_rank in rank:\n",
    "        if (a_rank < a_max) & (b_rank > b_max): #a rank만 통과\n",
    "            ans += 1\n",
    "            a_max = a_rank\n",
    "        elif (a_rank > a_max) & (b_rank < b_max): #b rank만 통과\n",
    "            ans += 1\n",
    "            b_max = b_rank\n",
    "        elif (a_rank < a_max) & (b_rank < b_max):# a rank, b rank 모두 통과\n",
    "            ans += 1\n",
    "            a_max = a_rank\n",
    "            b_max = b_rank\n",
    "    print(ans)"
   ]
  },
  {
   "cell_type": "code",
   "execution_count": 8,
   "metadata": {},
   "outputs": [
    {
     "data": {
      "text/plain": [
       "1"
      ]
     },
     "execution_count": 8,
     "metadata": {},
     "output_type": "execute_result"
    }
   ],
   "source": [
    "a_rank[1][0]"
   ]
  },
  {
   "cell_type": "code",
   "execution_count": 10,
   "metadata": {},
   "outputs": [],
   "source": [
    "Q = PriorityQueue()"
   ]
  },
  {
   "cell_type": "code",
   "execution_count": 11,
   "metadata": {},
   "outputs": [],
   "source": [
    "Q.put([1,2])\n",
    "Q.put([4,5])\n",
    "Q.put([0,3])"
   ]
  },
  {
   "cell_type": "code",
   "execution_count": 14,
   "metadata": {},
   "outputs": [
    {
     "data": {
      "text/plain": [
       "3"
      ]
     },
     "execution_count": 14,
     "metadata": {},
     "output_type": "execute_result"
    }
   ],
   "source": [
    "Q.queue[0][1]"
   ]
  },
  {
   "cell_type": "code",
   "execution_count": null,
   "metadata": {},
   "outputs": [],
   "source": []
  }
 ],
 "metadata": {
  "kernelspec": {
   "display_name": "Python 3",
   "language": "python",
   "name": "python3"
  },
  "language_info": {
   "codemirror_mode": {
    "name": "ipython",
    "version": 3
   },
   "file_extension": ".py",
   "mimetype": "text/x-python",
   "name": "python",
   "nbconvert_exporter": "python",
   "pygments_lexer": "ipython3",
   "version": "3.6.9"
  }
 },
 "nbformat": 4,
 "nbformat_minor": 2
}
