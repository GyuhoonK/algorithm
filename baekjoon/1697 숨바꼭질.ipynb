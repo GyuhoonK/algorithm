{
 "cells": [
  {
   "cell_type": "code",
   "execution_count": null,
   "metadata": {},
   "outputs": [],
   "source": [
    "import sys\n",
    "from collections import deque\n",
    "input = sys.stdin.readline\n",
    "N, K = map(int, input().strip().split())\n",
    "\n",
    "MAX_NUM = 10**5\n",
    "visit = [0 for i in range(MAX_NUM + 1)]\n",
    "def bfs(x, K):\n",
    "    stack = deque()\n",
    "    stack.append(x)\n",
    "    while len(stack) > 0 :\n",
    "        cur = stack.popleft()\n",
    "        #print(cur)\n",
    "        if cur == K :\n",
    "            print(visit[K])\n",
    "            return\n",
    "        next_nodes = [cur + 1, cur - 1 , 2 * cur]\n",
    "        for next_node in next_nodes :\n",
    "            if (0 <= next_node < MAX_NUM + 1) and (visit[next_node] == 0): \n",
    "                stack.append(next_node)\n",
    "                visit[next_node] = visit[cur] + 1\n",
    "bfs(N, K)"
   ]
  },
  {
   "cell_type": "markdown",
   "metadata": {},
   "source": [
    "- list를 사용할 때는, Out of index를 항상 신경쓰자"
   ]
  }
 ],
 "metadata": {
  "kernelspec": {
   "display_name": "Python 3",
   "language": "python",
   "name": "python3"
  },
  "language_info": {
   "codemirror_mode": {
    "name": "ipython",
    "version": 3
   },
   "file_extension": ".py",
   "mimetype": "text/x-python",
   "name": "python",
   "nbconvert_exporter": "python",
   "pygments_lexer": "ipython3",
   "version": "3.6.9"
  }
 },
 "nbformat": 4,
 "nbformat_minor": 2
}
