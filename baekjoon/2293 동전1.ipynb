{
 "cells": [
  {
   "cell_type": "code",
   "execution_count": null,
   "metadata": {},
   "outputs": [],
   "source": [
    "import sys\n",
    "n , k  = map(int, sys.stdin.readline().strip().split())\n",
    "coin = []\n",
    "for i in range(n):\n",
    "    t = int(sys.stdin.readline().strip())\n",
    "    coin.append(t)\n",
    "#d[i][j] : coin[1]~coin[i] 까지의 동전을 사용하여, j원을 만드는 경우의 수\n",
    "#d[i][j]는 2가지로 나뉜다. coin[i]를 사용하는가? coin[i]를 사용하지 않는가?\n",
    "d = [[0 for i in range(n+1)] for i in range(k+1)]\n",
    "d[0][0] = 1\n",
    "for i in range(1,n+1):\n",
    "    for j in range(k+1):\n",
    "        d[i][j] = d[i-1][j]\n",
    "        if (j-coin[i] >= 0) : #\n",
    "            d[i][j] += d[i][j-coin[i]]\n",
    "print(d[n][k])"
   ]
  }
 ],
 "metadata": {
  "kernelspec": {
   "display_name": "Python 3",
   "language": "python",
   "name": "python3"
  },
  "language_info": {
   "codemirror_mode": {
    "name": "ipython",
    "version": 3
   },
   "file_extension": ".py",
   "mimetype": "text/x-python",
   "name": "python",
   "nbconvert_exporter": "python",
   "pygments_lexer": "ipython3",
   "version": "3.6.5"
  }
 },
 "nbformat": 4,
 "nbformat_minor": 2
}
