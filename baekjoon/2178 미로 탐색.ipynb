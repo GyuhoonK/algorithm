{
 "cells": [
  {
   "cell_type": "code",
   "execution_count": 1,
   "metadata": {},
   "outputs": [],
   "source": [
    "from collections import deque\n",
    "import sys\n",
    "input = sys.stdin.readline\n",
    "N, M = map(int, input().strip().split())\n",
    "\n",
    "NODES = []\n",
    "for _ in range(N):\n",
    "    line = list(map(int, input().strip()))\n",
    "    NODES.append(line)\n",
    "\n",
    "stack = deque()\n",
    "move = [(0,1), (1,0), (-1,0), (0, -1)]\n",
    "\n",
    "def bfs(x, y):\n",
    "    VISIT[x][y] = 1\n",
    "    stack.append((x,y))\n",
    "    while len(stack) > 0 :\n",
    "        x, y = stack[0]\n",
    "        for m in move:\n",
    "            next_x = x + m[0]\n",
    "            next_y = y + m[1]\n",
    "            if (next_x < N) and (next_x >= 0) and (next_y < M) and (next_y >= 0):\n",
    "                if (NODES[next_x][next_y] == 1) and (VISIT[next_x][next_y] == False): #아직 방문하지 않은 노드\n",
    "                    stack.append((next_x, next_y))\n",
    "                    VISIT[next_x][next_y] = VISIT[x][y] + 1\n",
    "        \n",
    "        stack.popleft()\n",
    "        \n",
    "    \n",
    "VISIT = [[False] * M for i in range(N)]\n",
    "bfs(0,0)\n",
    "\n",
    "\n",
    "print(VISIT[N-1][M-1])"
   ]
  },
  {
   "cell_type": "markdown",
   "metadata": {},
   "source": [
    "# BFS\n",
    "- 다음 진행 방향은 상하좌우로 고정되어 있다(edge의 연결)\n",
    "- 다음 진행 좌표가 out of index인 경우의 예외 처리\n",
    "- BFS로 탐색하면서 방문 node에 (이전 node + 1)을 부여하면, 최종 목적지까지 몇번의 탐색이 발생했는지 확인 가능"
   ]
  },
  {
   "cell_type": "code",
   "execution_count": null,
   "metadata": {},
   "outputs": [],
   "source": []
  }
 ],
 "metadata": {
  "kernelspec": {
   "display_name": "Python 3",
   "language": "python",
   "name": "python3"
  },
  "language_info": {
   "codemirror_mode": {
    "name": "ipython",
    "version": 3
   },
   "file_extension": ".py",
   "mimetype": "text/x-python",
   "name": "python",
   "nbconvert_exporter": "python",
   "pygments_lexer": "ipython3",
   "version": "3.6.9"
  }
 },
 "nbformat": 4,
 "nbformat_minor": 2
}
