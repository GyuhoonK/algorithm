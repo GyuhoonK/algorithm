{
 "cells": [
  {
   "cell_type": "code",
   "execution_count": null,
   "metadata": {},
   "outputs": [],
   "source": [
    "import sys\n",
    "n = int(sys.stdin.readline().strip()) # list 의 len\n",
    "t = list(map(int, sys.stdin.readline().strip().split())) #list\n",
    "m = int(sys.stdin.readline().strip()) #질문 개수\n",
    "\n",
    "d = [[False for i in range(n)] for i in range(n)] \n",
    "# d[i][j] -> t[i]부터 t[j]가 팰린드롬인가?\n",
    "# d[i][i] -> 항상 True\n",
    "# d[i][i+1] : t[i] == t[i+1] 이면 True\n",
    "# 나머지는 bottom up 방식으로 확인해야함\n",
    "\n",
    "for i in range(n):\n",
    "    d[i][i] = True\n",
    "for i in range(n-1):\n",
    "    if t[i] == t[i+1]:\n",
    "        d[i][i+1] = True\n",
    "for k in range(2,n):\n",
    "    for i in range(n-k):\n",
    "        j = i+k\n",
    "        if (t[i] == t[j]) & (d[i+1][j-1]):\n",
    "            d[i][j] = True\n",
    "for i in range(m):\n",
    "    a,b = map(int, sys.stdin.readline().strip().split())\n",
    "    print(int(d[a-1][b-1]))"
   ]
  },
  {
   "cell_type": "code",
   "execution_count": 1,
   "metadata": {},
   "outputs": [
    {
     "data": {
      "text/plain": [
       "1"
      ]
     },
     "execution_count": 1,
     "metadata": {},
     "output_type": "execute_result"
    }
   ],
   "source": [
    "int(True)"
   ]
  },
  {
   "cell_type": "markdown",
   "metadata": {},
   "source": [
    "k = 3일 때 j-i = k\n",
    "i = 0, \n",
    "j = 3\n",
    "\n",
    "i = 1\n",
    "j = 4, 5, 6\n",
    "\n",
    "i = 2\n",
    "j = 5, 6\n",
    "\n",
    "i = 3\n",
    "j = 6\n",
    "\n",
    "k = 4일 때\n",
    "i = 0\n",
    " j = 4 5 6\n",
    "부터 i는 어디까지? i = 2까지\n",
    " ---\n",
    " k = 6이면?\n",
    " i = 0\n",
    " j = 6"
   ]
  }
 ],
 "metadata": {
  "kernelspec": {
   "display_name": "Python 3",
   "language": "python",
   "name": "python3"
  },
  "language_info": {
   "codemirror_mode": {
    "name": "ipython",
    "version": 3
   },
   "file_extension": ".py",
   "mimetype": "text/x-python",
   "name": "python",
   "nbconvert_exporter": "python",
   "pygments_lexer": "ipython3",
   "version": "3.6.5"
  }
 },
 "nbformat": 4,
 "nbformat_minor": 2
}
