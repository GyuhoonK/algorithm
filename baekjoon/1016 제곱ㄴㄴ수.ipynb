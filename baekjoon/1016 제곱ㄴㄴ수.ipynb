{
 "cells": [
  {
   "cell_type": "code",
   "execution_count": 60,
   "metadata": {},
   "outputs": [
    {
     "name": "stdout",
     "output_type": "stream",
     "text": [
      "2 3\n",
      "j 3\n",
      "j 7\n",
      "3 8\n",
      "j 8\n",
      "7\n"
     ]
    }
   ],
   "source": [
    "import sys\n",
    "import math\n",
    "a, b = map(int, sys.stdin.readline().split())\n",
    "\n",
    "num = [i for i in range(a,b+1)]\n",
    "check = [False for i in range(a,b+1)] #\n",
    "size = len(num)\n",
    "\n",
    "for i in range(2,int(math.sqrt(b))+1):#sqrt(b)보다 큰 제곱수들은 의미가 없다\n",
    "    start = (i * i) - a % (i * i) # 제곱수에서 min을 제곱수로 나눈 나머지를 뺀다\n",
    "    #start는 range(0,i*i-1)까지 나올 수 있다.\n",
    "    #이 값이 갖는 의미? 제곱수로 나누어 떨어짐을 의미한다\n",
    "    # a = 3이고, i는 2*2였을 때,\n",
    "    # start = 1이된다.\n",
    "    # num[1]은? a(min) + 1이란 의미가 된다.\n",
    "    # 이는 제곱수로 나누어 떨어짐을 의미한다.\n",
    "    # start\n",
    "    if start == i * i : # min이 제곱수로 나누어 떨어진다면,\n",
    "        start = 0 #처음부터 True\n",
    "    for j in range(start, size, i*i):\n",
    "        check[j] = True\n",
    "print(check.count(False))"
   ]
  },
  {
   "cell_type": "code",
   "execution_count": 49,
   "metadata": {},
   "outputs": [],
   "source": [
    "p_num = []\n",
    "num_check = [i for i in range(int(math.sqrt(b)))]\n",
    "p_check = [False for i in range(int(math.sqrt(b)))]\n",
    "p_size = len(num_check)\n",
    "\n",
    "for i in range(2,p_size):\n",
    "    if p_check[i] == False:\n",
    "        p_num.append(num_check[i])\n",
    "        for j in range(i + i, p_size, i):\n",
    "            p_check[j] = True"
   ]
  },
  {
   "cell_type": "code",
   "execution_count": 56,
   "metadata": {},
   "outputs": [
    {
     "data": {
      "text/plain": [
       "[False, False, False, False, False, False, False, False, False, False]"
      ]
     },
     "execution_count": 56,
     "metadata": {},
     "output_type": "execute_result"
    }
   ],
   "source": [
    "check"
   ]
  },
  {
   "cell_type": "code",
   "execution_count": null,
   "metadata": {},
   "outputs": [],
   "source": []
  }
 ],
 "metadata": {
  "kernelspec": {
   "display_name": "Python 3",
   "language": "python",
   "name": "python3"
  },
  "language_info": {
   "codemirror_mode": {
    "name": "ipython",
    "version": 3
   },
   "file_extension": ".py",
   "mimetype": "text/x-python",
   "name": "python",
   "nbconvert_exporter": "python",
   "pygments_lexer": "ipython3",
   "version": "3.6.9"
  }
 },
 "nbformat": 4,
 "nbformat_minor": 2
}
