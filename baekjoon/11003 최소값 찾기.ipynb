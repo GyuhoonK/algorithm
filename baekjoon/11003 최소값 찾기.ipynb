{
 "cells": [
  {
   "cell_type": "code",
   "execution_count": 1,
   "metadata": {},
   "outputs": [],
   "source": [
    "#정답처리 되는 코드#\n",
    "import sys\n",
    "from collections import deque\n",
    "input = sys.stdin.readline\n",
    "\n",
    "n,l = map(int, input().strip().split())\n",
    "\n",
    "Q = deque(maxlen = l) # [value, index]로 저장\n",
    "for index, value in enumerate(map(int,input().strip().split())):#메모리초과를 회피\n",
    "    while Q and Q[0][1] <= index - l: #현재 넣으려는 값과 index 차이를 비교\n",
    "        Q.popleft()\n",
    "    while Q and Q[-1][0] >= value:#while Q and Q[-1][0] 기법\n",
    "        Q.pop()\n",
    "    Q.append([value,index])\n",
    "    print(Q[0][0], end=' ')\n",
    "#while Q : empty를 확인하는 문법, 기억해두자"
   ]
  },
  {
   "cell_type": "code",
   "execution_count": 26,
   "metadata": {},
   "outputs": [],
   "source": [
    "#시간초과가 발생하는 코드#\n",
    "import sys\n",
    "from collections import deque\n",
    "input = sys.stdin.readline\n",
    "\n",
    "n,l = map(int, input().strip().split())\n",
    "\n",
    "Q = deque(maxlen = l) # [value, index]로 저장\n",
    "for index, value in enumerate(map(int,input().strip().split())):\n",
    "    if index == 0: # N번 동안 index == 0을 검사하므로, 시간초과가 발생하는걸까?\n",
    "        Q.append([value,index])\n",
    "        print(Q[0][0], end = ' ')\n",
    "        continue\n",
    "    for i in range(len(Q)-1, -1, -1): #추가하려는 값보다 큰 값이 있으면 모두 pop\n",
    "        if Q[i][0] > value:\n",
    "            Q.pop()\n",
    "    Q.append([value, index])\n",
    "    if Q[-1][1] - Q[0][1] >= l:\n",
    "        Q.popleft()\n",
    "    print(Q[0][0], end = ' ')"
   ]
  },
  {
   "cell_type": "code",
   "execution_count": 35,
   "metadata": {},
   "outputs": [],
   "source": [
    "Q = deque()"
   ]
  },
  {
   "cell_type": "code",
   "execution_count": 37,
   "metadata": {},
   "outputs": [],
   "source": [
    "while Q and Q[0]:\n",
    "    print(1)"
   ]
  },
  {
   "cell_type": "code",
   "execution_count": null,
   "metadata": {},
   "outputs": [],
   "source": []
  }
 ],
 "metadata": {
  "kernelspec": {
   "display_name": "Python 3",
   "language": "python",
   "name": "python3"
  },
  "language_info": {
   "codemirror_mode": {
    "name": "ipython",
    "version": 3
   },
   "file_extension": ".py",
   "mimetype": "text/x-python",
   "name": "python",
   "nbconvert_exporter": "python",
   "pygments_lexer": "ipython3",
   "version": "3.6.9"
  }
 },
 "nbformat": 4,
 "nbformat_minor": 2
}
