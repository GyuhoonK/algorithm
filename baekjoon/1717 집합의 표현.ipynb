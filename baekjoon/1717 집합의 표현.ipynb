{
 "cells": [
  {
   "cell_type": "code",
   "execution_count": 19,
   "metadata": {},
   "outputs": [
    {
     "name": "stdout",
     "output_type": "stream",
     "text": [
      "7 8\n",
      "0 1 3\n",
      "1 1 7\n",
      "NO\n",
      "0 7 6\n",
      "1 7 1\n",
      "NO\n",
      "0 3 7\n",
      "0 4 2\n",
      "0 1 1\n",
      "1 1 1\n",
      "YES\n"
     ]
    }
   ],
   "source": [
    "def find(a):\n",
    "    if q[a] == a:\n",
    "        return a\n",
    "    else: return find(q[a])\n",
    "\n",
    "def merge(a,b):\n",
    "    a = find(a)\n",
    "    b = find(b)\n",
    "    if (a != b):\n",
    "        if rank[a] > rank[b]:\n",
    "            q[b] = a\n",
    "        else:\n",
    "            q[a] = b\n",
    "            if rank[a] == rank[b]:\n",
    "                rank[b] += 1\n",
    "    \n",
    "n, m = map(int, input().split( ))\n",
    "q = [i for i in range(n+1)]\n",
    "rank = [ 0 for i in range(n+1)]\n",
    "\n",
    "for i in range(m):\n",
    "    x,y,z = map(int, input().split( ))\n",
    "    if x == 0:\n",
    "        merge(y,z)\n",
    "    if x == 1:\n",
    "        if find(y) == find(z):\n",
    "            print(\"YES\")\n",
    "        else: print(\"NO\")"
   ]
  },
  {
   "cell_type": "code",
   "execution_count": null,
   "metadata": {},
   "outputs": [],
   "source": []
  }
 ],
 "metadata": {
  "kernelspec": {
   "display_name": "Python 3",
   "language": "python",
   "name": "python3"
  },
  "language_info": {
   "codemirror_mode": {
    "name": "ipython",
    "version": 3
   },
   "file_extension": ".py",
   "mimetype": "text/x-python",
   "name": "python",
   "nbconvert_exporter": "python",
   "pygments_lexer": "ipython3",
   "version": "3.6.5"
  }
 },
 "nbformat": 4,
 "nbformat_minor": 2
}
