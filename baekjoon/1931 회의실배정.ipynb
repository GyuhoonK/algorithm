{
 "cells": [
  {
   "cell_type": "code",
   "execution_count": null,
   "metadata": {},
   "outputs": [],
   "source": [
    "import sys\n",
    "n = int(sys.stdin.readline().strip())\n",
    "conf = []\n",
    "for i in range(n):\n",
    "    p,q = map(int, sys.stdin.readline().strip().split())\n",
    "    conf.append([q,p])\n",
    "conf.sort()\n",
    "t = conf[0][0]\n",
    "ans = 1\n",
    "for i in range(1,n):\n",
    "    if conf[i][1] >= t:\n",
    "        ans += 1\n",
    "        t = conf[i][0]\n",
    "print(ans)"
   ]
  }
 ],
 "metadata": {
  "kernelspec": {
   "display_name": "Python 3",
   "language": "python",
   "name": "python3"
  },
  "language_info": {
   "codemirror_mode": {
    "name": "ipython",
    "version": 3
   },
   "file_extension": ".py",
   "mimetype": "text/x-python",
   "name": "python",
   "nbconvert_exporter": "python",
   "pygments_lexer": "ipython3",
   "version": "3.6.5"
  }
 },
 "nbformat": 4,
 "nbformat_minor": 2
}
