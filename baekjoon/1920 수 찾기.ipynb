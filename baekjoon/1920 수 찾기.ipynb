{
 "cells": [
  {
   "cell_type": "code",
   "execution_count": null,
   "metadata": {},
   "outputs": [],
   "source": [
    "import sys\n",
    "sys.setrecursionlimit(10**6)\n",
    "input = sys.stdin.readline\n",
    "\n",
    "n = int(input().strip()) #list의 길이\n",
    "a = list(map(int, input().strip().split())) # list 입력\n",
    "a.sort()\n",
    "\n",
    "m = int(input().strip()) #검사할 숫자의 개수\n",
    "b = list(map(int, input().strip().split())) \n",
    "\n",
    "def binary_find(arr, left,right, check):\n",
    "    mid = (left + right) // 2\n",
    "    if (arr[mid] == check)|(arr[left] == check)|(arr[right] == check):\n",
    "        return 1\n",
    "    if (arr[mid] > check) & (mid > left):\n",
    "        return binary_find(arr,left,mid, check)\n",
    "    if (arr[mid] < check) & (mid < right):\n",
    "        return binary_find(arr,mid+1,right, check)\n",
    "    \n",
    "\n",
    "#이 경우 test case M개에 대하여, N/2회 검사하게되므로, 결과적으로 O(n**2)의 시간복잡도를 갖는다.\n",
    "#어떻게 하면 시간 복잡도를 줄일 수 있을까?\n",
    "#binary search를 이용한다\n",
    "#이 때 slicing을 이용하면 속도가 느리므로, index를 이용하도록 하자\n",
    "\n",
    "for i in b :\n",
    "    if binary_find(a,0,n-1,i) == 1:\n",
    "        print(1)\n",
    "    else : \n",
    "        print(0)"
   ]
  },
  {
   "cell_type": "code",
   "execution_count": 127,
   "metadata": {},
   "outputs": [],
   "source": [
    "import sys"
   ]
  },
  {
   "cell_type": "code",
   "execution_count": null,
   "metadata": {},
   "outputs": [],
   "source": [
    "sys.setrecursionlimit(10**6)"
   ]
  }
 ],
 "metadata": {
  "kernelspec": {
   "display_name": "Python 3",
   "language": "python",
   "name": "python3"
  },
  "language_info": {
   "codemirror_mode": {
    "name": "ipython",
    "version": 3
   },
   "file_extension": ".py",
   "mimetype": "text/x-python",
   "name": "python",
   "nbconvert_exporter": "python",
   "pygments_lexer": "ipython3",
   "version": "3.6.9"
  }
 },
 "nbformat": 4,
 "nbformat_minor": 2
}
