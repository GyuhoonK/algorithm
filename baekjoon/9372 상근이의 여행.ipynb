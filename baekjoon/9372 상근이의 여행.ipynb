{
 "cells": [
  {
   "cell_type": "code",
   "execution_count": null,
   "metadata": {},
   "outputs": [],
   "source": [
    "import sys\n",
    "import heapq\n",
    "from math import inf\n",
    "\n",
    "def prim(node, start):\n",
    "    cnt = 0\n",
    "    Q = []\n",
    "    keys = {}\n",
    "    pre = {}\n",
    "    for i in range(1, len(node)):\n",
    "        heapq.heappush(Q, (inf, i))\n",
    "        keys.update({i: inf})\n",
    "        pre.update({i: None})\n",
    "    Q[Q.index((inf, start))] = (0, start)\n",
    "    keys[start] = 0\n",
    "    pop_check = []\n",
    "    while len(Q) != 0:\n",
    "        dist, i = heapq.heappop(Q)\n",
    "        pop_check.append(i)\n",
    "        for next_node in node[i]:\n",
    "            if (next_node not in pop_check) & (1 < keys[next_node]):\n",
    "                Q[Q.index((keys[next_node], next_node))] = (1, next_node)\n",
    "                heapq.heapify(Q)\n",
    "                cnt += 1\n",
    "                pre[next_node] = i\n",
    "                keys[next_node] = 1\n",
    "    return cnt\n",
    "            \n",
    "    \n",
    "\n",
    "T = int(sys.stdin.readline().strip())\n",
    "for _ in range(T):\n",
    "    N, M = map(int, sys.stdin.readline().strip().split(' '))\n",
    "    node = []\n",
    "    for _ in range(N+1):\n",
    "        node.append([])\n",
    "    for _ in range(M):\n",
    "        a, b = map(int, sys.stdin.readline().strip().split(' '))\n",
    "        node[a].append(b)\n",
    "        node[b].append(a)\n",
    "    print(prim(node, 1))"
   ]
  },
  {
   "cell_type": "markdown",
   "metadata": {},
   "source": [
    "# comment\n",
    "가중치가 없는 그래프에서 최소 스패닝 트리를 찾는다는 것은 결국 (Number of nodes) - 1이 답 아닌가?"
   ]
  }
 ],
 "metadata": {
  "kernelspec": {
   "display_name": "Python 3",
   "language": "python",
   "name": "python3"
  },
  "language_info": {
   "codemirror_mode": {
    "name": "ipython",
    "version": 3
   },
   "file_extension": ".py",
   "mimetype": "text/x-python",
   "name": "python",
   "nbconvert_exporter": "python",
   "pygments_lexer": "ipython3",
   "version": "3.6.9"
  }
 },
 "nbformat": 4,
 "nbformat_minor": 2
}
