{
 "cells": [
  {
   "cell_type": "code",
   "execution_count": null,
   "metadata": {},
   "outputs": [],
   "source": [
    "from math import inf\n",
    "import copy\n",
    "import sys\n",
    "input = sys.stdin.readline\n",
    "\n",
    "tc = int(input().rstrip())\n",
    "for i in range(tc):\n",
    "    n, ed, worm = map(int, input().rstrip().split())\n",
    "    # node 생성 #\n",
    "    dist = [ inf for i in range(n+1)]\n",
    "    edge = []\n",
    "    # egde 입력, 양밥향#\n",
    "    for j in range(ed):\n",
    "        u, v, cost = map(int, input().rstrip().split())\n",
    "        edge.append([u, v, cost])\n",
    "        edge.append([v, u, cost])\n",
    "    # 웜홀 입력, 단방향 #\n",
    "    for k in range(worm):\n",
    "        u, v, cost = map(int, input().rstrip().split())\n",
    "        edge.append([u,v, -cost])\n",
    "    #시작노드 = 1#\n",
    "    for i in range(n-1):\n",
    "        for u, v, cost in edge:\n",
    "            if dist[v] > dist[u] + cost:\n",
    "                dist[v] = dist[u] + cost\n",
    "    check_dist = copy.deepcopy(dist)\n",
    "    \n",
    "    for u, v, cost in edge:\n",
    "        if dist[v] > dist[u] + cost:\n",
    "            dist[v] = dist[u] + cost\n",
    "    if check_dist == dist:\n",
    "        print(\"NO\")\n",
    "    else : print(\"YES\")"
   ]
  }
 ],
 "metadata": {
  "kernelspec": {
   "display_name": "Python 3",
   "language": "python",
   "name": "python3"
  },
  "language_info": {
   "codemirror_mode": {
    "name": "ipython",
    "version": 3
   },
   "file_extension": ".py",
   "mimetype": "text/x-python",
   "name": "python",
   "nbconvert_exporter": "python",
   "pygments_lexer": "ipython3",
   "version": "3.6.9"
  }
 },
 "nbformat": 4,
 "nbformat_minor": 2
}
