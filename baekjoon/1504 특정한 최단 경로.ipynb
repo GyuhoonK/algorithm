{
 "cells": [
  {
   "cell_type": "code",
   "execution_count": 1,
   "metadata": {},
   "outputs": [
    {
     "ename": "SyntaxError",
     "evalue": "invalid syntax (<ipython-input-1-f53c72df28ff>, line 34)",
     "output_type": "error",
     "traceback": [
      "\u001b[1;36m  File \u001b[1;32m\"<ipython-input-1-f53c72df28ff>\"\u001b[1;36m, line \u001b[1;32m34\u001b[0m\n\u001b[1;33m    if\u001b[0m\n\u001b[1;37m       ^\u001b[0m\n\u001b[1;31mSyntaxError\u001b[0m\u001b[1;31m:\u001b[0m invalid syntax\n"
     ]
    }
   ],
   "source": [
    "import sys\n",
    "from math import inf\n",
    "from queue import PriorityQueue\n",
    "\n",
    "n ,e = map(int, sys.stdin.readline().strip().split())\n",
    "node = [[] for i in range(n+1)]\n",
    "\n",
    "for i in range(e):\n",
    "    u, v, c = map(int, sys.stdin.readline().strip().split())\n",
    "    node[u].append([v,c])\n",
    "    node[v].append([u,c])\n",
    "t1, t2 = map(int, sys.stdin.readline().split())\n",
    "\n",
    "\n",
    "\n",
    "def dik_pq(start):\n",
    "    dist = [inf for i in range(n+1)]\n",
    "    dist[start] = 0\n",
    "    Q = PriorityQueue()\n",
    "    Q.put([dist[start],start])\n",
    "    while not Q.empty():\n",
    "        cur_dist, cur = Q.get()\n",
    "        for edge in node[cur]:\n",
    "            next_node, cost = edge\n",
    "            if dist[next_node] > cost + cur_dist:\n",
    "                dist[next_node] = cost + cur_dist\n",
    "                Q.put([dist[next_node], next_node])\n",
    "    return dist\n",
    "\n",
    "#path1) 1 - t1 - t2 - n\n",
    "#path2) 1 - t2 - t1 - n\n",
    "from_first = dik_pq(1)\n",
    "from_t1 = dik_pq(t1)\n",
    "from_t2 = dik_pq(t2)\n",
    "\n",
    "path1 = from_first[t1] + from_t1[t2] + from_t2[n]\n",
    "path2 = from_first[t2] + from_t2[t1] + from_t1[n]\n",
    "ans = min(path1,path2)\n",
    "if ans == inf :\n",
    "    print(-1)\n",
    "else : print(ans)"
   ]
  },
  {
   "cell_type": "code",
   "execution_count": 21,
   "metadata": {},
   "outputs": [],
   "source": [
    "a = [1,2,3]"
   ]
  },
  {
   "cell_type": "code",
   "execution_count": 22,
   "metadata": {},
   "outputs": [
    {
     "data": {
      "text/plain": [
       "6"
      ]
     },
     "execution_count": 22,
     "metadata": {},
     "output_type": "execute_result"
    }
   ],
   "source": [
    "sum(a)"
   ]
  },
  {
   "cell_type": "code",
   "execution_count": null,
   "metadata": {},
   "outputs": [],
   "source": []
  }
 ],
 "metadata": {
  "kernelspec": {
   "display_name": "Python 3",
   "language": "python",
   "name": "python3"
  },
  "language_info": {
   "codemirror_mode": {
    "name": "ipython",
    "version": 3
   },
   "file_extension": ".py",
   "mimetype": "text/x-python",
   "name": "python",
   "nbconvert_exporter": "python",
   "pygments_lexer": "ipython3",
   "version": "3.6.9"
  }
 },
 "nbformat": 4,
 "nbformat_minor": 2
}
