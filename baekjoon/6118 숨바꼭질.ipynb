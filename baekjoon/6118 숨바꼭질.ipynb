{
 "cells": [
  {
   "cell_type": "code",
   "execution_count": 2,
   "metadata": {},
   "outputs": [],
   "source": [
    "import heapq\n",
    "import sys"
   ]
  },
  {
   "cell_type": "code",
   "execution_count": 7,
   "metadata": {},
   "outputs": [
    {
     "name": "stdout",
     "output_type": "stream",
     "text": [
      "6 7\n",
      "3 6\n",
      "4 3\n",
      "3 2\n",
      "1 3\n",
      "1 2\n",
      "2 4\n",
      "5 2\n",
      "[1, 0, 987654321, 987654321, 987654321, 987654321, 987654321]\n"
     ]
    }
   ],
   "source": [
    "#n, m = sys.stdin.readline().split()\n",
    "n, m = map(int,input().split())\n",
    "node = []\n",
    "for i in range(n+1):\n",
    "    node.append([]) #node 개수 추가\n",
    "for i in range(m):\n",
    "    #p, q = sys.stdin.readline().split()\n",
    "    p, q = map(int,input().split())\n",
    "    node[p].append(q)\n",
    "    node[q].append(p) #node[i] : i번째 노드와 연결된 노드 list\n"
   ]
  },
  {
   "cell_type": "code",
   "execution_count": 10,
   "metadata": {},
   "outputs": [],
   "source": [
    "def dik(node):\n",
    "    Q = []\n",
    "    dist = [987654321] * (n+1)\n",
    "    dist[1] = 0\n",
    "    heapq.heappush(Q,1)\n",
    "    while len(Q) != 0:\n",
    "        u = heapq.heappop(Q)\n",
    "        for v in node[u]:\n",
    "            cost = 1\n",
    "            alt = dist[u] + cost\n",
    "            if alt < dist[v]:\n",
    "                dist[v] = alt\n",
    "                heapq.heappush(Q, v)\n",
    "    return dist"
   ]
  },
  {
   "cell_type": "code",
   "execution_count": 13,
   "metadata": {},
   "outputs": [
    {
     "data": {
      "text/plain": [
       "2"
      ]
     },
     "execution_count": 13,
     "metadata": {},
     "output_type": "execute_result"
    }
   ],
   "source": [
    "a = [1,2,3]\n",
    "a.index(max(a))"
   ]
  },
  {
   "cell_type": "code",
   "execution_count": null,
   "metadata": {},
   "outputs": [],
   "source": []
  }
 ],
 "metadata": {
  "kernelspec": {
   "display_name": "Python 3",
   "language": "python",
   "name": "python3"
  },
  "language_info": {
   "codemirror_mode": {
    "name": "ipython",
    "version": 3
   },
   "file_extension": ".py",
   "mimetype": "text/x-python",
   "name": "python",
   "nbconvert_exporter": "python",
   "pygments_lexer": "ipython3",
   "version": "3.6.9"
  }
 },
 "nbformat": 4,
 "nbformat_minor": 2
}
