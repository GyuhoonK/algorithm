{
 "cells": [
  {
   "cell_type": "code",
   "execution_count": null,
   "metadata": {},
   "outputs": [],
   "source": [
    "import sys\n",
    "input = sys.stdin.readline\n",
    "sys.setrecursionlimit(10**6)\n",
    "\n",
    "def mat_pow(mat1, mat2):\n",
    "    n = len(mat1)\n",
    "    if mat2 == 0:\n",
    "        tmp = [[0 for i in range(n)] for i in range(n)]\n",
    "        for i in range(n):\n",
    "            tmp[i][i] = 1\n",
    "        return tmp\n",
    "    result = [[0 for i in range(n)] for i in range(n)]\n",
    "    for i in range(n):\n",
    "        mat1_ = mat1[i]\n",
    "        for j in range(n):\n",
    "            mat2_ = []\n",
    "            for k in range(n):\n",
    "                mat2_.append(mat2[k][j])\n",
    "            tmp = 0\n",
    "            for a in range(n):\n",
    "                    tmp += mat1_[a] * mat2_[a] \n",
    "            result[i][j] = tmp % 1000\n",
    "    return result\n",
    "\n",
    "def binary_mat(mat, n): ## O(logN) 내에 해결 가능!!\n",
    "    bin_n=list(map(int,bin(n)[2:]))\n",
    "    bin_n.reverse()\n",
    "    tmp = mat # E, 항등행렬\n",
    "    result = mat_pow(mat,0) #E, 항등행렬\n",
    "    for index, i in enumerate(bin_n):\n",
    "        if index != 0:\n",
    "            tmp = mat_pow(tmp,tmp)\n",
    "        if i != 0:\n",
    "            result = mat_pow(result, tmp)\n",
    "    return result\n",
    "            \n",
    "def dc(mat, n):\n",
    "    if n == 0:\n",
    "        return mat_pow(mat, 0) # E를 반환\n",
    "    if n == 1:\n",
    "        return mat\n",
    "    if n % 2 == 0:\n",
    "        return mat_pow(dc(mat, n//2),dc(mat, n//2))\n",
    "    if n % 2 != 0:\n",
    "        return mat_pow(dc(mat,n-1), dc(mat,1))\n",
    "\n",
    "a, b = map(int, input().strip().split())\n",
    "mat = []\n",
    "for i in range(a):\n",
    "    mat.append(list(map(int, input().strip().split())))\n",
    "ans = binary_mat(mat, b)\n",
    "\n",
    "for i in range(a):\n",
    "    for j in range(a):\n",
    "        print(ans[i][j], end= ' ')\n",
    "    print('', end = '\\n')"
   ]
  },
  {
   "cell_type": "code",
   "execution_count": null,
   "metadata": {},
   "outputs": [],
   "source": [
    "def binary_mat(mat, n):\n",
    "    bin_n=list(map(int,bin(n)[2:]))\n",
    "    bin_n.reverse()\n",
    "    tmp = mat_pow(mat,0) # E, 항등행렬\n",
    "    result = mat_pow(mat,0) #E, 항등행렬\n",
    "    for index, i in enumerate(bin_n):\n",
    "        tmp = mat_pow(mat, tmp)\n",
    "        if not i == 0:\n",
    "            result = mat_pow(result, tmp)\n",
    "    return result\n",
    "            "
   ]
  },
  {
   "cell_type": "code",
   "execution_count": 10,
   "metadata": {},
   "outputs": [
    {
     "data": {
      "text/plain": [
       "[1, 0, 1]"
      ]
     },
     "execution_count": 10,
     "metadata": {},
     "output_type": "execute_result"
    }
   ],
   "source": [
    "bi = list(map(int,bin(5)[2:]))\n",
    "bi.reverse()\n",
    "bi"
   ]
  },
  {
   "cell_type": "code",
   "execution_count": 12,
   "metadata": {},
   "outputs": [
    {
     "name": "stdout",
     "output_type": "stream",
     "text": [
      "1\n",
      "0\n",
      "4\n"
     ]
    }
   ],
   "source": [
    "for index, i in enumerate(bi):\n",
    "    print((2**index) * i)"
   ]
  },
  {
   "cell_type": "code",
   "execution_count": 13,
   "metadata": {},
   "outputs": [],
   "source": [
    "import numpy as np"
   ]
  },
  {
   "cell_type": "code",
   "execution_count": 14,
   "metadata": {},
   "outputs": [],
   "source": [
    "a = np.array([[1,2,3],\n",
    "        [4,5,6],\n",
    "         [7,8,9]])"
   ]
  },
  {
   "cell_type": "code",
   "execution_count": 15,
   "metadata": {},
   "outputs": [
    {
     "data": {
      "text/plain": [
       "array([[ 30,  36,  42],\n",
       "       [ 66,  81,  96],\n",
       "       [102, 126, 150]])"
      ]
     },
     "execution_count": 15,
     "metadata": {},
     "output_type": "execute_result"
    }
   ],
   "source": [
    "np.dot(a,a)"
   ]
  },
  {
   "cell_type": "code",
   "execution_count": null,
   "metadata": {},
   "outputs": [],
   "source": []
  }
 ],
 "metadata": {
  "kernelspec": {
   "display_name": "Python 3",
   "language": "python",
   "name": "python3"
  },
  "language_info": {
   "codemirror_mode": {
    "name": "ipython",
    "version": 3
   },
   "file_extension": ".py",
   "mimetype": "text/x-python",
   "name": "python",
   "nbconvert_exporter": "python",
   "pygments_lexer": "ipython3",
   "version": "3.6.9"
  }
 },
 "nbformat": 4,
 "nbformat_minor": 2
}
