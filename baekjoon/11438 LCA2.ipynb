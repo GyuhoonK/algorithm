{
 "cells": [
  {
   "cell_type": "code",
   "execution_count": null,
   "metadata": {},
   "outputs": [],
   "source": [
    "from math import inf\n",
    "import sys\n",
    "input = sys.stdin.readline\n",
    "sys.setrecursionlimit(10**10)\n",
    "\n",
    "def dfs(cur):\n",
    "    for link in node[cur]:\n",
    "        if (d[link] == inf): #방문하지 않은 node라면\n",
    "            d[link] = d[cur] + 1 #방문하고 depth를 기록한다\n",
    "            p[link].append(cur) #해당 node의 parent를 기록한다\n",
    "#p[link][-1] : 방금 추가된 ancestor\n",
    "#p[p[link][-1]] 방금 추가된 parent의 조상(ancesotr)\n",
    "            if d[link] >= 3: #depth가 3인 지점부터 ancestor를 기록할 필요가 생긴다\n",
    "                for num in range(1,n+1): \n",
    "                    if (len(p[p[link][-1]]) >= num) :\n",
    "                        p[link].append(p[p[link][-1]][num-1])\n",
    "                    else : break\n",
    "            dfs(link)\n",
    "            \n",
    "def find_lca(a,b):\n",
    "    if d[b] > d[a]:\n",
    "        a, b = b, a #d[a]가 항상 더 크다\n",
    "    for i in range(len(p[a])-1,-1,-1):\n",
    "        if (d[a] - d[b] >= (1<<i)): #DP 구조에 대해 다시 생각해보자\n",
    "            #2^i 보다 차이가 큰 경우에는 depth가 큰 node의 parent로 업데이트한다\n",
    "            #2^i 보다 두 노드의 depth 차이가 크다 --> 2^i 번째 node로 업데이트하면 차이를 줄 일 수 있다\n",
    "            #2^i 보다 두 노드의 depth 차이가 작다 --> 2^i 번째 node로 업데이트하면 a,b 관계가 역전되므로 하지 않는다\n",
    "            a = p[a][i] #두 깊이의 차이가 다시 업데이트된다\n",
    "    #최종족으로 d[a] == d[b]를 만족한다\n",
    "    if a == b : return a\n",
    "    for i in range(len(p[a])-1,-1,-1):\n",
    "        if p[a][i] != p[b][i]: #공통 조상을 갖지 않는다면\n",
    "            a = p[a][i] #a,b를 update한다\n",
    "            b = p[b][i]\n",
    "    return p[a][0] #최종 update된 값의 부모노드가 LCA로 확정된다\n",
    "    \n",
    "n = int(input().strip())\n",
    "node = [[] for i in range(n+1)]\n",
    "d = [inf for i in range(n+1)]\n",
    "p = [[] for i in range(n+1)] #p[i][j] : ith node's j^2 th ancestors\n",
    "\n",
    "for i in range(n-1):\n",
    "    a, b = map(int, input().strip().split())\n",
    "    node[a].append(b)\n",
    "    node[b].append(a)\n",
    "d[1] = 0 #1st node is root\n",
    "dfs(1)\n",
    "p[1].append(1) # root에 대해서는 자기 자신을 호출한다\n",
    "\n",
    "m = int(input().strip())\n",
    "for i in range(m):\n",
    "    a, b = map(int, input().strip().split())\n",
    "    print(find_lca(a,b))"
   ]
  },
  {
   "cell_type": "code",
   "execution_count": null,
   "metadata": {},
   "outputs": [],
   "source": [
    "from math import inf\n",
    "from collections import deque\n",
    "import sys\n",
    "input = sys.stdin.readline\n",
    "sys.setrecursionlimit(10**6)\n",
    "\n",
    "def find_lca(a,b):\n",
    "    if depth[b] > depth[a]:\n",
    "        a, b = b, a #d[a]가 항상 더 크다\n",
    "\n",
    "    for i in range(len(parent[a])-1,-1,-1):\n",
    "        if (depth[a] - depth[b] >= (1<<i)): #DP 구조에 대해 다시 생각해보자\n",
    "            #2^i 보다 차이가 큰 경우에는 depth가 큰 node의 parent로 업데이트한다\n",
    "            #2^i 보다 두 노드의 depth 차이가 크다 --> 2^i 번째 node로 업데이트하면 차이를 줄 일 수 있다\n",
    "            #2^i 보다 두 노드의 depth 차이가 작다 --> 2^i 번째 node로 업데이트하면 a,b 관계가 역전되므로 하지 않는다\n",
    "            a = parent[a][i] #두 깊이의 차이가 다시 업데이트된다\n",
    "    #최종적으로 d[a] == d[b]를 만족한다\n",
    "    if a == b : return a\n",
    "    while parent[a][0] != parent[b][0]:\n",
    "        end = len(parent[a]) - 1\n",
    "        for i in range(end, -1, -1):\n",
    "            if parent[a][i] != parent[b][i]:\n",
    "                a = parent[a][i]\n",
    "                b = parent[b][i]\n",
    "                break\n",
    "    return parent[a][0] #최종 update된 값의 부모노드가 LCA로 확정된다\n",
    "\n",
    "n = int(input().strip())\n",
    "node = [[] for i in range(n+1)]\n",
    "depth = [inf for i in range(n+1)]\n",
    "parent = [[] for i in range(n+1)]\n",
    "\n",
    "for i in range(n-1):\n",
    "    a, b = map(int, input().strip().split())\n",
    "    node[a].append(b)\n",
    "    node[b].append(a)\n",
    "\n",
    "Q = deque()\n",
    "Q.append(1) #1번 노드가 root 노드가 된다\n",
    "depth[1] = 0 #1번 노드의 depth를 1로 지정한다\n",
    "\n",
    "while Q:\n",
    "    cur = Q.pop()\n",
    "    for link in node[cur]:\n",
    "        if depth[link] == inf:\n",
    "            depth[link] = depth[cur] + 1\n",
    "            parent[link].append(cur) #parent[i][0] : parent에 해당한다\n",
    "            Q.append(link)\n",
    "            #현재 링크에 대해 ancestor들을 기록하자#\n",
    "            num = 1\n",
    "            while (2**num) <= depth[link]:\n",
    "                num +=1\n",
    "            for i in range(1, num):\n",
    "                parent[link].append(parent[parent[link][-1]][i-1])\n",
    "\n",
    "m = int(input().strip())\n",
    "for i in range(m):\n",
    "    a, b = map(int, input().strip().split())\n",
    "    print(find_lca(a,b))"
   ]
  },
  {
   "cell_type": "code",
   "execution_count": 16,
   "metadata": {},
   "outputs": [
    {
     "data": {
      "text/plain": [
       "2"
      ]
     },
     "execution_count": 16,
     "metadata": {},
     "output_type": "execute_result"
    }
   ],
   "source": [
    "from math import ceil, sqrt, floor\n",
    "ceil(sqrt(2))"
   ]
  },
  {
   "cell_type": "code",
   "execution_count": 14,
   "metadata": {},
   "outputs": [
    {
     "name": "stdout",
     "output_type": "stream",
     "text": [
      "엥?\n"
     ]
    }
   ],
   "source": [
    "for i in range(1,2):\n",
    "    print(\"엥?\")"
   ]
  },
  {
   "cell_type": "code",
   "execution_count": 20,
   "metadata": {},
   "outputs": [
    {
     "data": {
      "text/plain": [
       "3"
      ]
     },
     "execution_count": 20,
     "metadata": {},
     "output_type": "execute_result"
    }
   ],
   "source": [
    "ceil(sqrt(8))"
   ]
  },
  {
   "cell_type": "code",
   "execution_count": null,
   "metadata": {},
   "outputs": [],
   "source": []
  }
 ],
 "metadata": {
  "kernelspec": {
   "display_name": "Python 3",
   "language": "python",
   "name": "python3"
  },
  "language_info": {
   "codemirror_mode": {
    "name": "ipython",
    "version": 3
   },
   "file_extension": ".py",
   "mimetype": "text/x-python",
   "name": "python",
   "nbconvert_exporter": "python",
   "pygments_lexer": "ipython3",
   "version": "3.6.9"
  }
 },
 "nbformat": 4,
 "nbformat_minor": 2
}
