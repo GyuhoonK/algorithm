{
 "cells": [
  {
   "cell_type": "code",
   "execution_count": null,
   "metadata": {},
   "outputs": [],
   "source": [
    "from collections import deque\n",
    "import sys\n",
    "n = int(sys.stdin.readline().strip())\n",
    "task = [] #작업에 걸리는 시간\n",
    "task.append(0)\n",
    "ind = [] #먼저 마무리해야할 작업의 개수\n",
    "ind.append(0)\n",
    "after_task = [[] for i in range(n+1)] #after_task[i] : i를 마무리하면 ind가 줄어드는 작업들\n",
    "ans = [0 for i in range(n+1)]\n",
    "for i in range(1,n+1):\n",
    "    task_ = list(map(int,sys.stdin.readline().strip().split()))\n",
    "    task.append(task_[0])\n",
    "    ind.append(task_[1])\n",
    "    for j in task_[2:]:\n",
    "        after_task[j].append(i)\n",
    "\n",
    "q = deque([])\n",
    "for i in range(1,n+1):\n",
    "    if ind[i] == 0:\n",
    "        q.append(i)\n",
    "        ans[i] = task[i] #i task를 마무리하는데 걸리는 시간을 저장\n",
    "for i in range(1,n+1):\n",
    "    target = q.popleft()\n",
    "    \n",
    "    for j in range(len(after_task[target])):\n",
    "        k = after_task[target][j]\n",
    "        ind[k] -= 1\n",
    "        if (ans[k] < ans[target] + task[k]):#target task를 가장 늦게 마무리한 시간에\n",
    "            ans[k] = ans[target] + task[k] #k task를 수행하는데 걸린 시간을 더한다\n",
    "        if ind[k] == 0:\n",
    "            q.append(k)\n",
    "print(max(ans)) #max값이 정답\n",
    "##동시 수행의 개념을 어떻게 구현할 것인가?##"
   ]
  }
 ],
 "metadata": {
  "kernelspec": {
   "display_name": "Python 3",
   "language": "python",
   "name": "python3"
  },
  "language_info": {
   "codemirror_mode": {
    "name": "ipython",
    "version": 3
   },
   "file_extension": ".py",
   "mimetype": "text/x-python",
   "name": "python",
   "nbconvert_exporter": "python",
   "pygments_lexer": "ipython3",
   "version": "3.6.9"
  }
 },
 "nbformat": 4,
 "nbformat_minor": 2
}
