{
 "cells": [
  {
   "cell_type": "code",
   "execution_count": 3,
   "metadata": {},
   "outputs": [],
   "source": [
    "import heapq\n",
    "import sys"
   ]
  },
  {
   "cell_type": "code",
   "execution_count": 4,
   "metadata": {
    "scrolled": false
   },
   "outputs": [
    {
     "ename": "ValueError",
     "evalue": "not enough values to unpack (expected 3, got 0)",
     "output_type": "error",
     "traceback": [
      "\u001b[1;31m---------------------------------------------------------------------------\u001b[0m",
      "\u001b[1;31mValueError\u001b[0m                                Traceback (most recent call last)",
      "\u001b[1;32m<ipython-input-4-6507912fc452>\u001b[0m in \u001b[0;36m<module>\u001b[1;34m()\u001b[0m\n\u001b[0;32m     19\u001b[0m \u001b[1;33m\u001b[0m\u001b[0m\n\u001b[0;32m     20\u001b[0m \u001b[1;33m\u001b[0m\u001b[0m\n\u001b[1;32m---> 21\u001b[1;33m \u001b[0mn\u001b[0m\u001b[1;33m,\u001b[0m \u001b[0mm\u001b[0m\u001b[1;33m,\u001b[0m \u001b[0mx\u001b[0m \u001b[1;33m=\u001b[0m \u001b[0mmap\u001b[0m\u001b[1;33m(\u001b[0m\u001b[0mint\u001b[0m\u001b[1;33m,\u001b[0m \u001b[0msys\u001b[0m\u001b[1;33m.\u001b[0m\u001b[0mstdin\u001b[0m\u001b[1;33m.\u001b[0m\u001b[0mreadline\u001b[0m\u001b[1;33m(\u001b[0m\u001b[1;33m)\u001b[0m\u001b[1;33m.\u001b[0m\u001b[0msplit\u001b[0m\u001b[1;33m(\u001b[0m\u001b[1;33m)\u001b[0m\u001b[1;33m)\u001b[0m\u001b[1;33m\u001b[0m\u001b[0m\n\u001b[0m\u001b[0;32m     22\u001b[0m \u001b[1;33m\u001b[0m\u001b[0m\n\u001b[0;32m     23\u001b[0m \u001b[0mnode\u001b[0m \u001b[1;33m=\u001b[0m \u001b[1;33m[\u001b[0m\u001b[1;33m]\u001b[0m\u001b[1;33m\u001b[0m\u001b[0m\n",
      "\u001b[1;31mValueError\u001b[0m: not enough values to unpack (expected 3, got 0)"
     ]
    }
   ],
   "source": [
    "def dik_hq(node, s):\n",
    "    Q = []\n",
    "    dist = [1e9] * (n+1)\n",
    "    dist[s] = 0\n",
    "    heapq.heappush(Q,[dist[s],s])\n",
    "    while len(Q) != 0:\n",
    "        u = heapq.heappop(Q)[1] #cost가 가장 낮은 node 반환\n",
    "        for v in range(len(node[u])):\n",
    "            tmp = []\n",
    "            for i in range(len(Q)):\n",
    "                tmp.append(Q[i][1])\n",
    "            t = node[u][v][0]\n",
    "            cost = node[u][v][1]\n",
    "            alt = dist[u] + cost\n",
    "            if alt < dist[t]:\n",
    "                dist[t] = alt\n",
    "                heapq.heappush(Q,[dist[t],t])\n",
    "    return dist\n",
    "\n",
    "\n",
    "n, m, x = map(int, sys.stdin.readline().split())\n",
    "\n",
    "node = []\n",
    "for i in range(n+1):\n",
    "    node.append([])\n",
    "    \n",
    "for i in range(m):\n",
    "    start, end, cost = map(int, sys.stdin.readline().split())\n",
    "    node[start].append([end,cost])\n",
    "    \n",
    "\n",
    "come_back = dik_hq(node, x)\n",
    "\n",
    "starting = list(range(1,n+1))\n",
    "starting.remove(x)\n",
    "ans = []\n",
    "for i in starting:\n",
    "    ans.append(dik_hq(node,i)[x] + come_back[i])\n",
    "print(max(ans))"
   ]
  },
  {
   "cell_type": "markdown",
   "metadata": {},
   "source": [
    "#### def dik_hq(node, s):\n",
    "    Q = []\n",
    "    dist = [10001] * (n+1)\n",
    "    dist[s] = 0\n",
    "    for i in range(1,n+1):\n",
    "        heapq.heappush(Q,[dist[i],i])\n",
    "    while len(Q) != 0:\n",
    "        u = heapq.heappop(Q)[1] #cost가 가장 낮은 node 반환\n",
    "        for v in range(len(node[u])):\n",
    "            t = node[u][v][0]\n",
    "            cost = node[u][v][1]\n",
    "            alt = dist[u] + cost\n",
    "            if alt < dist[t]:\n",
    "                dist[t] = alt\n",
    "    return dist"
   ]
  },
  {
   "cell_type": "code",
   "execution_count": 60,
   "metadata": {},
   "outputs": [
    {
     "data": {
      "text/plain": [
       "[10001, 1, 0, 3, 7]"
      ]
     },
     "execution_count": 60,
     "metadata": {},
     "output_type": "execute_result"
    }
   ],
   "source": [
    "dik_hq(node, 2)"
   ]
  },
  {
   "cell_type": "code",
   "execution_count": 6,
   "metadata": {},
   "outputs": [
    {
     "data": {
      "text/plain": [
       "False"
      ]
     },
     "execution_count": 6,
     "metadata": {},
     "output_type": "execute_result"
    }
   ],
   "source": [
    "Q = [[1,3],[2,4]]\n",
    "1 in Q\n"
   ]
  },
  {
   "cell_type": "code",
   "execution_count": 7,
   "metadata": {},
   "outputs": [],
   "source": [
    "for line in sys.stdin.readline():\n",
    "    print(line)"
   ]
  },
  {
   "cell_type": "code",
   "execution_count": 5,
   "metadata": {},
   "outputs": [
    {
     "data": {
      "text/plain": [
       "''"
      ]
     },
     "execution_count": 5,
     "metadata": {},
     "output_type": "execute_result"
    }
   ],
   "source": [
    "def dik(node, s):\n",
    "    Q = [i for i in range(1,n+1)]\n",
    "    dist = [10001] * (n+1)\n",
    "    dist[s] = 0\n",
    "    while len(Q) != 1:\n",
    "        u = dist.index(min(dist))\n",
    "        tmp = []\n",
    "        for i in range(len(dist)):\n",
    "            tmp.append(dist[i])\n",
    "        while u not in Q:\n",
    "            tmp[u] = 10001\n",
    "            u = tmp.index(min(tmp))\n",
    "        Q.remove(u)\n",
    "        for v in range(len(node[u])):\n",
    "            t = node[u][v][0]\n",
    "            cost = node[u][v][1]\n",
    "            alt = dist[u] + cost\n",
    "            if alt < dist[t]:\n",
    "                dist[t] = alt\n",
    "    return dist"
   ]
  },
  {
   "cell_type": "code",
   "execution_count": 11,
   "metadata": {},
   "outputs": [],
   "source": [
    "for line in sys.stdin.readline():\n",
    "    line"
   ]
  },
  {
   "cell_type": "code",
   "execution_count": 16,
   "metadata": {},
   "outputs": [],
   "source": [
    "a = map(int, sys.stdin.readline())"
   ]
  },
  {
   "cell_type": "code",
   "execution_count": 27,
   "metadata": {},
   "outputs": [],
   "source": [
    "a = sys.stdin.readline()"
   ]
  },
  {
   "cell_type": "code",
   "execution_count": 31,
   "metadata": {},
   "outputs": [
    {
     "ename": "ValueError",
     "evalue": "not enough values to unpack (expected 2, got 0)",
     "output_type": "error",
     "traceback": [
      "\u001b[1;31m---------------------------------------------------------------------------\u001b[0m",
      "\u001b[1;31mValueError\u001b[0m                                Traceback (most recent call last)",
      "\u001b[1;32m<ipython-input-31-7d0f9a9f4a1f>\u001b[0m in \u001b[0;36m<module>\u001b[1;34m()\u001b[0m\n\u001b[1;32m----> 1\u001b[1;33m \u001b[1;33m(\u001b[0m\u001b[0mn\u001b[0m\u001b[1;33m,\u001b[0m \u001b[0mm\u001b[0m\u001b[1;33m)\u001b[0m\u001b[1;33m=\u001b[0m \u001b[0mmap\u001b[0m\u001b[1;33m(\u001b[0m\u001b[0mint\u001b[0m\u001b[1;33m,\u001b[0m \u001b[0msys\u001b[0m\u001b[1;33m.\u001b[0m\u001b[0mstdin\u001b[0m\u001b[1;33m.\u001b[0m\u001b[0mreadline\u001b[0m\u001b[1;33m(\u001b[0m\u001b[1;33m)\u001b[0m\u001b[1;33m.\u001b[0m\u001b[0msplit\u001b[0m\u001b[1;33m(\u001b[0m\u001b[1;33m)\u001b[0m\u001b[1;33m)\u001b[0m\u001b[1;33m\u001b[0m\u001b[0m\n\u001b[0m",
      "\u001b[1;31mValueError\u001b[0m: not enough values to unpack (expected 2, got 0)"
     ]
    }
   ],
   "source": [
    "(n, m)= map(int, sys.stdin.readline().split())"
   ]
  },
  {
   "cell_type": "code",
   "execution_count": null,
   "metadata": {},
   "outputs": [],
   "source": []
  }
 ],
 "metadata": {
  "kernelspec": {
   "display_name": "Python 3",
   "language": "python",
   "name": "python3"
  },
  "language_info": {
   "codemirror_mode": {
    "name": "ipython",
    "version": 3
   },
   "file_extension": ".py",
   "mimetype": "text/x-python",
   "name": "python",
   "nbconvert_exporter": "python",
   "pygments_lexer": "ipython3",
   "version": "3.6.5"
  }
 },
 "nbformat": 4,
 "nbformat_minor": 2
}
