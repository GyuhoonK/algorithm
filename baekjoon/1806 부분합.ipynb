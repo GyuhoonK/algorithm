{
 "cells": [
  {
   "cell_type": "code",
   "execution_count": null,
   "metadata": {},
   "outputs": [],
   "source": [
    "import sys\n",
    "from math import inf\n",
    "\n",
    "n, s = map(int, sys.stdin.readline().strip().split())\n",
    "a = list(map(int, sys.stdin.readline().split()))\n",
    "\n",
    "(left, right) = (0, 0)\n",
    "ans = inf\n",
    "p = a[left]\n",
    "\n",
    "while (left <= right) & (right < n):\n",
    "    if p == s:\n",
    "        ans = min(ans, right-left+1)\n",
    "        right += 1\n",
    "        if right < n :\n",
    "            p += a[right]\n",
    "    if p < s:\n",
    "        right += 1\n",
    "        if right < n:\n",
    "            p += a[right]\n",
    "    if p > s:\n",
    "        ans = min(ans, right - left + 1)\n",
    "        p -= a[left]\n",
    "        left += 1\n",
    "        if (left > right) & (left < n):\n",
    "            right = left\n",
    "            p = a[left]\n",
    "\n",
    "if ans == inf:\n",
    "    print(0)\n",
    "else : print(ans)"
   ]
  }
 ],
 "metadata": {
  "kernelspec": {
   "display_name": "Python 3",
   "language": "python",
   "name": "python3"
  },
  "language_info": {
   "codemirror_mode": {
    "name": "ipython",
    "version": 3
   },
   "file_extension": ".py",
   "mimetype": "text/x-python",
   "name": "python",
   "nbconvert_exporter": "python",
   "pygments_lexer": "ipython3",
   "version": "3.6.9"
  }
 },
 "nbformat": 4,
 "nbformat_minor": 2
}
