{
 "cells": [
  {
   "cell_type": "code",
   "execution_count": null,
   "metadata": {},
   "outputs": [],
   "source": [
    "import sys\n",
    "input = sys.stdin.readline\n",
    "\n",
    "N = int(input().rstrip())\n",
    "node = []\n",
    "\n",
    "for _ in range(N):\n",
    "    line = list(map(int, input().rstrip()))\n",
    "    node.append(line)\n",
    "\n",
    "def solution(X, n):\n",
    "    num_0, num_1 = 0, 0\n",
    "    for row in X:\n",
    "        num_0 += row.count(0)\n",
    "        num_1 += row.count(1)\n",
    "    if num_0 == n*n:\n",
    "        print(0, end ='')\n",
    "    elif num_1 == n*n:\n",
    "        print(1, end = '')\n",
    "    \n",
    "    else :\n",
    "        print('(', end= '')\n",
    "        n_ = int(n//2)\n",
    "        a, b, c, d = [], [], [], []\n",
    "        for i, row in enumerate(X):\n",
    "            if i < n_:\n",
    "                a.append(row[:n_])\n",
    "                b.append(row[n_:])\n",
    "            else :\n",
    "                c.append(row[:n_])\n",
    "                d.append(row[n_:])\n",
    "        for nex in [a,b,c,d]:\n",
    "                solution(nex, n_)\n",
    "        print(')', end = '')\n",
    "    \n",
    "solution(node, N)\n"
   ]
  }
 ],
 "metadata": {
  "kernelspec": {
   "display_name": "Python 3",
   "language": "python",
   "name": "python3"
  },
  "language_info": {
   "codemirror_mode": {
    "name": "ipython",
    "version": 3
   },
   "file_extension": ".py",
   "mimetype": "text/x-python",
   "name": "python",
   "nbconvert_exporter": "python",
   "pygments_lexer": "ipython3",
   "version": "3.6.9"
  }
 },
 "nbformat": 4,
 "nbformat_minor": 2
}
