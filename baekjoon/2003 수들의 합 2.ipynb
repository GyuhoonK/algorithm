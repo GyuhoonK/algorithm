{
 "cells": [
  {
   "cell_type": "code",
   "execution_count": null,
   "metadata": {},
   "outputs": [],
   "source": [
    "import sys\n",
    "n, m = map(int, sys.stdin.readline().strip().split())\n",
    "\n",
    "a = list(map(int, sys.stdin.readline().split()))\n",
    "\n",
    "(left, right) = (0, 0)\n",
    "ans = 0\n",
    "s = a[0]\n",
    "\n",
    "while (left <= right) & (right < n):\n",
    "    if s == m:\n",
    "        ans += 1\n",
    "        right += 1\n",
    "        if (right < n):\n",
    "            s += a[right]\n",
    "    if s < m:\n",
    "        right += 1\n",
    "        if (right < n):\n",
    "            s += a[right]\n",
    "    if s > m:\n",
    "        s -= a[left]\n",
    "        left += 1\n",
    "        if (left > right) & (left < n):\n",
    "            right = left\n",
    "            s = a[left]\n",
    "print(ans)"
   ]
  }
 ],
 "metadata": {
  "kernelspec": {
   "display_name": "Python 3",
   "language": "python",
   "name": "python3"
  },
  "language_info": {
   "codemirror_mode": {
    "name": "ipython",
    "version": 3
   },
   "file_extension": ".py",
   "mimetype": "text/x-python",
   "name": "python",
   "nbconvert_exporter": "python",
   "pygments_lexer": "ipython3",
   "version": "3.6.9"
  }
 },
 "nbformat": 4,
 "nbformat_minor": 2
}
