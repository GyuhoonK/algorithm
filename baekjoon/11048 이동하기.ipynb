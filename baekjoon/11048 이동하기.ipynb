{
 "cells": [
  {
   "cell_type": "code",
   "execution_count": 1,
   "metadata": {},
   "outputs": [],
   "source": [
    "import sys"
   ]
  },
  {
   "cell_type": "code",
   "execution_count": null,
   "metadata": {},
   "outputs": [],
   "source": [
    "import sys\n",
    "n, m = map(int, sys.stdin.readline().strip().split())\n",
    "node = []\n",
    "d = [[0 for i in range(m)] for i in range(n)]\n",
    "d[0][0] = node[0][0]\n",
    "for i in range(n):\n",
    "    node.append([])\n",
    "for i in range(n):\n",
    "    node[i] = list(map(int, sys.stdin.readline().strip().split()))\n",
    "for i in range(1,m):\n",
    "    d[0][i] = d[0][i-1] + node[0][i]\n",
    "for j in range(1,n):\n",
    "    d[j][0] = d[j-1][0] + node[j][0]\n",
    "for i in range(1,n):\n",
    "    for j in range(1,m):\n",
    "        d[i][j] = max(max(d[i-1][j-1] + node[i][j], d[i-1][j] + node[i][j]), d[i][j-1] + node[i][j])\n",
    "print(d[n-1][m-1])"
   ]
  },
  {
   "cell_type": "code",
   "execution_count": 15,
   "metadata": {},
   "outputs": [],
   "source": [
    "d = [[0 for i in range(2)] for i in range(3)]"
   ]
  },
  {
   "cell_type": "code",
   "execution_count": 16,
   "metadata": {},
   "outputs": [
    {
     "data": {
      "text/plain": [
       "[[0, 0], [0, 0], [0, 0]]"
      ]
     },
     "execution_count": 16,
     "metadata": {},
     "output_type": "execute_result"
    }
   ],
   "source": [
    "d"
   ]
  },
  {
   "cell_type": "code",
   "execution_count": 17,
   "metadata": {},
   "outputs": [
    {
     "data": {
      "text/plain": [
       "[[1, 0], [0, 0], [0, 0]]"
      ]
     },
     "execution_count": 17,
     "metadata": {},
     "output_type": "execute_result"
    }
   ],
   "source": [
    "d[0][0] = 1\n",
    "d"
   ]
  },
  {
   "cell_type": "code",
   "execution_count": null,
   "metadata": {},
   "outputs": [],
   "source": []
  },
  {
   "cell_type": "code",
   "execution_count": null,
   "metadata": {},
   "outputs": [],
   "source": []
  }
 ],
 "metadata": {
  "kernelspec": {
   "display_name": "Python 3",
   "language": "python",
   "name": "python3"
  },
  "language_info": {
   "codemirror_mode": {
    "name": "ipython",
    "version": 3
   },
   "file_extension": ".py",
   "mimetype": "text/x-python",
   "name": "python",
   "nbconvert_exporter": "python",
   "pygments_lexer": "ipython3",
   "version": "3.6.9"
  }
 },
 "nbformat": 4,
 "nbformat_minor": 2
}
