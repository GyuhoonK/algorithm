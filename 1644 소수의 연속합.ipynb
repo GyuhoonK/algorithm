{
 "cells": [
  {
   "cell_type": "code",
   "execution_count": 31,
   "metadata": {},
   "outputs": [
    {
     "name": "stdout",
     "output_type": "stream",
     "text": [
      "0\n"
     ]
    }
   ],
   "source": [
    "import sys\n",
    "n = int(sys.stdin.readline().strip())\n",
    "p_check = [False for i in range(n+1)]\n",
    "num = [i for i in range(n+1)]\n",
    "p_num = [] #n 이하 소수들\n",
    "\n",
    "for i in range(2,n+1):\n",
    "    if p_check[i] == False:\n",
    "        p_num.append(i)\n",
    "        for j in range(i*i,n+1,i):\n",
    "            p_check[j] = True\n",
    "size = len(p_num)\n",
    "(left, right) = (0, 0)\n",
    "if n == 1: ## n =1 인 경우에 p_num이 만들어지지 않으므로\n",
    "    s = 0 # p_num[0]은 런타임 에러를 발생시킨다\n",
    "else :\n",
    "    s = p_num[left]\n",
    "ans = 0\n",
    "\n",
    "while (left <= right) & (right < size):\n",
    "    if s == n:\n",
    "        ans += 1\n",
    "        right += 1\n",
    "        if right < size:\n",
    "            s += p_num[right]\n",
    "    if s < n:\n",
    "        right += 1\n",
    "        if right < size:\n",
    "            s += p_num[right]\n",
    "    if s > n:\n",
    "        s -= p_num[left]\n",
    "        left += 1\n",
    "        if (left > right) & (left < size):\n",
    "            right = left\n",
    "            s = a[left]\n",
    "print(ans)"
   ]
  },
  {
   "cell_type": "code",
   "execution_count": null,
   "metadata": {},
   "outputs": [],
   "source": []
  }
 ],
 "metadata": {
  "kernelspec": {
   "display_name": "Python 3",
   "language": "python",
   "name": "python3"
  },
  "language_info": {
   "codemirror_mode": {
    "name": "ipython",
    "version": 3
   },
   "file_extension": ".py",
   "mimetype": "text/x-python",
   "name": "python",
   "nbconvert_exporter": "python",
   "pygments_lexer": "ipython3",
   "version": "3.6.9"
  }
 },
 "nbformat": 4,
 "nbformat_minor": 2
}
