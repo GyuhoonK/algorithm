{
 "cells": [
  {
   "cell_type": "code",
   "execution_count": null,
   "metadata": {},
   "outputs": [],
   "source": [
    "import sys\n",
    "input = sys.stdin.readline\n",
    "\n",
    "t = int(input().rstrip())\n",
    "for i in range(t):\n",
    "    c = int(input().rstrip())\n",
    "    ans = [0, 0, 0, 0]\n",
    "    while c >= 25:\n",
    "        c -= 25\n",
    "        ans[0] += 1\n",
    "    while c >= 10:\n",
    "        c -= 10\n",
    "        ans[1] += 1\n",
    "    while c >= 5:\n",
    "        c -= 5\n",
    "        ans[2] += 1\n",
    "    while c>= 1:\n",
    "        c -= 1\n",
    "        ans[3] += 1\n",
    "    for i in ans:\n",
    "        print(i, end = ' ')\n",
    "    print()"
   ]
  }
 ],
 "metadata": {
  "kernelspec": {
   "display_name": "Python 3",
   "language": "python",
   "name": "python3"
  },
  "language_info": {
   "codemirror_mode": {
    "name": "ipython",
    "version": 3
   },
   "file_extension": ".py",
   "mimetype": "text/x-python",
   "name": "python",
   "nbconvert_exporter": "python",
   "pygments_lexer": "ipython3",
   "version": "3.6.9"
  }
 },
 "nbformat": 4,
 "nbformat_minor": 2
}
