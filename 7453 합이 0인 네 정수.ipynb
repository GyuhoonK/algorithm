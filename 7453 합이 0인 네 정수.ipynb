{
 "cells": [
  {
   "cell_type": "markdown",
   "metadata": {},
   "source": [
    "* method 사용의 시간 복잡도를 생각하자\n",
    "* list의 count는 O(n)의 시간 복잡도를 갖는다\n",
    "* 그러나 밑에서 구현한 것 처럼, 하나하나 찾아서 1씩 더하고 빼는 경우 O(n)보다 시간 복잡도가 낮아진다"
   ]
  },
  {
   "cell_type": "code",
   "execution_count": null,
   "metadata": {},
   "outputs": [],
   "source": [
    "import sys\n",
    "\n",
    "n = int(sys.stdin.readline().strip())\n",
    "a = [0 for i in range(n)]\n",
    "b = [0 for i in range(n)]\n",
    "c = [0 for i in range(n)]\n",
    "d = [0 for i in range(n)]\n",
    "\n",
    "for i in range(n):\n",
    "    a_, b_, c_, d_ = map(int, sys.stdin.readline().strip().split())\n",
    "    a[i] = a_\n",
    "    b[i] = b_\n",
    "    c[i] = c_\n",
    "    d[i] = d_\n",
    "    \n",
    "a_b = []\n",
    "c_d = []\n",
    "\n",
    "for i in range(n):\n",
    "    for j in range(n):\n",
    "        a_b.append(a[i] + b[j])\n",
    "        c_d.append(c[i] + d[j])\n",
    "a_b.sort()\n",
    "c_d.sort()\n",
    "\n",
    "ans = 0\n",
    "left = 0\n",
    "right = len(c_d)-1\n",
    "while (left < len(a_b)) & (right >= 0):\n",
    "    check = a_b[left] + c_d[right]\n",
    "    left_ = a_b[left]\n",
    "    right_ = c_d[right]\n",
    "    if check == 0:\n",
    "        ans1 = 0\n",
    "        ans2 = 0\n",
    "        while a_b[left] == left_:\n",
    "            left += 1\n",
    "            ans1 += 1\n",
    "            if left >= len(a_b):\n",
    "                break\n",
    "        while c_d[right] == right_:\n",
    "            right -= 1\n",
    "            ans2 += 1\n",
    "            if right < 0:\n",
    "                break\n",
    "        ans += (ans1 * ans2)\n",
    "        \n",
    "    if check > 0:\n",
    "        while c_d[right] == right_:\n",
    "            right -=1\n",
    "            if right < 0:\n",
    "                break\n",
    "    if check < 0:\n",
    "        while a_b[left] == left_:\n",
    "            left += 1\n",
    "            if left >= len(a_b):\n",
    "                break\n",
    "        \n",
    "print(ans)            "
   ]
  },
  {
   "cell_type": "code",
   "execution_count": null,
   "metadata": {},
   "outputs": [],
   "source": []
  }
 ],
 "metadata": {
  "kernelspec": {
   "display_name": "Python 3",
   "language": "python",
   "name": "python3"
  },
  "language_info": {
   "codemirror_mode": {
    "name": "ipython",
    "version": 3
   },
   "file_extension": ".py",
   "mimetype": "text/x-python",
   "name": "python",
   "nbconvert_exporter": "python",
   "pygments_lexer": "ipython3",
   "version": "3.6.9"
  }
 },
 "nbformat": 4,
 "nbformat_minor": 2
}
