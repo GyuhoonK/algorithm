{
 "cells": [
  {
   "cell_type": "code",
   "execution_count": null,
   "metadata": {},
   "outputs": [],
   "source": [
    "import sys\n",
    "input = sys.stdin.readline\n",
    "N = int(input().rstrip())\n",
    "\n",
    "node = []\n",
    "visit = [[False for i in range(N)] for i in range(N)]\n",
    "nx = [0, 1, 0, -1]\n",
    "ny = [1, 0, -1, 0]\n",
    "\n",
    "for _ in range(N):\n",
    "    line = list(map(int,input().strip()))\n",
    "    node.append(line)\n",
    "\n",
    "def dfs(i,j):\n",
    "    if visit[i][j] == False : #방문하지 않았다면\n",
    "        visit[i][j] = True #방문으로 변경한다\n",
    "        for x_v, y_v in zip(nx, ny):\n",
    "            if ((i+x_v) < N) & ((j+y_v) < N) & ((i+x_v) >= 0) & ((j+y_v) >= 0) :\n",
    "                if node[i+x_v][j+y_v] == 1:\n",
    "                    dfs(i+x_v, j+y_v)\n",
    "    else : #이미 방문한 경우\n",
    "        return #함수를 종료한다\n",
    "\n",
    "classes = 0\n",
    "classes_ = [0]\n",
    "for i in range(N):\n",
    "    for j in range(N):\n",
    "        if (node[i][j] == 1)&(visit[i][j] == False):\n",
    "            classes += 1\n",
    "            dfs(i,j)\n",
    "            ans = [(i,j) for i in range(N) for j in range(N) if visit[i][j] == True]\n",
    "            classes_.append(len(ans) - sum(classes_))\n",
    "print(classes)\n",
    "classes_.sort()\n",
    "for i in classes_[1:]:\n",
    "    print(i)\n",
    "          \n"
   ]
  }
 ],
 "metadata": {
  "kernelspec": {
   "display_name": "Python 3",
   "language": "python",
   "name": "python3"
  },
  "language_info": {
   "codemirror_mode": {
    "name": "ipython",
    "version": 3
   },
   "file_extension": ".py",
   "mimetype": "text/x-python",
   "name": "python",
   "nbconvert_exporter": "python",
   "pygments_lexer": "ipython3",
   "version": "3.6.9"
  }
 },
 "nbformat": 4,
 "nbformat_minor": 2
}
