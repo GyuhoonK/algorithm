{
 "cells": [
  {
   "cell_type": "code",
   "execution_count": null,
   "metadata": {},
   "outputs": [],
   "source": [
    "import sys\n",
    "from heapq import *\n",
    "input = sys.stdin.readline\n",
    "\n",
    "def dik(node, start):\n",
    "    pre = [-1 for i in range(len(node))]\n",
    "    dist = [10e10 for i in range(len(node))]\n",
    "    dist[start] = 0\n",
    "    h = []\n",
    "    \n",
    "    heappush(h, [0, start])\n",
    "    while not len(h) == 0:\n",
    "        W, U = heappop(h) # 'start' is the firt popped\n",
    "        for V, L in node[U]: # V : neighbors of U\n",
    "            tmp = W + L # tmp ; the cost of path thourgh U to V\n",
    "            if tmp < dist[V] : #dist[V][0] : weight from start to V\n",
    "                dist[V] = tmp\n",
    "                pre[V] = U # pre[V] : NODE before visitting V by minimun path\n",
    "                heappush(h, [dist[V], V])\n",
    "    return dist#, pre\n",
    "\n",
    "T = int(input().rstrip()) #test case \n",
    "\n",
    "for _ in range(T):\n",
    "    n,m,t = map(int, list(input().rstrip().split(' ')))\n",
    "    s,g,h = map(int, list(input().rstrip().split(' ')))\n",
    "    fixed = (g,h)\n",
    "    node = [[] for i in range(n+1)]\n",
    "    for _ in ranges(m) : # edge 입력\n",
    "        i,j,w = map(int, list(input().rstrip().split(' ')))\n",
    "        if ((g,h) == (i,j)) | ((g,h) == (j,i)):\n",
    "            #지정된 edge를 지나가면, cost에서 detection이 되도록하는 skill!!!!\n",
    "            node[i].append([j, w-0.5])\n",
    "            node[j].append([i, w-0.5])\n",
    "        else : \n",
    "            node[i].append([j, w])\n",
    "            node[j].append([i, w])\n",
    "    dest = []\n",
    "    for _ in range(t):\n",
    "        d = int(input().rstrip())\n",
    "        dest.append(d)\n",
    "    '''\n",
    "    minimum path가 해당 edge를 포함하는가?\n",
    "    '''\n",
    "    ans = []\n",
    "    for d in dest:\n",
    "        dist = dik(node, s)\n",
    "        \n",
    "        if (dist[d] != 10e10) & (dist[d] != int(dist[d])):\n",
    "            ans.append(d)\n",
    "    print(' '.join(map(str, sorted(ans))))"
   ]
  },
  {
   "cell_type": "code",
   "execution_count": 4,
   "metadata": {},
   "outputs": [],
   "source": [
    "from heapq import *"
   ]
  },
  {
   "cell_type": "code",
   "execution_count": 28,
   "metadata": {},
   "outputs": [
    {
     "name": "stdout",
     "output_type": "stream",
     "text": [
      "[ 1 ,   2 ,   3 ,   4 ,   5 ]\n"
     ]
    }
   ],
   "source": [
    "a = [1,2,3,4,5]\n",
    "print(' '.join(str(a)))"
   ]
  },
  {
   "cell_type": "code",
   "execution_count": 25,
   "metadata": {},
   "outputs": [
    {
     "data": {
      "text/plain": [
       "[1, 2, 3, 4, 5]"
      ]
     },
     "execution_count": 25,
     "metadata": {},
     "output_type": "execute_result"
    }
   ],
   "source": [
    "sorted(a)"
   ]
  },
  {
   "cell_type": "code",
   "execution_count": 30,
   "metadata": {},
   "outputs": [
    {
     "name": "stdout",
     "output_type": "stream",
     "text": [
      "1 2 3 4 5\n"
     ]
    }
   ],
   "source": [
    "print(' '.join(map(str,a)))"
   ]
  },
  {
   "cell_type": "code",
   "execution_count": null,
   "metadata": {},
   "outputs": [],
   "source": []
  }
 ],
 "metadata": {
  "kernelspec": {
   "display_name": "Python 3",
   "language": "python",
   "name": "python3"
  },
  "language_info": {
   "codemirror_mode": {
    "name": "ipython",
    "version": 3
   },
   "file_extension": ".py",
   "mimetype": "text/x-python",
   "name": "python",
   "nbconvert_exporter": "python",
   "pygments_lexer": "ipython3",
   "version": "3.6.9"
  }
 },
 "nbformat": 4,
 "nbformat_minor": 2
}
