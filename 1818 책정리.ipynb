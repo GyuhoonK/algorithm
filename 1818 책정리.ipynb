{
 "cells": [
  {
   "cell_type": "code",
   "execution_count": 1,
   "metadata": {},
   "outputs": [],
   "source": [
    "import sys"
   ]
  },
  {
   "cell_type": "code",
   "execution_count": 2,
   "metadata": {},
   "outputs": [
    {
     "ename": "SyntaxError",
     "evalue": "invalid syntax (<ipython-input-2-8a6000e5cfc9>, line 9)",
     "output_type": "error",
     "traceback": [
      "\u001b[1;36m  File \u001b[1;32m\"<ipython-input-2-8a6000e5cfc9>\"\u001b[1;36m, line \u001b[1;32m9\u001b[0m\n\u001b[1;33m    if (t[i] > t[j] && d[i] < d[j] +1):\u001b[0m\n\u001b[1;37m                     ^\u001b[0m\n\u001b[1;31mSyntaxError\u001b[0m\u001b[1;31m:\u001b[0m invalid syntax\n"
     ]
    }
   ],
   "source": [
    "n = int(sys.stdin.readline())\n",
    "t = list(map(int,sys.stdin.readline().split()))\n",
    "\n",
    "def lis(n,t):\n",
    "    d = []\n",
    "    for i in range(n):\n",
    "        d.append(1)\n",
    "        for j in range(i):\n",
    "            if ((t[i] > t[j]) & (d[i] < d[j] + 1)):\n",
    "                d[i] = d[j] +1;\n",
    "                if d[i] > n:\n",
    "                    return d[i]\n",
    "    return max(d)\n",
    "\n",
    "print(n - lis(n,t))"
   ]
  },
  {
   "cell_type": "code",
   "execution_count": 18,
   "metadata": {},
   "outputs": [],
   "source": [
    "def lower_bound(t, a):\n",
    "    for i in range(len(t)):\n",
    "        if (t[i] < a ) and (a < t[i+1]):\n",
    "            return i+1\n",
    "        if t[i] == a:\n",
    "            return i\n",
    "\n",
    "n = int(sys.stdin.readline())\n",
    "t = list(map(int,sys.stdin.readline().split()))\n",
    "ans = [0]\n",
    "\n",
    "for i in range(n):\n",
    "    if ans[len(ans)-1] < t[i] :\n",
    "        ans.append(t[i])\n",
    "    else :\n",
    "        pos = lower_bound(ans,t[i])\n",
    "        ans[pos] = t[i]\n",
    "print(n - len(ans) +1)"
   ]
  },
  {
   "cell_type": "code",
   "execution_count": 21,
   "metadata": {},
   "outputs": [
    {
     "data": {
      "text/plain": [
       "4"
      ]
     },
     "execution_count": 21,
     "metadata": {},
     "output_type": "execute_result"
    }
   ],
   "source": [
    "a = [1,3,5,7,9]\n",
    "lower_bound(a,8)"
   ]
  },
  {
   "cell_type": "code",
   "execution_count": 22,
   "metadata": {},
   "outputs": [
    {
     "ename": "IndexError",
     "evalue": "list index out of range",
     "output_type": "error",
     "traceback": [
      "\u001b[1;31m---------------------------------------------------------------------------\u001b[0m",
      "\u001b[1;31mIndexError\u001b[0m                                Traceback (most recent call last)",
      "\u001b[1;32m<ipython-input-22-836f840eaf9f>\u001b[0m in \u001b[0;36m<module>\u001b[1;34m()\u001b[0m\n\u001b[1;32m----> 1\u001b[1;33m \u001b[0ma\u001b[0m\u001b[1;33m[\u001b[0m\u001b[0mlen\u001b[0m\u001b[1;33m(\u001b[0m\u001b[0ma\u001b[0m\u001b[1;33m)\u001b[0m\u001b[1;33m]\u001b[0m\u001b[1;33m\u001b[0m\u001b[0m\n\u001b[0m",
      "\u001b[1;31mIndexError\u001b[0m: list index out of range"
     ]
    }
   ],
   "source": [
    "a[len(a)]"
   ]
  },
  {
   "cell_type": "markdown",
   "metadata": {},
   "source": [
    "20만 * 20만 case의 경우, loop가 400만회 발생하므로 4sec 정도가 소요될 수 있다."
   ]
  }
 ],
 "metadata": {
  "kernelspec": {
   "display_name": "Python 3",
   "language": "python",
   "name": "python3"
  },
  "language_info": {
   "codemirror_mode": {
    "name": "ipython",
    "version": 3
   },
   "file_extension": ".py",
   "mimetype": "text/x-python",
   "name": "python",
   "nbconvert_exporter": "python",
   "pygments_lexer": "ipython3",
   "version": "3.6.5"
  }
 },
 "nbformat": 4,
 "nbformat_minor": 2
}
