{
 "cells": [
  {
   "cell_type": "code",
   "execution_count": 4,
   "metadata": {},
   "outputs": [],
   "source": [
    "import sys\n",
    "from math import inf\n",
    "from queue import PriorityQueue"
   ]
  },
  {
   "cell_type": "code",
   "execution_count": null,
   "metadata": {},
   "outputs": [],
   "source": [
    "n = int(sys.stdin.readline().strip())\n",
    "m = int(sys.stdin.readline().strip())\n",
    "node = [[] for i in range(n+1)]\n",
    "dist = [inf for i in range(n+1)]\n",
    "for i in range(m):\n",
    "    u, v, c = map(int, sys.stdin.readline().strip().split())\n",
    "    node[u].append([c,v])\n",
    "start, end = map(int, sys.stdin.readline().split())\n",
    "dist[start] = 0\n",
    "Q = PriorityQueue()\n",
    "Q.put([dist[start],start])\n",
    "while not Q.empty():\n",
    "    cur_dist, cur_node = Q.get()\n",
    "    for edge in node[cur_node]:\n",
    "        cost, next_node = edge\n",
    "        if dist[next_node] > cur_dist + cost :\n",
    "            dist[next_node] = cur_dist + cost\n",
    "            Q.put([dist[next_node], next_node])\n",
    "print(dist[end])"
   ]
  }
 ],
 "metadata": {
  "kernelspec": {
   "display_name": "Python 3",
   "language": "python",
   "name": "python3"
  },
  "language_info": {
   "codemirror_mode": {
    "name": "ipython",
    "version": 3
   },
   "file_extension": ".py",
   "mimetype": "text/x-python",
   "name": "python",
   "nbconvert_exporter": "python",
   "pygments_lexer": "ipython3",
   "version": "3.6.9"
  }
 },
 "nbformat": 4,
 "nbformat_minor": 2
}
