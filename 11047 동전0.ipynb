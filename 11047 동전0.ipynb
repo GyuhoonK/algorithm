{
 "cells": [
  {
   "cell_type": "code",
   "execution_count": null,
   "metadata": {},
   "outputs": [],
   "source": [
    "import sys\n",
    "n,k = map(int, sys.stdin.readline().strip().split())\n",
    "coin = []\n",
    "for i in range(n):\n",
    "    tmp = int(sys.stdin.readline().strip().split())\n",
    "    coin.append(tmp)\n",
    "coin.reverse()\n",
    "ans = 0\n",
    "\n",
    "for i in range(len(coin)):\n",
    "    while coin[i] < n:\n",
    "        n = n - coin[i]\n",
    "        ans += 1\n",
    "print(ans)"
   ]
  }
 ],
 "metadata": {
  "kernelspec": {
   "display_name": "Python 3",
   "language": "python",
   "name": "python3"
  },
  "language_info": {
   "codemirror_mode": {
    "name": "ipython",
    "version": 3
   },
   "file_extension": ".py",
   "mimetype": "text/x-python",
   "name": "python",
   "nbconvert_exporter": "python",
   "pygments_lexer": "ipython3",
   "version": "3.6.9"
  }
 },
 "nbformat": 4,
 "nbformat_minor": 2
}
